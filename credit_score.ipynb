{
  "nbformat": 4,
  "nbformat_minor": 0,
  "metadata": {
    "colab": {
      "provenance": [],
      "authorship_tag": "ABX9TyNzAbPNmwqcNO2zQ1F/gFzH",
      "include_colab_link": true
    },
    "kernelspec": {
      "name": "python3",
      "display_name": "Python 3"
    },
    "language_info": {
      "name": "python"
    }
  },
  "cells": [
    {
      "cell_type": "markdown",
      "metadata": {
        "id": "view-in-github",
        "colab_type": "text"
      },
      "source": [
        "<a href=\"https://colab.research.google.com/github/SLMath/Credit_Score-Analysis/blob/eda_matheus/credit_score.ipynb\" target=\"_parent\"><img src=\"https://colab.research.google.com/assets/colab-badge.svg\" alt=\"Open In Colab\"/></a>"
      ]
    },
    {
      "cell_type": "markdown",
      "source": [
        "# Importar Dados"
      ],
      "metadata": {
        "id": "InPL-vBRgPRn"
      }
    },
    {
      "cell_type": "code",
      "execution_count": 202,
      "metadata": {
        "id": "RRwhS-_xRwlU"
      },
      "outputs": [],
      "source": [
        "import pandas as pd\n",
        "import numpy as np"
      ]
    },
    {
      "cell_type": "code",
      "source": [
        "data_df = pd.read_csv('https://github.com/SLMath/Credit_Score-Analysis/raw/main/data/train.csv')\n",
        "print(data_df.shape)\n",
        "data_df.head()"
      ],
      "metadata": {
        "colab": {
          "base_uri": "https://localhost:8080/",
          "height": 508
        },
        "id": "_3Te5oRgSzFm",
        "outputId": "b38c472d-b46d-4489-de80-bf25b5f45fb9"
      },
      "execution_count": 203,
      "outputs": [
        {
          "output_type": "stream",
          "name": "stdout",
          "text": [
            "(100000, 28)\n"
          ]
        },
        {
          "output_type": "stream",
          "name": "stderr",
          "text": [
            "<ipython-input-203-f5e0b1df3013>:1: DtypeWarning: Columns (26) have mixed types. Specify dtype option on import or set low_memory=False.\n",
            "  data_df = pd.read_csv('https://github.com/SLMath/Credit_Score-Analysis/raw/main/data/train.csv')\n"
          ]
        },
        {
          "output_type": "execute_result",
          "data": {
            "text/plain": [
              "       ID Customer_ID     Month           Name   Age          SSN Occupation  \\\n",
              "0  0x1602   CUS_0xd40   January  Aaron Maashoh    23  821-00-0265  Scientist   \n",
              "1  0x1603   CUS_0xd40  February  Aaron Maashoh    23  821-00-0265  Scientist   \n",
              "2  0x1604   CUS_0xd40     March  Aaron Maashoh  -500  821-00-0265  Scientist   \n",
              "3  0x1605   CUS_0xd40     April  Aaron Maashoh    23  821-00-0265  Scientist   \n",
              "4  0x1606   CUS_0xd40       May  Aaron Maashoh    23  821-00-0265  Scientist   \n",
              "\n",
              "  Annual_Income  Monthly_Inhand_Salary  Num_Bank_Accounts  ...  Credit_Mix  \\\n",
              "0      19114.12            1824.843333                  3  ...           _   \n",
              "1      19114.12                    NaN                  3  ...        Good   \n",
              "2      19114.12                    NaN                  3  ...        Good   \n",
              "3      19114.12                    NaN                  3  ...        Good   \n",
              "4      19114.12            1824.843333                  3  ...        Good   \n",
              "\n",
              "   Outstanding_Debt Credit_Utilization_Ratio     Credit_History_Age  \\\n",
              "0            809.98                26.822620  22 Years and 1 Months   \n",
              "1            809.98                31.944960                    NaN   \n",
              "2            809.98                28.609352  22 Years and 3 Months   \n",
              "3            809.98                31.377862  22 Years and 4 Months   \n",
              "4            809.98                24.797347  22 Years and 5 Months   \n",
              "\n",
              "   Payment_of_Min_Amount Total_EMI_per_month Amount_invested_monthly  \\\n",
              "0                     No           49.574949       80.41529543900253   \n",
              "1                     No           49.574949      118.28022162236736   \n",
              "2                     No           49.574949         81.699521264648   \n",
              "3                     No           49.574949       199.4580743910713   \n",
              "4                     No           49.574949      41.420153086217326   \n",
              "\n",
              "                  Payment_Behaviour     Monthly_Balance Credit_Score  \n",
              "0   High_spent_Small_value_payments  312.49408867943663         Good  \n",
              "1    Low_spent_Large_value_payments  284.62916249607184         Good  \n",
              "2   Low_spent_Medium_value_payments   331.2098628537912         Good  \n",
              "3    Low_spent_Small_value_payments  223.45130972736786         Good  \n",
              "4  High_spent_Medium_value_payments  341.48923103222177         Good  \n",
              "\n",
              "[5 rows x 28 columns]"
            ],
            "text/html": [
              "\n",
              "  <div id=\"df-10452f8d-23dd-47ad-9695-0c3c2ab5f41d\">\n",
              "    <div class=\"colab-df-container\">\n",
              "      <div>\n",
              "<style scoped>\n",
              "    .dataframe tbody tr th:only-of-type {\n",
              "        vertical-align: middle;\n",
              "    }\n",
              "\n",
              "    .dataframe tbody tr th {\n",
              "        vertical-align: top;\n",
              "    }\n",
              "\n",
              "    .dataframe thead th {\n",
              "        text-align: right;\n",
              "    }\n",
              "</style>\n",
              "<table border=\"1\" class=\"dataframe\">\n",
              "  <thead>\n",
              "    <tr style=\"text-align: right;\">\n",
              "      <th></th>\n",
              "      <th>ID</th>\n",
              "      <th>Customer_ID</th>\n",
              "      <th>Month</th>\n",
              "      <th>Name</th>\n",
              "      <th>Age</th>\n",
              "      <th>SSN</th>\n",
              "      <th>Occupation</th>\n",
              "      <th>Annual_Income</th>\n",
              "      <th>Monthly_Inhand_Salary</th>\n",
              "      <th>Num_Bank_Accounts</th>\n",
              "      <th>...</th>\n",
              "      <th>Credit_Mix</th>\n",
              "      <th>Outstanding_Debt</th>\n",
              "      <th>Credit_Utilization_Ratio</th>\n",
              "      <th>Credit_History_Age</th>\n",
              "      <th>Payment_of_Min_Amount</th>\n",
              "      <th>Total_EMI_per_month</th>\n",
              "      <th>Amount_invested_monthly</th>\n",
              "      <th>Payment_Behaviour</th>\n",
              "      <th>Monthly_Balance</th>\n",
              "      <th>Credit_Score</th>\n",
              "    </tr>\n",
              "  </thead>\n",
              "  <tbody>\n",
              "    <tr>\n",
              "      <th>0</th>\n",
              "      <td>0x1602</td>\n",
              "      <td>CUS_0xd40</td>\n",
              "      <td>January</td>\n",
              "      <td>Aaron Maashoh</td>\n",
              "      <td>23</td>\n",
              "      <td>821-00-0265</td>\n",
              "      <td>Scientist</td>\n",
              "      <td>19114.12</td>\n",
              "      <td>1824.843333</td>\n",
              "      <td>3</td>\n",
              "      <td>...</td>\n",
              "      <td>_</td>\n",
              "      <td>809.98</td>\n",
              "      <td>26.822620</td>\n",
              "      <td>22 Years and 1 Months</td>\n",
              "      <td>No</td>\n",
              "      <td>49.574949</td>\n",
              "      <td>80.41529543900253</td>\n",
              "      <td>High_spent_Small_value_payments</td>\n",
              "      <td>312.49408867943663</td>\n",
              "      <td>Good</td>\n",
              "    </tr>\n",
              "    <tr>\n",
              "      <th>1</th>\n",
              "      <td>0x1603</td>\n",
              "      <td>CUS_0xd40</td>\n",
              "      <td>February</td>\n",
              "      <td>Aaron Maashoh</td>\n",
              "      <td>23</td>\n",
              "      <td>821-00-0265</td>\n",
              "      <td>Scientist</td>\n",
              "      <td>19114.12</td>\n",
              "      <td>NaN</td>\n",
              "      <td>3</td>\n",
              "      <td>...</td>\n",
              "      <td>Good</td>\n",
              "      <td>809.98</td>\n",
              "      <td>31.944960</td>\n",
              "      <td>NaN</td>\n",
              "      <td>No</td>\n",
              "      <td>49.574949</td>\n",
              "      <td>118.28022162236736</td>\n",
              "      <td>Low_spent_Large_value_payments</td>\n",
              "      <td>284.62916249607184</td>\n",
              "      <td>Good</td>\n",
              "    </tr>\n",
              "    <tr>\n",
              "      <th>2</th>\n",
              "      <td>0x1604</td>\n",
              "      <td>CUS_0xd40</td>\n",
              "      <td>March</td>\n",
              "      <td>Aaron Maashoh</td>\n",
              "      <td>-500</td>\n",
              "      <td>821-00-0265</td>\n",
              "      <td>Scientist</td>\n",
              "      <td>19114.12</td>\n",
              "      <td>NaN</td>\n",
              "      <td>3</td>\n",
              "      <td>...</td>\n",
              "      <td>Good</td>\n",
              "      <td>809.98</td>\n",
              "      <td>28.609352</td>\n",
              "      <td>22 Years and 3 Months</td>\n",
              "      <td>No</td>\n",
              "      <td>49.574949</td>\n",
              "      <td>81.699521264648</td>\n",
              "      <td>Low_spent_Medium_value_payments</td>\n",
              "      <td>331.2098628537912</td>\n",
              "      <td>Good</td>\n",
              "    </tr>\n",
              "    <tr>\n",
              "      <th>3</th>\n",
              "      <td>0x1605</td>\n",
              "      <td>CUS_0xd40</td>\n",
              "      <td>April</td>\n",
              "      <td>Aaron Maashoh</td>\n",
              "      <td>23</td>\n",
              "      <td>821-00-0265</td>\n",
              "      <td>Scientist</td>\n",
              "      <td>19114.12</td>\n",
              "      <td>NaN</td>\n",
              "      <td>3</td>\n",
              "      <td>...</td>\n",
              "      <td>Good</td>\n",
              "      <td>809.98</td>\n",
              "      <td>31.377862</td>\n",
              "      <td>22 Years and 4 Months</td>\n",
              "      <td>No</td>\n",
              "      <td>49.574949</td>\n",
              "      <td>199.4580743910713</td>\n",
              "      <td>Low_spent_Small_value_payments</td>\n",
              "      <td>223.45130972736786</td>\n",
              "      <td>Good</td>\n",
              "    </tr>\n",
              "    <tr>\n",
              "      <th>4</th>\n",
              "      <td>0x1606</td>\n",
              "      <td>CUS_0xd40</td>\n",
              "      <td>May</td>\n",
              "      <td>Aaron Maashoh</td>\n",
              "      <td>23</td>\n",
              "      <td>821-00-0265</td>\n",
              "      <td>Scientist</td>\n",
              "      <td>19114.12</td>\n",
              "      <td>1824.843333</td>\n",
              "      <td>3</td>\n",
              "      <td>...</td>\n",
              "      <td>Good</td>\n",
              "      <td>809.98</td>\n",
              "      <td>24.797347</td>\n",
              "      <td>22 Years and 5 Months</td>\n",
              "      <td>No</td>\n",
              "      <td>49.574949</td>\n",
              "      <td>41.420153086217326</td>\n",
              "      <td>High_spent_Medium_value_payments</td>\n",
              "      <td>341.48923103222177</td>\n",
              "      <td>Good</td>\n",
              "    </tr>\n",
              "  </tbody>\n",
              "</table>\n",
              "<p>5 rows × 28 columns</p>\n",
              "</div>\n",
              "      <button class=\"colab-df-convert\" onclick=\"convertToInteractive('df-10452f8d-23dd-47ad-9695-0c3c2ab5f41d')\"\n",
              "              title=\"Convert this dataframe to an interactive table.\"\n",
              "              style=\"display:none;\">\n",
              "        \n",
              "  <svg xmlns=\"http://www.w3.org/2000/svg\" height=\"24px\"viewBox=\"0 0 24 24\"\n",
              "       width=\"24px\">\n",
              "    <path d=\"M0 0h24v24H0V0z\" fill=\"none\"/>\n",
              "    <path d=\"M18.56 5.44l.94 2.06.94-2.06 2.06-.94-2.06-.94-.94-2.06-.94 2.06-2.06.94zm-11 1L8.5 8.5l.94-2.06 2.06-.94-2.06-.94L8.5 2.5l-.94 2.06-2.06.94zm10 10l.94 2.06.94-2.06 2.06-.94-2.06-.94-.94-2.06-.94 2.06-2.06.94z\"/><path d=\"M17.41 7.96l-1.37-1.37c-.4-.4-.92-.59-1.43-.59-.52 0-1.04.2-1.43.59L10.3 9.45l-7.72 7.72c-.78.78-.78 2.05 0 2.83L4 21.41c.39.39.9.59 1.41.59.51 0 1.02-.2 1.41-.59l7.78-7.78 2.81-2.81c.8-.78.8-2.07 0-2.86zM5.41 20L4 18.59l7.72-7.72 1.47 1.35L5.41 20z\"/>\n",
              "  </svg>\n",
              "      </button>\n",
              "      \n",
              "  <style>\n",
              "    .colab-df-container {\n",
              "      display:flex;\n",
              "      flex-wrap:wrap;\n",
              "      gap: 12px;\n",
              "    }\n",
              "\n",
              "    .colab-df-convert {\n",
              "      background-color: #E8F0FE;\n",
              "      border: none;\n",
              "      border-radius: 50%;\n",
              "      cursor: pointer;\n",
              "      display: none;\n",
              "      fill: #1967D2;\n",
              "      height: 32px;\n",
              "      padding: 0 0 0 0;\n",
              "      width: 32px;\n",
              "    }\n",
              "\n",
              "    .colab-df-convert:hover {\n",
              "      background-color: #E2EBFA;\n",
              "      box-shadow: 0px 1px 2px rgba(60, 64, 67, 0.3), 0px 1px 3px 1px rgba(60, 64, 67, 0.15);\n",
              "      fill: #174EA6;\n",
              "    }\n",
              "\n",
              "    [theme=dark] .colab-df-convert {\n",
              "      background-color: #3B4455;\n",
              "      fill: #D2E3FC;\n",
              "    }\n",
              "\n",
              "    [theme=dark] .colab-df-convert:hover {\n",
              "      background-color: #434B5C;\n",
              "      box-shadow: 0px 1px 3px 1px rgba(0, 0, 0, 0.15);\n",
              "      filter: drop-shadow(0px 1px 2px rgba(0, 0, 0, 0.3));\n",
              "      fill: #FFFFFF;\n",
              "    }\n",
              "  </style>\n",
              "\n",
              "      <script>\n",
              "        const buttonEl =\n",
              "          document.querySelector('#df-10452f8d-23dd-47ad-9695-0c3c2ab5f41d button.colab-df-convert');\n",
              "        buttonEl.style.display =\n",
              "          google.colab.kernel.accessAllowed ? 'block' : 'none';\n",
              "\n",
              "        async function convertToInteractive(key) {\n",
              "          const element = document.querySelector('#df-10452f8d-23dd-47ad-9695-0c3c2ab5f41d');\n",
              "          const dataTable =\n",
              "            await google.colab.kernel.invokeFunction('convertToInteractive',\n",
              "                                                     [key], {});\n",
              "          if (!dataTable) return;\n",
              "\n",
              "          const docLinkHtml = 'Like what you see? Visit the ' +\n",
              "            '<a target=\"_blank\" href=https://colab.research.google.com/notebooks/data_table.ipynb>data table notebook</a>'\n",
              "            + ' to learn more about interactive tables.';\n",
              "          element.innerHTML = '';\n",
              "          dataTable['output_type'] = 'display_data';\n",
              "          await google.colab.output.renderOutput(dataTable, element);\n",
              "          const docLink = document.createElement('div');\n",
              "          docLink.innerHTML = docLinkHtml;\n",
              "          element.appendChild(docLink);\n",
              "        }\n",
              "      </script>\n",
              "    </div>\n",
              "  </div>\n",
              "  "
            ]
          },
          "metadata": {},
          "execution_count": 203
        }
      ]
    },
    {
      "cell_type": "code",
      "source": [
        "aval_df = pd.read_csv('https://github.com/SLMath/Credit_Score-Analysis/raw/main/data/test.csv')\n",
        "print(aval_df.shape)\n",
        "aval_df.head()"
      ],
      "metadata": {
        "colab": {
          "base_uri": "https://localhost:8080/",
          "height": 475
        },
        "id": "nqQhflrIS7-a",
        "outputId": "4824cd6a-cff0-4b83-ec1c-0895584f9a59"
      },
      "execution_count": 204,
      "outputs": [
        {
          "output_type": "stream",
          "name": "stdout",
          "text": [
            "(50000, 27)\n"
          ]
        },
        {
          "output_type": "execute_result",
          "data": {
            "text/plain": [
              "       ID Customer_ID      Month             Name  Age          SSN  \\\n",
              "0  0x160a   CUS_0xd40  September    Aaron Maashoh   23  821-00-0265   \n",
              "1  0x160b   CUS_0xd40    October    Aaron Maashoh   24  821-00-0265   \n",
              "2  0x160c   CUS_0xd40   November    Aaron Maashoh   24  821-00-0265   \n",
              "3  0x160d   CUS_0xd40   December    Aaron Maashoh  24_  821-00-0265   \n",
              "4  0x1616  CUS_0x21b1  September  Rick Rothackerj   28  004-07-5839   \n",
              "\n",
              "  Occupation Annual_Income  Monthly_Inhand_Salary  Num_Bank_Accounts  ...  \\\n",
              "0  Scientist      19114.12            1824.843333                  3  ...   \n",
              "1  Scientist      19114.12            1824.843333                  3  ...   \n",
              "2  Scientist      19114.12            1824.843333                  3  ...   \n",
              "3  Scientist      19114.12                    NaN                  3  ...   \n",
              "4    _______      34847.84            3037.986667                  2  ...   \n",
              "\n",
              "   Num_Credit_Inquiries  Credit_Mix Outstanding_Debt Credit_Utilization_Ratio  \\\n",
              "0                2022.0        Good           809.98                35.030402   \n",
              "1                   4.0        Good           809.98                33.053114   \n",
              "2                   4.0        Good           809.98                33.811894   \n",
              "3                   4.0        Good           809.98                32.430559   \n",
              "4                   5.0        Good           605.03                25.926822   \n",
              "\n",
              "       Credit_History_Age Payment_of_Min_Amount Total_EMI_per_month  \\\n",
              "0   22 Years and 9 Months                    No           49.574949   \n",
              "1  22 Years and 10 Months                    No           49.574949   \n",
              "2                     NaN                    No           49.574949   \n",
              "3   23 Years and 0 Months                    No           49.574949   \n",
              "4   27 Years and 3 Months                    No           18.816215   \n",
              "\n",
              "   Amount_invested_monthly                 Payment_Behaviour  \\\n",
              "0       236.64268203272135    Low_spent_Small_value_payments   \n",
              "1       21.465380264657146  High_spent_Medium_value_payments   \n",
              "2       148.23393788500925   Low_spent_Medium_value_payments   \n",
              "3        39.08251089460281  High_spent_Medium_value_payments   \n",
              "4       39.684018417945296   High_spent_Large_value_payments   \n",
              "\n",
              "      Monthly_Balance  \n",
              "0  186.26670208571772  \n",
              "1  361.44400385378196  \n",
              "2  264.67544623342997  \n",
              "3  343.82687322383634  \n",
              "4   485.2984336755923  \n",
              "\n",
              "[5 rows x 27 columns]"
            ],
            "text/html": [
              "\n",
              "  <div id=\"df-3be68e30-7b17-40b4-a09a-be9946445f9f\">\n",
              "    <div class=\"colab-df-container\">\n",
              "      <div>\n",
              "<style scoped>\n",
              "    .dataframe tbody tr th:only-of-type {\n",
              "        vertical-align: middle;\n",
              "    }\n",
              "\n",
              "    .dataframe tbody tr th {\n",
              "        vertical-align: top;\n",
              "    }\n",
              "\n",
              "    .dataframe thead th {\n",
              "        text-align: right;\n",
              "    }\n",
              "</style>\n",
              "<table border=\"1\" class=\"dataframe\">\n",
              "  <thead>\n",
              "    <tr style=\"text-align: right;\">\n",
              "      <th></th>\n",
              "      <th>ID</th>\n",
              "      <th>Customer_ID</th>\n",
              "      <th>Month</th>\n",
              "      <th>Name</th>\n",
              "      <th>Age</th>\n",
              "      <th>SSN</th>\n",
              "      <th>Occupation</th>\n",
              "      <th>Annual_Income</th>\n",
              "      <th>Monthly_Inhand_Salary</th>\n",
              "      <th>Num_Bank_Accounts</th>\n",
              "      <th>...</th>\n",
              "      <th>Num_Credit_Inquiries</th>\n",
              "      <th>Credit_Mix</th>\n",
              "      <th>Outstanding_Debt</th>\n",
              "      <th>Credit_Utilization_Ratio</th>\n",
              "      <th>Credit_History_Age</th>\n",
              "      <th>Payment_of_Min_Amount</th>\n",
              "      <th>Total_EMI_per_month</th>\n",
              "      <th>Amount_invested_monthly</th>\n",
              "      <th>Payment_Behaviour</th>\n",
              "      <th>Monthly_Balance</th>\n",
              "    </tr>\n",
              "  </thead>\n",
              "  <tbody>\n",
              "    <tr>\n",
              "      <th>0</th>\n",
              "      <td>0x160a</td>\n",
              "      <td>CUS_0xd40</td>\n",
              "      <td>September</td>\n",
              "      <td>Aaron Maashoh</td>\n",
              "      <td>23</td>\n",
              "      <td>821-00-0265</td>\n",
              "      <td>Scientist</td>\n",
              "      <td>19114.12</td>\n",
              "      <td>1824.843333</td>\n",
              "      <td>3</td>\n",
              "      <td>...</td>\n",
              "      <td>2022.0</td>\n",
              "      <td>Good</td>\n",
              "      <td>809.98</td>\n",
              "      <td>35.030402</td>\n",
              "      <td>22 Years and 9 Months</td>\n",
              "      <td>No</td>\n",
              "      <td>49.574949</td>\n",
              "      <td>236.64268203272135</td>\n",
              "      <td>Low_spent_Small_value_payments</td>\n",
              "      <td>186.26670208571772</td>\n",
              "    </tr>\n",
              "    <tr>\n",
              "      <th>1</th>\n",
              "      <td>0x160b</td>\n",
              "      <td>CUS_0xd40</td>\n",
              "      <td>October</td>\n",
              "      <td>Aaron Maashoh</td>\n",
              "      <td>24</td>\n",
              "      <td>821-00-0265</td>\n",
              "      <td>Scientist</td>\n",
              "      <td>19114.12</td>\n",
              "      <td>1824.843333</td>\n",
              "      <td>3</td>\n",
              "      <td>...</td>\n",
              "      <td>4.0</td>\n",
              "      <td>Good</td>\n",
              "      <td>809.98</td>\n",
              "      <td>33.053114</td>\n",
              "      <td>22 Years and 10 Months</td>\n",
              "      <td>No</td>\n",
              "      <td>49.574949</td>\n",
              "      <td>21.465380264657146</td>\n",
              "      <td>High_spent_Medium_value_payments</td>\n",
              "      <td>361.44400385378196</td>\n",
              "    </tr>\n",
              "    <tr>\n",
              "      <th>2</th>\n",
              "      <td>0x160c</td>\n",
              "      <td>CUS_0xd40</td>\n",
              "      <td>November</td>\n",
              "      <td>Aaron Maashoh</td>\n",
              "      <td>24</td>\n",
              "      <td>821-00-0265</td>\n",
              "      <td>Scientist</td>\n",
              "      <td>19114.12</td>\n",
              "      <td>1824.843333</td>\n",
              "      <td>3</td>\n",
              "      <td>...</td>\n",
              "      <td>4.0</td>\n",
              "      <td>Good</td>\n",
              "      <td>809.98</td>\n",
              "      <td>33.811894</td>\n",
              "      <td>NaN</td>\n",
              "      <td>No</td>\n",
              "      <td>49.574949</td>\n",
              "      <td>148.23393788500925</td>\n",
              "      <td>Low_spent_Medium_value_payments</td>\n",
              "      <td>264.67544623342997</td>\n",
              "    </tr>\n",
              "    <tr>\n",
              "      <th>3</th>\n",
              "      <td>0x160d</td>\n",
              "      <td>CUS_0xd40</td>\n",
              "      <td>December</td>\n",
              "      <td>Aaron Maashoh</td>\n",
              "      <td>24_</td>\n",
              "      <td>821-00-0265</td>\n",
              "      <td>Scientist</td>\n",
              "      <td>19114.12</td>\n",
              "      <td>NaN</td>\n",
              "      <td>3</td>\n",
              "      <td>...</td>\n",
              "      <td>4.0</td>\n",
              "      <td>Good</td>\n",
              "      <td>809.98</td>\n",
              "      <td>32.430559</td>\n",
              "      <td>23 Years and 0 Months</td>\n",
              "      <td>No</td>\n",
              "      <td>49.574949</td>\n",
              "      <td>39.08251089460281</td>\n",
              "      <td>High_spent_Medium_value_payments</td>\n",
              "      <td>343.82687322383634</td>\n",
              "    </tr>\n",
              "    <tr>\n",
              "      <th>4</th>\n",
              "      <td>0x1616</td>\n",
              "      <td>CUS_0x21b1</td>\n",
              "      <td>September</td>\n",
              "      <td>Rick Rothackerj</td>\n",
              "      <td>28</td>\n",
              "      <td>004-07-5839</td>\n",
              "      <td>_______</td>\n",
              "      <td>34847.84</td>\n",
              "      <td>3037.986667</td>\n",
              "      <td>2</td>\n",
              "      <td>...</td>\n",
              "      <td>5.0</td>\n",
              "      <td>Good</td>\n",
              "      <td>605.03</td>\n",
              "      <td>25.926822</td>\n",
              "      <td>27 Years and 3 Months</td>\n",
              "      <td>No</td>\n",
              "      <td>18.816215</td>\n",
              "      <td>39.684018417945296</td>\n",
              "      <td>High_spent_Large_value_payments</td>\n",
              "      <td>485.2984336755923</td>\n",
              "    </tr>\n",
              "  </tbody>\n",
              "</table>\n",
              "<p>5 rows × 27 columns</p>\n",
              "</div>\n",
              "      <button class=\"colab-df-convert\" onclick=\"convertToInteractive('df-3be68e30-7b17-40b4-a09a-be9946445f9f')\"\n",
              "              title=\"Convert this dataframe to an interactive table.\"\n",
              "              style=\"display:none;\">\n",
              "        \n",
              "  <svg xmlns=\"http://www.w3.org/2000/svg\" height=\"24px\"viewBox=\"0 0 24 24\"\n",
              "       width=\"24px\">\n",
              "    <path d=\"M0 0h24v24H0V0z\" fill=\"none\"/>\n",
              "    <path d=\"M18.56 5.44l.94 2.06.94-2.06 2.06-.94-2.06-.94-.94-2.06-.94 2.06-2.06.94zm-11 1L8.5 8.5l.94-2.06 2.06-.94-2.06-.94L8.5 2.5l-.94 2.06-2.06.94zm10 10l.94 2.06.94-2.06 2.06-.94-2.06-.94-.94-2.06-.94 2.06-2.06.94z\"/><path d=\"M17.41 7.96l-1.37-1.37c-.4-.4-.92-.59-1.43-.59-.52 0-1.04.2-1.43.59L10.3 9.45l-7.72 7.72c-.78.78-.78 2.05 0 2.83L4 21.41c.39.39.9.59 1.41.59.51 0 1.02-.2 1.41-.59l7.78-7.78 2.81-2.81c.8-.78.8-2.07 0-2.86zM5.41 20L4 18.59l7.72-7.72 1.47 1.35L5.41 20z\"/>\n",
              "  </svg>\n",
              "      </button>\n",
              "      \n",
              "  <style>\n",
              "    .colab-df-container {\n",
              "      display:flex;\n",
              "      flex-wrap:wrap;\n",
              "      gap: 12px;\n",
              "    }\n",
              "\n",
              "    .colab-df-convert {\n",
              "      background-color: #E8F0FE;\n",
              "      border: none;\n",
              "      border-radius: 50%;\n",
              "      cursor: pointer;\n",
              "      display: none;\n",
              "      fill: #1967D2;\n",
              "      height: 32px;\n",
              "      padding: 0 0 0 0;\n",
              "      width: 32px;\n",
              "    }\n",
              "\n",
              "    .colab-df-convert:hover {\n",
              "      background-color: #E2EBFA;\n",
              "      box-shadow: 0px 1px 2px rgba(60, 64, 67, 0.3), 0px 1px 3px 1px rgba(60, 64, 67, 0.15);\n",
              "      fill: #174EA6;\n",
              "    }\n",
              "\n",
              "    [theme=dark] .colab-df-convert {\n",
              "      background-color: #3B4455;\n",
              "      fill: #D2E3FC;\n",
              "    }\n",
              "\n",
              "    [theme=dark] .colab-df-convert:hover {\n",
              "      background-color: #434B5C;\n",
              "      box-shadow: 0px 1px 3px 1px rgba(0, 0, 0, 0.15);\n",
              "      filter: drop-shadow(0px 1px 2px rgba(0, 0, 0, 0.3));\n",
              "      fill: #FFFFFF;\n",
              "    }\n",
              "  </style>\n",
              "\n",
              "      <script>\n",
              "        const buttonEl =\n",
              "          document.querySelector('#df-3be68e30-7b17-40b4-a09a-be9946445f9f button.colab-df-convert');\n",
              "        buttonEl.style.display =\n",
              "          google.colab.kernel.accessAllowed ? 'block' : 'none';\n",
              "\n",
              "        async function convertToInteractive(key) {\n",
              "          const element = document.querySelector('#df-3be68e30-7b17-40b4-a09a-be9946445f9f');\n",
              "          const dataTable =\n",
              "            await google.colab.kernel.invokeFunction('convertToInteractive',\n",
              "                                                     [key], {});\n",
              "          if (!dataTable) return;\n",
              "\n",
              "          const docLinkHtml = 'Like what you see? Visit the ' +\n",
              "            '<a target=\"_blank\" href=https://colab.research.google.com/notebooks/data_table.ipynb>data table notebook</a>'\n",
              "            + ' to learn more about interactive tables.';\n",
              "          element.innerHTML = '';\n",
              "          dataTable['output_type'] = 'display_data';\n",
              "          await google.colab.output.renderOutput(dataTable, element);\n",
              "          const docLink = document.createElement('div');\n",
              "          docLink.innerHTML = docLinkHtml;\n",
              "          element.appendChild(docLink);\n",
              "        }\n",
              "      </script>\n",
              "    </div>\n",
              "  </div>\n",
              "  "
            ]
          },
          "metadata": {},
          "execution_count": 204
        }
      ]
    },
    {
      "cell_type": "markdown",
      "source": [
        "# EDA"
      ],
      "metadata": {
        "id": "u33i3bOMgEev"
      }
    },
    {
      "cell_type": "code",
      "source": [
        "import matplotlib.pyplot as plt\n",
        "import seaborn as sns\n",
        "import re"
      ],
      "metadata": {
        "id": "45_Vv9EghopZ"
      },
      "execution_count": 205,
      "outputs": []
    },
    {
      "cell_type": "code",
      "source": [
        "data_df.columns"
      ],
      "metadata": {
        "colab": {
          "base_uri": "https://localhost:8080/"
        },
        "id": "NHSKV0YRjEz9",
        "outputId": "f807402c-eeb3-411a-bc5b-df03b764ba14"
      },
      "execution_count": 206,
      "outputs": [
        {
          "output_type": "execute_result",
          "data": {
            "text/plain": [
              "Index(['ID', 'Customer_ID', 'Month', 'Name', 'Age', 'SSN', 'Occupation',\n",
              "       'Annual_Income', 'Monthly_Inhand_Salary', 'Num_Bank_Accounts',\n",
              "       'Num_Credit_Card', 'Interest_Rate', 'Num_of_Loan', 'Type_of_Loan',\n",
              "       'Delay_from_due_date', 'Num_of_Delayed_Payment', 'Changed_Credit_Limit',\n",
              "       'Num_Credit_Inquiries', 'Credit_Mix', 'Outstanding_Debt',\n",
              "       'Credit_Utilization_Ratio', 'Credit_History_Age',\n",
              "       'Payment_of_Min_Amount', 'Total_EMI_per_month',\n",
              "       'Amount_invested_monthly', 'Payment_Behaviour', 'Monthly_Balance',\n",
              "       'Credit_Score'],\n",
              "      dtype='object')"
            ]
          },
          "metadata": {},
          "execution_count": 206
        }
      ]
    },
    {
      "cell_type": "markdown",
      "source": [
        "## Verificando dados irrelevantes para a análise"
      ],
      "metadata": {
        "id": "zqEwnlPz_PuC"
      }
    },
    {
      "cell_type": "code",
      "source": [
        "data_df['Customer_ID'].isna().sum()"
      ],
      "metadata": {
        "colab": {
          "base_uri": "https://localhost:8080/"
        },
        "id": "D7zf0SifjWc8",
        "outputId": "85f66327-182c-43d4-bc8b-dd8a4b02efa6"
      },
      "execution_count": 207,
      "outputs": [
        {
          "output_type": "execute_result",
          "data": {
            "text/plain": [
              "0"
            ]
          },
          "metadata": {},
          "execution_count": 207
        }
      ]
    },
    {
      "cell_type": "code",
      "source": [
        "len(data_df['Customer_ID'].unique())"
      ],
      "metadata": {
        "colab": {
          "base_uri": "https://localhost:8080/"
        },
        "id": "wCzJ9Q96kT_V",
        "outputId": "cf9cbb99-9a62-4233-c6a4-aa591858a03b"
      },
      "execution_count": 208,
      "outputs": [
        {
          "output_type": "execute_result",
          "data": {
            "text/plain": [
              "12500"
            ]
          },
          "metadata": {},
          "execution_count": 208
        }
      ]
    },
    {
      "cell_type": "code",
      "source": [
        "data_df['Customer_ID'].apply(lambda cust_prefix: not re.match('CUS_0x[1-9a-f][0-9a-f]*', cust_prefix)).sum()"
      ],
      "metadata": {
        "colab": {
          "base_uri": "https://localhost:8080/"
        },
        "id": "rDOQM7V_kpuU",
        "outputId": "2f3d5d27-6b1f-4179-bdeb-d024b70c4b26"
      },
      "execution_count": 209,
      "outputs": [
        {
          "output_type": "execute_result",
          "data": {
            "text/plain": [
              "0"
            ]
          },
          "metadata": {},
          "execution_count": 209
        }
      ]
    },
    {
      "cell_type": "markdown",
      "source": [
        "O \"ID\" é único para cada registro, portando dispensável.\n",
        "\n",
        "Como o \"Customer_ID\", \"Name\" e \"SSN\" são redundantes, manteremos apenas \"Customer_ID\" (verificado que não há nulos).\n",
        "\n",
        "Vimos que existem 12500 Customers IDs diferentes, todos com prefixo 'CUS_0x' seguido de um hexadecimal"
      ],
      "metadata": {
        "id": "e8nEtw9kji9R"
      }
    },
    {
      "cell_type": "code",
      "source": [
        "data_df = data_df.drop(columns= ['ID', 'Name', 'SSN'])"
      ],
      "metadata": {
        "id": "yeNOFK7pid4X"
      },
      "execution_count": 210,
      "outputs": []
    },
    {
      "cell_type": "code",
      "source": [
        "# Extraindo e transformando o hexadecimal em int, para melhorar o processamento e armazenamento dos dados\n",
        "data_df['Customer_ID'] = data_df['Customer_ID'].str[4:].apply(int, base=16)\n",
        "len(data_df['Customer_ID'].unique())"
      ],
      "metadata": {
        "colab": {
          "base_uri": "https://localhost:8080/"
        },
        "id": "PEdFP9U_o2qp",
        "outputId": "59e8af62-a134-484b-94bb-9fd635d157f6"
      },
      "execution_count": 211,
      "outputs": [
        {
          "output_type": "execute_result",
          "data": {
            "text/plain": [
              "12500"
            ]
          },
          "metadata": {},
          "execution_count": 211
        }
      ]
    },
    {
      "cell_type": "markdown",
      "source": [
        "Não houve perdas de customer ID"
      ],
      "metadata": {
        "id": "kyxNcMe8qTtQ"
      }
    },
    {
      "cell_type": "markdown",
      "source": [
        "## Verificando tipos de dados inconsistentes"
      ],
      "metadata": {
        "id": "pOOsDqla_VLP"
      }
    },
    {
      "cell_type": "code",
      "source": [
        "data_df.info()"
      ],
      "metadata": {
        "colab": {
          "base_uri": "https://localhost:8080/"
        },
        "id": "wazkmJU8icDw",
        "outputId": "a98bfe25-b8c1-46a2-d0a7-b22488f0bd67"
      },
      "execution_count": 212,
      "outputs": [
        {
          "output_type": "stream",
          "name": "stdout",
          "text": [
            "<class 'pandas.core.frame.DataFrame'>\n",
            "RangeIndex: 100000 entries, 0 to 99999\n",
            "Data columns (total 25 columns):\n",
            " #   Column                    Non-Null Count   Dtype  \n",
            "---  ------                    --------------   -----  \n",
            " 0   Customer_ID               100000 non-null  int64  \n",
            " 1   Month                     100000 non-null  object \n",
            " 2   Age                       100000 non-null  object \n",
            " 3   Occupation                100000 non-null  object \n",
            " 4   Annual_Income             100000 non-null  object \n",
            " 5   Monthly_Inhand_Salary     84998 non-null   float64\n",
            " 6   Num_Bank_Accounts         100000 non-null  int64  \n",
            " 7   Num_Credit_Card           100000 non-null  int64  \n",
            " 8   Interest_Rate             100000 non-null  int64  \n",
            " 9   Num_of_Loan               100000 non-null  object \n",
            " 10  Type_of_Loan              88592 non-null   object \n",
            " 11  Delay_from_due_date       100000 non-null  int64  \n",
            " 12  Num_of_Delayed_Payment    92998 non-null   object \n",
            " 13  Changed_Credit_Limit      100000 non-null  object \n",
            " 14  Num_Credit_Inquiries      98035 non-null   float64\n",
            " 15  Credit_Mix                100000 non-null  object \n",
            " 16  Outstanding_Debt          100000 non-null  object \n",
            " 17  Credit_Utilization_Ratio  100000 non-null  float64\n",
            " 18  Credit_History_Age        90970 non-null   object \n",
            " 19  Payment_of_Min_Amount     100000 non-null  object \n",
            " 20  Total_EMI_per_month       100000 non-null  float64\n",
            " 21  Amount_invested_monthly   95521 non-null   object \n",
            " 22  Payment_Behaviour         100000 non-null  object \n",
            " 23  Monthly_Balance           98800 non-null   object \n",
            " 24  Credit_Score              100000 non-null  object \n",
            "dtypes: float64(4), int64(5), object(16)\n",
            "memory usage: 19.1+ MB\n"
          ]
        }
      ]
    },
    {
      "cell_type": "markdown",
      "source": [
        "Os seguintes atributos estão com tipos diferentes do esperado:\n",
        "- numéricos, tratados como objetos\n",
        "    - Age\n",
        "    - Annual_Income\n",
        "    - Num_of_Loan\n",
        "    - Num_of_Delayed_Payment\n",
        "    - Changed_Credit_Limit\n",
        "    - Outstanding_Debt\n",
        "    - Credit_History_Age\n",
        "    - Amount_invested_monthly\n",
        "    - Monthly_Balance\n",
        "- inteiro, tratados como float\n",
        "    - Num_Credit_Inquiries"
      ],
      "metadata": {
        "id": "fpwHkjlW-tzu"
      }
    },
    {
      "cell_type": "markdown",
      "source": [
        "### Num_Credit_Inquiries"
      ],
      "metadata": {
        "id": "i8T88FunDI81"
      }
    },
    {
      "cell_type": "code",
      "source": [
        "# Verify not int values\n",
        "pd.Series( value for value in data_df['Num_Credit_Inquiries'] if not value.is_integer() ).unique()"
      ],
      "metadata": {
        "colab": {
          "base_uri": "https://localhost:8080/"
        },
        "id": "XRigBM1H-tPi",
        "outputId": "f9ab3fcb-f614-459e-8e30-ef16deec9b76"
      },
      "execution_count": 213,
      "outputs": [
        {
          "output_type": "execute_result",
          "data": {
            "text/plain": [
              "array([nan])"
            ]
          },
          "metadata": {},
          "execution_count": 213
        }
      ]
    },
    {
      "cell_type": "markdown",
      "source": [
        "### Age"
      ],
      "metadata": {
        "id": "s-jupPfYE0TF"
      }
    },
    {
      "cell_type": "code",
      "source": [
        "# Verify not numerical values\n",
        "data_df['Age'][ pd.to_numeric(data_df['Age'], errors='coerce', ).isna() ].unique()"
      ],
      "metadata": {
        "colab": {
          "base_uri": "https://localhost:8080/"
        },
        "id": "Rv31cy7AEyeJ",
        "outputId": "7771a6b5-b873-4505-f546-521b4a99e55b"
      },
      "execution_count": 214,
      "outputs": [
        {
          "output_type": "execute_result",
          "data": {
            "text/plain": [
              "array(['28_', '34_', '30_', '24_', '33_', '35_', '31_', '40_', '37_',\n",
              "       '54_', '21_', '20_', '43_', '38_', '18_', '2111_', '46_', '16_',\n",
              "       '19_', '47_', '53_', '25_', '27_', '55_', '42_', '48_', '49_',\n",
              "       '50_', '32_', '22_', '17_', '29_', '15_', '51_', '26_', '39_',\n",
              "       '14_', '36_', '44_', '7670_', '45_', '23_', '41_', '52_', '733_',\n",
              "       '5769_', '4383_', '56_', '2650_', '3307_', '6962_', '5589_',\n",
              "       '6556_', '1447_', '8153_', '3834_', '6744_', '6471_', '7723_',\n",
              "       '7640_', '6408_', '3502_', '7316_', '1102_', '8669_', '2463_',\n",
              "       '6666_', '3055_', '1248_', '2220_', '2159_', '4583_', '3988_',\n",
              "       '2155_', '6770_', '1843_', '1367_', '3742_', '2171_', '5109_',\n",
              "       '3984_', '2474_', '5046_', '7715_', '2329_', '707_', '844_',\n",
              "       '2756_', '2037_', '902_', '8523_', '3640_', '3998_', '3712_',\n",
              "       '2097_', '8348_', '5373_', '3291_', '2994_', '3339_', '2812_',\n",
              "       '3578_', '3564_', '1794_', '737_', '4301_', '2846_', '2373_',\n",
              "       '1188_', '8207_', '5909_', '6381_', '8616_', '6799_', '1591_',\n",
              "       '3775_', '6564_', '7122_', '4913_', '5697_', '3843_', '4445_',\n",
              "       '6921_', '780_', '1070_', '5798_', '4808_'], dtype=object)"
            ]
          },
          "metadata": {},
          "execution_count": 214
        }
      ]
    },
    {
      "cell_type": "code",
      "source": [
        "# remove \"_\" at the end and convert to a number\n",
        "data_df['Age'] = data_df['Age'].str.replace('_', '').astype(int)\n",
        "data_df['Age']"
      ],
      "metadata": {
        "colab": {
          "base_uri": "https://localhost:8080/"
        },
        "id": "labw1-LAF5RF",
        "outputId": "01f0ad42-5cc1-46cc-90c4-8ec404934fb9"
      },
      "execution_count": 215,
      "outputs": [
        {
          "output_type": "execute_result",
          "data": {
            "text/plain": [
              "0         23\n",
              "1         23\n",
              "2       -500\n",
              "3         23\n",
              "4         23\n",
              "        ... \n",
              "99995     25\n",
              "99996     25\n",
              "99997     25\n",
              "99998     25\n",
              "99999     25\n",
              "Name: Age, Length: 100000, dtype: int64"
            ]
          },
          "metadata": {},
          "execution_count": 215
        }
      ]
    },
    {
      "cell_type": "code",
      "source": [
        "# Apply the same for other columns\n",
        "remove_underline_cols = [\n",
        "    'Annual_Income',\n",
        "    'Num_of_Loan',\n",
        "    'Num_of_Delayed_Payment',\n",
        "    'Changed_Credit_Limit',\n",
        "    'Outstanding_Debt',\n",
        "    'Credit_History_Age',\n",
        "    'Amount_invested_monthly',\n",
        "    'Monthly_Balance'\n",
        "]\n",
        "for col in remove_underline_cols:\n",
        "    data_df[col] = data_df[col].str.replace('_', '')\n",
        "    try:\n",
        "        data_df[col] = data_df[col].apply(float)\n",
        "    except:\n",
        "        pass\n",
        "\n",
        "data_df[remove_underline_cols].info()"
      ],
      "metadata": {
        "colab": {
          "base_uri": "https://localhost:8080/"
        },
        "id": "CodzYo1HGuja",
        "outputId": "76b8e75e-ba97-4d8d-f15c-0c6e51555b35"
      },
      "execution_count": 216,
      "outputs": [
        {
          "output_type": "stream",
          "name": "stdout",
          "text": [
            "<class 'pandas.core.frame.DataFrame'>\n",
            "RangeIndex: 100000 entries, 0 to 99999\n",
            "Data columns (total 8 columns):\n",
            " #   Column                   Non-Null Count   Dtype  \n",
            "---  ------                   --------------   -----  \n",
            " 0   Annual_Income            100000 non-null  float64\n",
            " 1   Num_of_Loan              100000 non-null  float64\n",
            " 2   Num_of_Delayed_Payment   92998 non-null   float64\n",
            " 3   Changed_Credit_Limit     100000 non-null  object \n",
            " 4   Outstanding_Debt         100000 non-null  float64\n",
            " 5   Credit_History_Age       90970 non-null   object \n",
            " 6   Amount_invested_monthly  95521 non-null   float64\n",
            " 7   Monthly_Balance          97132 non-null   float64\n",
            "dtypes: float64(6), object(2)\n",
            "memory usage: 6.1+ MB\n"
          ]
        }
      ]
    },
    {
      "cell_type": "markdown",
      "source": [
        "2 colunas ainda precisam de tratamento:\n",
        "1. Changed_Credit_Limit\n",
        "2. Credit_History_Age"
      ],
      "metadata": {
        "id": "V4vRG0MnH8SX"
      }
    },
    {
      "cell_type": "markdown",
      "source": [
        "### Changed_Credit_Limit"
      ],
      "metadata": {
        "id": "8r3ZCrLFGawb"
      }
    },
    {
      "cell_type": "code",
      "source": [
        "# Verify not numerical values\n",
        "data_df['Changed_Credit_Limit'][ pd.to_numeric(data_df['Changed_Credit_Limit'], errors='coerce', ).isna() ].unique()"
      ],
      "metadata": {
        "colab": {
          "base_uri": "https://localhost:8080/"
        },
        "id": "086Ts-ULGeAw",
        "outputId": "223e95ab-8860-402f-ae5b-9309b88e64de"
      },
      "execution_count": 217,
      "outputs": [
        {
          "output_type": "execute_result",
          "data": {
            "text/plain": [
              "array([''], dtype=object)"
            ]
          },
          "metadata": {},
          "execution_count": 217
        }
      ]
    },
    {
      "cell_type": "code",
      "source": [
        "# Tratar dados faltantes como nulos\n",
        "data_df['Changed_Credit_Limit'] = pd.to_numeric(data_df['Changed_Credit_Limit'], errors='coerce')\n",
        "data_df['Changed_Credit_Limit']"
      ],
      "metadata": {
        "colab": {
          "base_uri": "https://localhost:8080/"
        },
        "id": "bKZFSbisIh7l",
        "outputId": "3e445b65-a7fd-4716-e609-2c0d41d80583"
      },
      "execution_count": 218,
      "outputs": [
        {
          "output_type": "execute_result",
          "data": {
            "text/plain": [
              "0        11.27\n",
              "1        11.27\n",
              "2          NaN\n",
              "3         6.27\n",
              "4        11.27\n",
              "         ...  \n",
              "99995    11.50\n",
              "99996    11.50\n",
              "99997    11.50\n",
              "99998    11.50\n",
              "99999    11.50\n",
              "Name: Changed_Credit_Limit, Length: 100000, dtype: float64"
            ]
          },
          "metadata": {},
          "execution_count": 218
        }
      ]
    },
    {
      "cell_type": "markdown",
      "source": [
        "### Credit_History_Age"
      ],
      "metadata": {
        "id": "uaQ4JgFOIuL_"
      }
    },
    {
      "cell_type": "code",
      "source": [
        "# Verify not numerical values\n",
        "data_df['Credit_History_Age'][ pd.to_numeric(data_df['Credit_History_Age'], errors='coerce', ).isna() ].unique()"
      ],
      "metadata": {
        "colab": {
          "base_uri": "https://localhost:8080/"
        },
        "id": "0fhQENLvIt2p",
        "outputId": "6a2d407f-370f-4195-b743-0740f41a389b"
      },
      "execution_count": 219,
      "outputs": [
        {
          "output_type": "execute_result",
          "data": {
            "text/plain": [
              "array(['22 Years and 1 Months', nan, '22 Years and 3 Months',\n",
              "       '22 Years and 4 Months', '22 Years and 5 Months',\n",
              "       '22 Years and 6 Months', '22 Years and 7 Months',\n",
              "       '26 Years and 7 Months', '26 Years and 8 Months',\n",
              "       '26 Years and 9 Months', '26 Years and 10 Months',\n",
              "       '26 Years and 11 Months', '27 Years and 0 Months',\n",
              "       '27 Years and 1 Months', '27 Years and 2 Months',\n",
              "       '17 Years and 9 Months', '17 Years and 10 Months',\n",
              "       '17 Years and 11 Months', '18 Years and 1 Months',\n",
              "       '18 Years and 2 Months', '18 Years and 3 Months',\n",
              "       '18 Years and 4 Months', '17 Years and 3 Months',\n",
              "       '17 Years and 4 Months', '17 Years and 5 Months',\n",
              "       '17 Years and 6 Months', '17 Years and 7 Months',\n",
              "       '17 Years and 8 Months', '30 Years and 8 Months',\n",
              "       '30 Years and 9 Months', '30 Years and 10 Months',\n",
              "       '30 Years and 11 Months', '31 Years and 0 Months',\n",
              "       '31 Years and 1 Months', '31 Years and 2 Months',\n",
              "       '31 Years and 3 Months', '32 Years and 0 Months',\n",
              "       '32 Years and 2 Months', '32 Years and 3 Months',\n",
              "       '32 Years and 5 Months', '32 Years and 6 Months',\n",
              "       '30 Years and 7 Months', '14 Years and 8 Months',\n",
              "       '14 Years and 9 Months', '14 Years and 10 Months',\n",
              "       '14 Years and 11 Months', '15 Years and 0 Months',\n",
              "       '15 Years and 1 Months', '15 Years and 2 Months',\n",
              "       '21 Years and 4 Months', '21 Years and 5 Months',\n",
              "       '21 Years and 6 Months', '21 Years and 7 Months',\n",
              "       '21 Years and 8 Months', '21 Years and 9 Months',\n",
              "       '21 Years and 10 Months', '21 Years and 11 Months',\n",
              "       '26 Years and 6 Months', '19 Years and 2 Months',\n",
              "       '19 Years and 3 Months', '19 Years and 4 Months',\n",
              "       '19 Years and 5 Months', '19 Years and 6 Months',\n",
              "       '19 Years and 7 Months', '19 Years and 8 Months',\n",
              "       '25 Years and 5 Months', '25 Years and 6 Months',\n",
              "       '25 Years and 7 Months', '25 Years and 8 Months',\n",
              "       '25 Years and 9 Months', '25 Years and 10 Months',\n",
              "       '25 Years and 11 Months', '26 Years and 0 Months',\n",
              "       '27 Years and 3 Months', '27 Years and 4 Months',\n",
              "       '27 Years and 5 Months', '8 Years and 11 Months',\n",
              "       '9 Years and 0 Months', '9 Years and 1 Months',\n",
              "       '9 Years and 2 Months', '9 Years and 3 Months',\n",
              "       '9 Years and 4 Months', '9 Years and 6 Months',\n",
              "       '18 Years and 5 Months', '18 Years and 6 Months',\n",
              "       '18 Years and 8 Months', '18 Years and 9 Months',\n",
              "       '16 Years and 10 Months', '16 Years and 11 Months',\n",
              "       '17 Years and 0 Months', '17 Years and 1 Months',\n",
              "       '17 Years and 2 Months', '29 Years and 2 Months',\n",
              "       '29 Years and 3 Months', '29 Years and 4 Months',\n",
              "       '29 Years and 6 Months', '29 Years and 8 Months',\n",
              "       '29 Years and 9 Months', '6 Years and 5 Months',\n",
              "       '6 Years and 6 Months', '6 Years and 7 Months',\n",
              "       '6 Years and 8 Months', '6 Years and 9 Months',\n",
              "       '6 Years and 10 Months', '6 Years and 11 Months',\n",
              "       '7 Years and 0 Months', '27 Years and 6 Months',\n",
              "       '27 Years and 7 Months', '27 Years and 8 Months',\n",
              "       '27 Years and 9 Months', '18 Years and 7 Months',\n",
              "       '19 Years and 9 Months', '19 Years and 10 Months',\n",
              "       '10 Years and 1 Months', '10 Years and 2 Months',\n",
              "       '10 Years and 3 Months', '10 Years and 4 Months',\n",
              "       '10 Years and 5 Months', '10 Years and 6 Months',\n",
              "       '10 Years and 7 Months', '10 Years and 8 Months',\n",
              "       '32 Years and 9 Months', '32 Years and 10 Months',\n",
              "       '32 Years and 11 Months', '33 Years and 0 Months',\n",
              "       '33 Years and 1 Months', '33 Years and 4 Months',\n",
              "       '12 Years and 3 Months', '12 Years and 4 Months',\n",
              "       '12 Years and 5 Months', '12 Years and 6 Months',\n",
              "       '12 Years and 7 Months', '12 Years and 8 Months',\n",
              "       '12 Years and 10 Months', '12 Years and 9 Months',\n",
              "       '13 Years and 8 Months', '13 Years and 11 Months',\n",
              "       '14 Years and 0 Months', '14 Years and 1 Months',\n",
              "       '14 Years and 2 Months', '14 Years and 3 Months',\n",
              "       '30 Years and 3 Months', '30 Years and 4 Months',\n",
              "       '30 Years and 5 Months', '30 Years and 6 Months',\n",
              "       '8 Years and 9 Months', '8 Years and 10 Months',\n",
              "       '18 Years and 10 Months', '18 Years and 11 Months',\n",
              "       '19 Years and 0 Months', '19 Years and 1 Months',\n",
              "       '8 Years and 8 Months', '13 Years and 1 Months',\n",
              "       '13 Years and 2 Months', '13 Years and 3 Months',\n",
              "       '13 Years and 5 Months', '13 Years and 6 Months',\n",
              "       '13 Years and 7 Months', '22 Years and 0 Months',\n",
              "       '26 Years and 1 Months', '26 Years and 2 Months',\n",
              "       '13 Years and 4 Months', '13 Years and 9 Months',\n",
              "       '27 Years and 11 Months', '28 Years and 0 Months',\n",
              "       '28 Years and 1 Months', '28 Years and 2 Months',\n",
              "       '28 Years and 3 Months', '28 Years and 4 Months',\n",
              "       '28 Years and 5 Months', '28 Years and 6 Months',\n",
              "       '7 Years and 10 Months', '7 Years and 11 Months',\n",
              "       '8 Years and 0 Months', '8 Years and 1 Months',\n",
              "       '8 Years and 2 Months', '8 Years and 3 Months',\n",
              "       '8 Years and 4 Months', '8 Years and 5 Months',\n",
              "       '24 Years and 3 Months', '24 Years and 4 Months',\n",
              "       '24 Years and 5 Months', '24 Years and 6 Months',\n",
              "       '24 Years and 7 Months', '24 Years and 8 Months',\n",
              "       '24 Years and 9 Months', '1 Years and 2 Months',\n",
              "       '1 Years and 3 Months', '1 Years and 4 Months',\n",
              "       '1 Years and 5 Months', '1 Years and 6 Months',\n",
              "       '1 Years and 7 Months', '1 Years and 8 Months',\n",
              "       '10 Years and 11 Months', '11 Years and 0 Months',\n",
              "       '11 Years and 1 Months', '11 Years and 2 Months',\n",
              "       '11 Years and 3 Months', '11 Years and 4 Months',\n",
              "       '11 Years and 5 Months', '11 Years and 6 Months',\n",
              "       '19 Years and 11 Months', '20 Years and 0 Months',\n",
              "       '20 Years and 1 Months', '10 Years and 9 Months',\n",
              "       '10 Years and 10 Months', '14 Years and 4 Months',\n",
              "       '14 Years and 5 Months', '14 Years and 6 Months',\n",
              "       '20 Years and 8 Months', '20 Years and 9 Months',\n",
              "       '20 Years and 10 Months', '20 Years and 11 Months',\n",
              "       '21 Years and 0 Months', '21 Years and 1 Months',\n",
              "       '21 Years and 2 Months', '21 Years and 3 Months',\n",
              "       '0 Years and 4 Months', '0 Years and 5 Months',\n",
              "       '0 Years and 6 Months', '0 Years and 8 Months',\n",
              "       '0 Years and 9 Months', '0 Years and 10 Months',\n",
              "       '31 Years and 7 Months', '31 Years and 8 Months',\n",
              "       '31 Years and 9 Months', '31 Years and 10 Months',\n",
              "       '31 Years and 11 Months', '32 Years and 1 Months',\n",
              "       '12 Years and 11 Months', '13 Years and 0 Months',\n",
              "       '27 Years and 10 Months', '11 Years and 7 Months',\n",
              "       '11 Years and 8 Months', '11 Years and 9 Months',\n",
              "       '11 Years and 10 Months', '24 Years and 10 Months',\n",
              "       '24 Years and 11 Months', '25 Years and 0 Months',\n",
              "       '25 Years and 1 Months', '25 Years and 2 Months',\n",
              "       '25 Years and 3 Months', '18 Years and 0 Months',\n",
              "       '31 Years and 4 Months', '31 Years and 5 Months',\n",
              "       '31 Years and 6 Months', '5 Years and 2 Months',\n",
              "       '5 Years and 3 Months', '5 Years and 4 Months',\n",
              "       '5 Years and 5 Months', '5 Years and 6 Months',\n",
              "       '5 Years and 7 Months', '5 Years and 8 Months',\n",
              "       '5 Years and 9 Months', '2 Years and 11 Months',\n",
              "       '3 Years and 0 Months', '3 Years and 1 Months',\n",
              "       '3 Years and 2 Months', '3 Years and 3 Months',\n",
              "       '3 Years and 4 Months', '3 Years and 5 Months',\n",
              "       '3 Years and 6 Months', '16 Years and 4 Months',\n",
              "       '16 Years and 5 Months', '16 Years and 6 Months',\n",
              "       '16 Years and 7 Months', '16 Years and 8 Months',\n",
              "       '16 Years and 9 Months', '22 Years and 11 Months',\n",
              "       '23 Years and 0 Months', '23 Years and 2 Months',\n",
              "       '23 Years and 3 Months', '23 Years and 4 Months',\n",
              "       '23 Years and 5 Months', '23 Years and 6 Months',\n",
              "       '8 Years and 6 Months', '8 Years and 7 Months',\n",
              "       '4 Years and 5 Months', '4 Years and 6 Months',\n",
              "       '4 Years and 7 Months', '4 Years and 8 Months',\n",
              "       '4 Years and 9 Months', '4 Years and 10 Months',\n",
              "       '4 Years and 11 Months', '5 Years and 0 Months',\n",
              "       '32 Years and 8 Months', '33 Years and 2 Months',\n",
              "       '33 Years and 3 Months', '12 Years and 2 Months',\n",
              "       '32 Years and 4 Months', '29 Years and 11 Months',\n",
              "       '30 Years and 0 Months', '30 Years and 2 Months',\n",
              "       '26 Years and 3 Months', '26 Years and 4 Months',\n",
              "       '26 Years and 5 Months', '7 Years and 6 Months',\n",
              "       '7 Years and 7 Months', '7 Years and 8 Months',\n",
              "       '7 Years and 9 Months', '28 Years and 7 Months',\n",
              "       '28 Years and 8 Months', '28 Years and 9 Months',\n",
              "       '28 Years and 10 Months', '29 Years and 5 Months',\n",
              "       '29 Years and 7 Months', '20 Years and 2 Months',\n",
              "       '20 Years and 3 Months', '20 Years and 4 Months',\n",
              "       '20 Years and 5 Months', '20 Years and 6 Months',\n",
              "       '20 Years and 7 Months', '28 Years and 11 Months',\n",
              "       '29 Years and 0 Months', '13 Years and 10 Months',\n",
              "       '1 Years and 9 Months', '1 Years and 10 Months',\n",
              "       '1 Years and 11 Months', '33 Years and 5 Months',\n",
              "       '33 Years and 6 Months', '33 Years and 7 Months',\n",
              "       '33 Years and 8 Months', '29 Years and 1 Months',\n",
              "       '5 Years and 1 Months', '5 Years and 10 Months',\n",
              "       '5 Years and 11 Months', '6 Years and 0 Months',\n",
              "       '6 Years and 1 Months', '6 Years and 2 Months',\n",
              "       '6 Years and 3 Months', '22 Years and 9 Months',\n",
              "       '22 Years and 10 Months', '23 Years and 1 Months',\n",
              "       '22 Years and 2 Months', '15 Years and 4 Months',\n",
              "       '15 Years and 5 Months', '15 Years and 6 Months',\n",
              "       '15 Years and 7 Months', '15 Years and 8 Months',\n",
              "       '15 Years and 9 Months', '15 Years and 10 Months',\n",
              "       '15 Years and 11 Months', '2 Years and 3 Months',\n",
              "       '2 Years and 4 Months', '2 Years and 5 Months',\n",
              "       '2 Years and 6 Months', '2 Years and 7 Months',\n",
              "       '2 Years and 8 Months', '2 Years and 9 Months',\n",
              "       '2 Years and 10 Months', '2 Years and 0 Months',\n",
              "       '16 Years and 2 Months', '16 Years and 3 Months',\n",
              "       '22 Years and 8 Months', '9 Years and 5 Months',\n",
              "       '9 Years and 7 Months', '9 Years and 8 Months',\n",
              "       '9 Years and 9 Months', '11 Years and 11 Months',\n",
              "       '12 Years and 0 Months', '12 Years and 1 Months',\n",
              "       '24 Years and 2 Months', '16 Years and 0 Months',\n",
              "       '16 Years and 1 Months', '14 Years and 7 Months',\n",
              "       '25 Years and 4 Months', '15 Years and 3 Months',\n",
              "       '7 Years and 1 Months', '7 Years and 2 Months',\n",
              "       '7 Years and 3 Months', '7 Years and 4 Months',\n",
              "       '7 Years and 5 Months', '23 Years and 7 Months',\n",
              "       '23 Years and 8 Months', '23 Years and 9 Months',\n",
              "       '30 Years and 1 Months', '29 Years and 10 Months',\n",
              "       '9 Years and 10 Months', '9 Years and 11 Months',\n",
              "       '10 Years and 0 Months', '2 Years and 2 Months',\n",
              "       '23 Years and 10 Months', '23 Years and 11 Months',\n",
              "       '24 Years and 0 Months', '24 Years and 1 Months',\n",
              "       '6 Years and 4 Months', '0 Years and 1 Months',\n",
              "       '0 Years and 2 Months', '0 Years and 3 Months',\n",
              "       '0 Years and 7 Months', '3 Years and 8 Months',\n",
              "       '32 Years and 7 Months', '3 Years and 7 Months',\n",
              "       '3 Years and 9 Months', '3 Years and 10 Months',\n",
              "       '0 Years and 11 Months', '1 Years and 0 Months',\n",
              "       '1 Years and 1 Months', '4 Years and 4 Months',\n",
              "       '3 Years and 11 Months', '4 Years and 0 Months',\n",
              "       '4 Years and 1 Months', '4 Years and 2 Months',\n",
              "       '4 Years and 3 Months', '2 Years and 1 Months'], dtype=object)"
            ]
          },
          "metadata": {},
          "execution_count": 219
        }
      ]
    },
    {
      "cell_type": "code",
      "source": [
        "# Verificar o formato:\n",
        "formato_age = '\\d+ Years and \\d+ Months'\n",
        "np.any(\n",
        "    data_df['Credit_History_Age']\\\n",
        "    .dropna()\\\n",
        "    .apply(lambda value: not re.match(formato_age, value))\n",
        ")"
      ],
      "metadata": {
        "colab": {
          "base_uri": "https://localhost:8080/"
        },
        "id": "dEZ7l4rcI4gs",
        "outputId": "f7ef3806-a4f1-439c-f88d-938e707642f6"
      },
      "execution_count": 220,
      "outputs": [
        {
          "output_type": "execute_result",
          "data": {
            "text/plain": [
              "False"
            ]
          },
          "metadata": {},
          "execution_count": 220
        }
      ]
    },
    {
      "cell_type": "code",
      "source": [
        "# Transformar texto em numero de meses\n",
        "def extract_number_months(years_months_str):\n",
        "    y, m = np.array(years_months_str.split('-')).astype(int)\n",
        "    return y * 12 + m\n",
        "\n",
        "# Transform: '{y} Years and {m} Months' into '{y}-{m}', and then apply extract_number_months\n",
        "data_df['Credit_History_Age'] = data_df['Credit_History_Age']\\\n",
        "    .dropna()\\\n",
        "    .str.replace(' Years and ', '-')\\\n",
        "    .str.replace(' Months', '')\\\n",
        "    .apply(extract_number_months)\n",
        "\n",
        "data_df['Credit_History_Age']"
      ],
      "metadata": {
        "colab": {
          "base_uri": "https://localhost:8080/"
        },
        "id": "BlWAG-rdJrCp",
        "outputId": "87250d3a-a1fb-4ee1-b9d4-55bc74dd3da9"
      },
      "execution_count": 221,
      "outputs": [
        {
          "output_type": "execute_result",
          "data": {
            "text/plain": [
              "0        265.0\n",
              "1          NaN\n",
              "2        267.0\n",
              "3        268.0\n",
              "4        269.0\n",
              "         ...  \n",
              "99995    378.0\n",
              "99996    379.0\n",
              "99997    380.0\n",
              "99998    381.0\n",
              "99999    382.0\n",
              "Name: Credit_History_Age, Length: 100000, dtype: float64"
            ]
          },
          "metadata": {},
          "execution_count": 221
        }
      ]
    },
    {
      "cell_type": "markdown",
      "source": [
        "### Month: text to number"
      ],
      "metadata": {
        "id": "i3eZQzzJRcDG"
      }
    },
    {
      "cell_type": "code",
      "source": [
        "# assumindo que todos os dados são do mesmo ano, transformaremos a coluna de meses\n",
        "# para numerica para permitir ordenação.\n",
        "# OBS: não usaremos datatime pois ele requer uma data, e não temos ano\n",
        "mapa_meses = {\n",
        "    'January' : 1,\n",
        "    'February' : 2,\n",
        "    'March' : 3,\n",
        "    'April' : 4,\n",
        "    'May' : 5,\n",
        "    'June' : 6,\n",
        "    'July' : 7,\n",
        "    'August' : 8\n",
        "}\n",
        "\n",
        "data_df['Month'] = data_df['Month'].map(mapa_meses)\n",
        "data_df['Month']"
      ],
      "metadata": {
        "id": "3aErcIa9RoU0",
        "outputId": "25ebe4a9-aa81-4a47-86b8-b94bcb37cafc",
        "colab": {
          "base_uri": "https://localhost:8080/"
        }
      },
      "execution_count": 222,
      "outputs": [
        {
          "output_type": "execute_result",
          "data": {
            "text/plain": [
              "0        1\n",
              "1        2\n",
              "2        3\n",
              "3        4\n",
              "4        5\n",
              "        ..\n",
              "99995    4\n",
              "99996    5\n",
              "99997    6\n",
              "99998    7\n",
              "99999    8\n",
              "Name: Month, Length: 100000, dtype: int64"
            ]
          },
          "metadata": {},
          "execution_count": 222
        }
      ]
    },
    {
      "cell_type": "markdown",
      "source": [
        "## Tratar Dados Nulos"
      ],
      "metadata": {
        "id": "xqy96LFigdjj"
      }
    },
    {
      "cell_type": "markdown",
      "source": [
        "Verificar contagem de dados nulos (faltantes/NaN)"
      ],
      "metadata": {
        "id": "wmFpWQkiOnrI"
      }
    },
    {
      "cell_type": "code",
      "source": [
        "na_data = data_df.isna().sum()\n",
        "na_data[na_data > 0]"
      ],
      "metadata": {
        "colab": {
          "base_uri": "https://localhost:8080/"
        },
        "id": "Hhky9tXdNTNb",
        "outputId": "1b0e6d4e-6b6d-47da-8971-40d3cecfb353"
      },
      "execution_count": 223,
      "outputs": [
        {
          "output_type": "execute_result",
          "data": {
            "text/plain": [
              "Monthly_Inhand_Salary      15002\n",
              "Type_of_Loan               11408\n",
              "Num_of_Delayed_Payment      7002\n",
              "Changed_Credit_Limit        2091\n",
              "Num_Credit_Inquiries        1965\n",
              "Credit_History_Age          9030\n",
              "Amount_invested_monthly     4479\n",
              "Monthly_Balance             2868\n",
              "dtype: int64"
            ]
          },
          "metadata": {},
          "execution_count": 223
        }
      ]
    },
    {
      "cell_type": "code",
      "source": [
        "print(f'porcentagem de dados nulos: { na_data.sum() / len(data_df) :.1%}')\n",
        "print(f'porcentagem de registros com algum dado nulo: { np.any(data_df.isna(), axis= 1).sum() / len(data_df) :.1%}')"
      ],
      "metadata": {
        "id": "NiIBtKAyNvPP",
        "outputId": "ad01c311-be0a-42a9-da40-03a176771522",
        "colab": {
          "base_uri": "https://localhost:8080/"
        }
      },
      "execution_count": 224,
      "outputs": [
        {
          "output_type": "stream",
          "name": "stdout",
          "text": [
            "porcentagem de dados nulos: 53.8%\n",
            "porcentagem de registros com algum dado nulo: 43.3%\n"
          ]
        }
      ]
    },
    {
      "cell_type": "markdown",
      "source": [
        "Como a porcentagem de registros é muita alta, vamos tentar preencher dados nulos.\n",
        "\n",
        "Seguiremos a ordem das colunas pela contagem de nulos.\n"
      ],
      "metadata": {
        "id": "Q6efXtCvPEkK"
      }
    },
    {
      "cell_type": "code",
      "source": [
        "# Monthly_Inhand_Salary might be filled with data from same customer\n",
        "len( data_df.dropna(subset= 'Monthly_Inhand_Salary')['Customer_ID'].unique() )"
      ],
      "metadata": {
        "id": "ukN5U-ZMPEEY",
        "outputId": "8f8a6696-f77e-4b94-f053-b2d03cd10097",
        "colab": {
          "base_uri": "https://localhost:8080/"
        }
      },
      "execution_count": 227,
      "outputs": [
        {
          "output_type": "execute_result",
          "data": {
            "text/plain": [
              "12500"
            ]
          },
          "metadata": {},
          "execution_count": 227
        }
      ]
    },
    {
      "cell_type": "code",
      "source": [
        "# Since all 12500 have at least a single not null value, we can use this value to\n",
        "# estimate the missing data\n",
        "\n",
        "# Primeiro, tentamos preencher os dados com o valor encontrado no mes anterior, mas\n",
        "# isso pode falhar caso o primeiro mes esteja nulo\n",
        "fill_salary_forward = data_df.sort_values('Month').groupby('Customer_ID')['Monthly_Inhand_Salary'].transform(\n",
        "    lambda salary_group: salary_group.fillna(method= 'ffill')\n",
        ").sort_index()\n",
        "filled_salary = data_df['Monthly_Inhand_Salary'].fillna(fill_salary_forward)\n",
        "\n",
        "filled_salary[filled_salary.isna()]"
      ],
      "metadata": {
        "id": "NK8-D5_0WbUQ",
        "outputId": "e66bcf4d-e4ff-47c0-e224-391be0da4865",
        "colab": {
          "base_uri": "https://localhost:8080/"
        }
      },
      "execution_count": 233,
      "outputs": [
        {
          "output_type": "execute_result",
          "data": {
            "text/plain": [
              "40      NaN\n",
              "56      NaN\n",
              "104     NaN\n",
              "128     NaN\n",
              "168     NaN\n",
              "         ..\n",
              "99816   NaN\n",
              "99817   NaN\n",
              "99888   NaN\n",
              "99928   NaN\n",
              "99944   NaN\n",
              "Name: Monthly_Inhand_Salary, Length: 2196, dtype: float64"
            ]
          },
          "metadata": {},
          "execution_count": 233
        }
      ]
    },
    {
      "cell_type": "code",
      "source": [
        "# analyze these data, to see if they were unemployed or some other reason for missing data\n",
        "data_df[fill_salary_forward.isna()]"
      ],
      "metadata": {
        "id": "cfDmylijXEIY",
        "outputId": "1a980268-3262-4218-def7-a5b7e1fd8b22",
        "colab": {
          "base_uri": "https://localhost:8080/",
          "height": 477
        }
      },
      "execution_count": 232,
      "outputs": [
        {
          "output_type": "execute_result",
          "data": {
            "text/plain": [
              "       Customer_ID  Month   Age     Occupation  Annual_Income  \\\n",
              "40           38382      1    31         Lawyer      73928.460   \n",
              "56           21511      1  7580  Media_Manager      34081.380   \n",
              "104          27750      1    39        Manager       8701.545   \n",
              "128          24688      1    20     Accountant      92047.080   \n",
              "168          41326      1    41  Media_Manager      10183.015   \n",
              "...            ...    ...   ...            ...            ...   \n",
              "99816        16557      1    19      Scientist      65858.480   \n",
              "99817        16557      2    19      Scientist      65858.480   \n",
              "99888        35242      1    38        Manager      85744.120   \n",
              "99928        45340      1    38        Manager      15319.650   \n",
              "99944        20915      1    33  Media_Manager      59146.360   \n",
              "\n",
              "       Monthly_Inhand_Salary  Num_Bank_Accounts  Num_Credit_Card  \\\n",
              "40                       NaN                  4             1288   \n",
              "56                       NaN                  8                7   \n",
              "104                      NaN                  6                5   \n",
              "128                      NaN                  6                7   \n",
              "168                      NaN                  7                5   \n",
              "...                      ...                ...              ...   \n",
              "99816                    NaN                  7                7   \n",
              "99817                    NaN                  7                7   \n",
              "99888                    NaN                  6                7   \n",
              "99928                    NaN                  6                7   \n",
              "99944                    NaN                  2                5   \n",
              "\n",
              "       Interest_Rate  Num_of_Loan  ... Credit_Mix  Outstanding_Debt  \\\n",
              "40                 8          0.0  ...       Good            548.20   \n",
              "56                15          3.0  ...   Standard           1704.18   \n",
              "104               32          7.0  ...          _           2602.69   \n",
              "128               16          0.0  ...   Standard           1296.64   \n",
              "168               17          5.0  ...        Bad           1672.43   \n",
              "...              ...          ...  ...        ...               ...   \n",
              "99816             30          5.0  ...   Standard           2344.57   \n",
              "99817             30          5.0  ...   Standard           2344.57   \n",
              "99888             11          2.0  ...   Standard            717.79   \n",
              "99928             15          4.0  ...        Bad           1453.61   \n",
              "99944              6          1.0  ...          _            418.03   \n",
              "\n",
              "       Credit_Utilization_Ratio  Credit_History_Age  Payment_of_Min_Amount  \\\n",
              "40                    39.962685                 NaN                     No   \n",
              "56                    24.448063                 NaN                     NM   \n",
              "104                   24.523164               107.0                    Yes   \n",
              "128                   37.115615               350.0                    Yes   \n",
              "168                   25.951273               121.0                    Yes   \n",
              "...                         ...                 ...                    ...   \n",
              "99816                 28.744030                76.0                    Yes   \n",
              "99817                 38.218221                 NaN                    Yes   \n",
              "99888                 27.777284               183.0                    Yes   \n",
              "99928                 36.518222               129.0                    Yes   \n",
              "99944                 34.720661                 NaN                     No   \n",
              "\n",
              "      Total_EMI_per_month  Amount_invested_monthly  \\\n",
              "40           15015.000000                98.674410   \n",
              "56              70.478333               162.441009   \n",
              "104             36.548197                13.066210   \n",
              "128              0.000000               154.634123   \n",
              "168             37.588073                14.622739   \n",
              "...                   ...                      ...   \n",
              "99816          261.201218                91.928818   \n",
              "99817          261.201218               165.236290   \n",
              "99888           72.099176               160.090877   \n",
              "99928           28.182033               167.888435   \n",
              "99944           26.778419               606.436542   \n",
              "\n",
              "                      Payment_Behaviour  Monthly_Balance Credit_Score  \n",
              "40      High_spent_Large_value_payments       740.196090         Good  \n",
              "56       Low_spent_Large_value_payments       298.192158         Poor  \n",
              "104      Low_spent_Large_value_payments       272.298468         Poor  \n",
              "128                              !@9#%8       854.524877     Standard  \n",
              "168     High_spent_Large_value_payments       295.247646         Poor  \n",
              "...                                 ...              ...          ...  \n",
              "99816  High_spent_Medium_value_payments              NaN         Poor  \n",
              "99817  High_spent_Medium_value_payments              NaN         Poor  \n",
              "99888   High_spent_Large_value_payments              NaN     Standard  \n",
              "99928    Low_spent_Small_value_payments              NaN         Poor  \n",
              "99944    Low_spent_Small_value_payments              NaN     Standard  \n",
              "\n",
              "[2196 rows x 25 columns]"
            ],
            "text/html": [
              "\n",
              "  <div id=\"df-76c0f7a2-55d9-48a5-ba86-a6b722a50c80\">\n",
              "    <div class=\"colab-df-container\">\n",
              "      <div>\n",
              "<style scoped>\n",
              "    .dataframe tbody tr th:only-of-type {\n",
              "        vertical-align: middle;\n",
              "    }\n",
              "\n",
              "    .dataframe tbody tr th {\n",
              "        vertical-align: top;\n",
              "    }\n",
              "\n",
              "    .dataframe thead th {\n",
              "        text-align: right;\n",
              "    }\n",
              "</style>\n",
              "<table border=\"1\" class=\"dataframe\">\n",
              "  <thead>\n",
              "    <tr style=\"text-align: right;\">\n",
              "      <th></th>\n",
              "      <th>Customer_ID</th>\n",
              "      <th>Month</th>\n",
              "      <th>Age</th>\n",
              "      <th>Occupation</th>\n",
              "      <th>Annual_Income</th>\n",
              "      <th>Monthly_Inhand_Salary</th>\n",
              "      <th>Num_Bank_Accounts</th>\n",
              "      <th>Num_Credit_Card</th>\n",
              "      <th>Interest_Rate</th>\n",
              "      <th>Num_of_Loan</th>\n",
              "      <th>...</th>\n",
              "      <th>Credit_Mix</th>\n",
              "      <th>Outstanding_Debt</th>\n",
              "      <th>Credit_Utilization_Ratio</th>\n",
              "      <th>Credit_History_Age</th>\n",
              "      <th>Payment_of_Min_Amount</th>\n",
              "      <th>Total_EMI_per_month</th>\n",
              "      <th>Amount_invested_monthly</th>\n",
              "      <th>Payment_Behaviour</th>\n",
              "      <th>Monthly_Balance</th>\n",
              "      <th>Credit_Score</th>\n",
              "    </tr>\n",
              "  </thead>\n",
              "  <tbody>\n",
              "    <tr>\n",
              "      <th>40</th>\n",
              "      <td>38382</td>\n",
              "      <td>1</td>\n",
              "      <td>31</td>\n",
              "      <td>Lawyer</td>\n",
              "      <td>73928.460</td>\n",
              "      <td>NaN</td>\n",
              "      <td>4</td>\n",
              "      <td>1288</td>\n",
              "      <td>8</td>\n",
              "      <td>0.0</td>\n",
              "      <td>...</td>\n",
              "      <td>Good</td>\n",
              "      <td>548.20</td>\n",
              "      <td>39.962685</td>\n",
              "      <td>NaN</td>\n",
              "      <td>No</td>\n",
              "      <td>15015.000000</td>\n",
              "      <td>98.674410</td>\n",
              "      <td>High_spent_Large_value_payments</td>\n",
              "      <td>740.196090</td>\n",
              "      <td>Good</td>\n",
              "    </tr>\n",
              "    <tr>\n",
              "      <th>56</th>\n",
              "      <td>21511</td>\n",
              "      <td>1</td>\n",
              "      <td>7580</td>\n",
              "      <td>Media_Manager</td>\n",
              "      <td>34081.380</td>\n",
              "      <td>NaN</td>\n",
              "      <td>8</td>\n",
              "      <td>7</td>\n",
              "      <td>15</td>\n",
              "      <td>3.0</td>\n",
              "      <td>...</td>\n",
              "      <td>Standard</td>\n",
              "      <td>1704.18</td>\n",
              "      <td>24.448063</td>\n",
              "      <td>NaN</td>\n",
              "      <td>NM</td>\n",
              "      <td>70.478333</td>\n",
              "      <td>162.441009</td>\n",
              "      <td>Low_spent_Large_value_payments</td>\n",
              "      <td>298.192158</td>\n",
              "      <td>Poor</td>\n",
              "    </tr>\n",
              "    <tr>\n",
              "      <th>104</th>\n",
              "      <td>27750</td>\n",
              "      <td>1</td>\n",
              "      <td>39</td>\n",
              "      <td>Manager</td>\n",
              "      <td>8701.545</td>\n",
              "      <td>NaN</td>\n",
              "      <td>6</td>\n",
              "      <td>5</td>\n",
              "      <td>32</td>\n",
              "      <td>7.0</td>\n",
              "      <td>...</td>\n",
              "      <td>_</td>\n",
              "      <td>2602.69</td>\n",
              "      <td>24.523164</td>\n",
              "      <td>107.0</td>\n",
              "      <td>Yes</td>\n",
              "      <td>36.548197</td>\n",
              "      <td>13.066210</td>\n",
              "      <td>Low_spent_Large_value_payments</td>\n",
              "      <td>272.298468</td>\n",
              "      <td>Poor</td>\n",
              "    </tr>\n",
              "    <tr>\n",
              "      <th>128</th>\n",
              "      <td>24688</td>\n",
              "      <td>1</td>\n",
              "      <td>20</td>\n",
              "      <td>Accountant</td>\n",
              "      <td>92047.080</td>\n",
              "      <td>NaN</td>\n",
              "      <td>6</td>\n",
              "      <td>7</td>\n",
              "      <td>16</td>\n",
              "      <td>0.0</td>\n",
              "      <td>...</td>\n",
              "      <td>Standard</td>\n",
              "      <td>1296.64</td>\n",
              "      <td>37.115615</td>\n",
              "      <td>350.0</td>\n",
              "      <td>Yes</td>\n",
              "      <td>0.000000</td>\n",
              "      <td>154.634123</td>\n",
              "      <td>!@9#%8</td>\n",
              "      <td>854.524877</td>\n",
              "      <td>Standard</td>\n",
              "    </tr>\n",
              "    <tr>\n",
              "      <th>168</th>\n",
              "      <td>41326</td>\n",
              "      <td>1</td>\n",
              "      <td>41</td>\n",
              "      <td>Media_Manager</td>\n",
              "      <td>10183.015</td>\n",
              "      <td>NaN</td>\n",
              "      <td>7</td>\n",
              "      <td>5</td>\n",
              "      <td>17</td>\n",
              "      <td>5.0</td>\n",
              "      <td>...</td>\n",
              "      <td>Bad</td>\n",
              "      <td>1672.43</td>\n",
              "      <td>25.951273</td>\n",
              "      <td>121.0</td>\n",
              "      <td>Yes</td>\n",
              "      <td>37.588073</td>\n",
              "      <td>14.622739</td>\n",
              "      <td>High_spent_Large_value_payments</td>\n",
              "      <td>295.247646</td>\n",
              "      <td>Poor</td>\n",
              "    </tr>\n",
              "    <tr>\n",
              "      <th>...</th>\n",
              "      <td>...</td>\n",
              "      <td>...</td>\n",
              "      <td>...</td>\n",
              "      <td>...</td>\n",
              "      <td>...</td>\n",
              "      <td>...</td>\n",
              "      <td>...</td>\n",
              "      <td>...</td>\n",
              "      <td>...</td>\n",
              "      <td>...</td>\n",
              "      <td>...</td>\n",
              "      <td>...</td>\n",
              "      <td>...</td>\n",
              "      <td>...</td>\n",
              "      <td>...</td>\n",
              "      <td>...</td>\n",
              "      <td>...</td>\n",
              "      <td>...</td>\n",
              "      <td>...</td>\n",
              "      <td>...</td>\n",
              "      <td>...</td>\n",
              "    </tr>\n",
              "    <tr>\n",
              "      <th>99816</th>\n",
              "      <td>16557</td>\n",
              "      <td>1</td>\n",
              "      <td>19</td>\n",
              "      <td>Scientist</td>\n",
              "      <td>65858.480</td>\n",
              "      <td>NaN</td>\n",
              "      <td>7</td>\n",
              "      <td>7</td>\n",
              "      <td>30</td>\n",
              "      <td>5.0</td>\n",
              "      <td>...</td>\n",
              "      <td>Standard</td>\n",
              "      <td>2344.57</td>\n",
              "      <td>28.744030</td>\n",
              "      <td>76.0</td>\n",
              "      <td>Yes</td>\n",
              "      <td>261.201218</td>\n",
              "      <td>91.928818</td>\n",
              "      <td>High_spent_Medium_value_payments</td>\n",
              "      <td>NaN</td>\n",
              "      <td>Poor</td>\n",
              "    </tr>\n",
              "    <tr>\n",
              "      <th>99817</th>\n",
              "      <td>16557</td>\n",
              "      <td>2</td>\n",
              "      <td>19</td>\n",
              "      <td>Scientist</td>\n",
              "      <td>65858.480</td>\n",
              "      <td>NaN</td>\n",
              "      <td>7</td>\n",
              "      <td>7</td>\n",
              "      <td>30</td>\n",
              "      <td>5.0</td>\n",
              "      <td>...</td>\n",
              "      <td>Standard</td>\n",
              "      <td>2344.57</td>\n",
              "      <td>38.218221</td>\n",
              "      <td>NaN</td>\n",
              "      <td>Yes</td>\n",
              "      <td>261.201218</td>\n",
              "      <td>165.236290</td>\n",
              "      <td>High_spent_Medium_value_payments</td>\n",
              "      <td>NaN</td>\n",
              "      <td>Poor</td>\n",
              "    </tr>\n",
              "    <tr>\n",
              "      <th>99888</th>\n",
              "      <td>35242</td>\n",
              "      <td>1</td>\n",
              "      <td>38</td>\n",
              "      <td>Manager</td>\n",
              "      <td>85744.120</td>\n",
              "      <td>NaN</td>\n",
              "      <td>6</td>\n",
              "      <td>7</td>\n",
              "      <td>11</td>\n",
              "      <td>2.0</td>\n",
              "      <td>...</td>\n",
              "      <td>Standard</td>\n",
              "      <td>717.79</td>\n",
              "      <td>27.777284</td>\n",
              "      <td>183.0</td>\n",
              "      <td>Yes</td>\n",
              "      <td>72.099176</td>\n",
              "      <td>160.090877</td>\n",
              "      <td>High_spent_Large_value_payments</td>\n",
              "      <td>NaN</td>\n",
              "      <td>Standard</td>\n",
              "    </tr>\n",
              "    <tr>\n",
              "      <th>99928</th>\n",
              "      <td>45340</td>\n",
              "      <td>1</td>\n",
              "      <td>38</td>\n",
              "      <td>Manager</td>\n",
              "      <td>15319.650</td>\n",
              "      <td>NaN</td>\n",
              "      <td>6</td>\n",
              "      <td>7</td>\n",
              "      <td>15</td>\n",
              "      <td>4.0</td>\n",
              "      <td>...</td>\n",
              "      <td>Bad</td>\n",
              "      <td>1453.61</td>\n",
              "      <td>36.518222</td>\n",
              "      <td>129.0</td>\n",
              "      <td>Yes</td>\n",
              "      <td>28.182033</td>\n",
              "      <td>167.888435</td>\n",
              "      <td>Low_spent_Small_value_payments</td>\n",
              "      <td>NaN</td>\n",
              "      <td>Poor</td>\n",
              "    </tr>\n",
              "    <tr>\n",
              "      <th>99944</th>\n",
              "      <td>20915</td>\n",
              "      <td>1</td>\n",
              "      <td>33</td>\n",
              "      <td>Media_Manager</td>\n",
              "      <td>59146.360</td>\n",
              "      <td>NaN</td>\n",
              "      <td>2</td>\n",
              "      <td>5</td>\n",
              "      <td>6</td>\n",
              "      <td>1.0</td>\n",
              "      <td>...</td>\n",
              "      <td>_</td>\n",
              "      <td>418.03</td>\n",
              "      <td>34.720661</td>\n",
              "      <td>NaN</td>\n",
              "      <td>No</td>\n",
              "      <td>26.778419</td>\n",
              "      <td>606.436542</td>\n",
              "      <td>Low_spent_Small_value_payments</td>\n",
              "      <td>NaN</td>\n",
              "      <td>Standard</td>\n",
              "    </tr>\n",
              "  </tbody>\n",
              "</table>\n",
              "<p>2196 rows × 25 columns</p>\n",
              "</div>\n",
              "      <button class=\"colab-df-convert\" onclick=\"convertToInteractive('df-76c0f7a2-55d9-48a5-ba86-a6b722a50c80')\"\n",
              "              title=\"Convert this dataframe to an interactive table.\"\n",
              "              style=\"display:none;\">\n",
              "        \n",
              "  <svg xmlns=\"http://www.w3.org/2000/svg\" height=\"24px\"viewBox=\"0 0 24 24\"\n",
              "       width=\"24px\">\n",
              "    <path d=\"M0 0h24v24H0V0z\" fill=\"none\"/>\n",
              "    <path d=\"M18.56 5.44l.94 2.06.94-2.06 2.06-.94-2.06-.94-.94-2.06-.94 2.06-2.06.94zm-11 1L8.5 8.5l.94-2.06 2.06-.94-2.06-.94L8.5 2.5l-.94 2.06-2.06.94zm10 10l.94 2.06.94-2.06 2.06-.94-2.06-.94-.94-2.06-.94 2.06-2.06.94z\"/><path d=\"M17.41 7.96l-1.37-1.37c-.4-.4-.92-.59-1.43-.59-.52 0-1.04.2-1.43.59L10.3 9.45l-7.72 7.72c-.78.78-.78 2.05 0 2.83L4 21.41c.39.39.9.59 1.41.59.51 0 1.02-.2 1.41-.59l7.78-7.78 2.81-2.81c.8-.78.8-2.07 0-2.86zM5.41 20L4 18.59l7.72-7.72 1.47 1.35L5.41 20z\"/>\n",
              "  </svg>\n",
              "      </button>\n",
              "      \n",
              "  <style>\n",
              "    .colab-df-container {\n",
              "      display:flex;\n",
              "      flex-wrap:wrap;\n",
              "      gap: 12px;\n",
              "    }\n",
              "\n",
              "    .colab-df-convert {\n",
              "      background-color: #E8F0FE;\n",
              "      border: none;\n",
              "      border-radius: 50%;\n",
              "      cursor: pointer;\n",
              "      display: none;\n",
              "      fill: #1967D2;\n",
              "      height: 32px;\n",
              "      padding: 0 0 0 0;\n",
              "      width: 32px;\n",
              "    }\n",
              "\n",
              "    .colab-df-convert:hover {\n",
              "      background-color: #E2EBFA;\n",
              "      box-shadow: 0px 1px 2px rgba(60, 64, 67, 0.3), 0px 1px 3px 1px rgba(60, 64, 67, 0.15);\n",
              "      fill: #174EA6;\n",
              "    }\n",
              "\n",
              "    [theme=dark] .colab-df-convert {\n",
              "      background-color: #3B4455;\n",
              "      fill: #D2E3FC;\n",
              "    }\n",
              "\n",
              "    [theme=dark] .colab-df-convert:hover {\n",
              "      background-color: #434B5C;\n",
              "      box-shadow: 0px 1px 3px 1px rgba(0, 0, 0, 0.15);\n",
              "      filter: drop-shadow(0px 1px 2px rgba(0, 0, 0, 0.3));\n",
              "      fill: #FFFFFF;\n",
              "    }\n",
              "  </style>\n",
              "\n",
              "      <script>\n",
              "        const buttonEl =\n",
              "          document.querySelector('#df-76c0f7a2-55d9-48a5-ba86-a6b722a50c80 button.colab-df-convert');\n",
              "        buttonEl.style.display =\n",
              "          google.colab.kernel.accessAllowed ? 'block' : 'none';\n",
              "\n",
              "        async function convertToInteractive(key) {\n",
              "          const element = document.querySelector('#df-76c0f7a2-55d9-48a5-ba86-a6b722a50c80');\n",
              "          const dataTable =\n",
              "            await google.colab.kernel.invokeFunction('convertToInteractive',\n",
              "                                                     [key], {});\n",
              "          if (!dataTable) return;\n",
              "\n",
              "          const docLinkHtml = 'Like what you see? Visit the ' +\n",
              "            '<a target=\"_blank\" href=https://colab.research.google.com/notebooks/data_table.ipynb>data table notebook</a>'\n",
              "            + ' to learn more about interactive tables.';\n",
              "          element.innerHTML = '';\n",
              "          dataTable['output_type'] = 'display_data';\n",
              "          await google.colab.output.renderOutput(dataTable, element);\n",
              "          const docLink = document.createElement('div');\n",
              "          docLink.innerHTML = docLinkHtml;\n",
              "          element.appendChild(docLink);\n",
              "        }\n",
              "      </script>\n",
              "    </div>\n",
              "  </div>\n",
              "  "
            ]
          },
          "metadata": {},
          "execution_count": 232
        }
      ]
    },
    {
      "cell_type": "code",
      "source": [
        "# since Annual_Income is a valid value, let's procced using backward propagation\n",
        "fill_salary_backward = data_df.sort_values('Month').groupby('Customer_ID')['Monthly_Inhand_Salary'].transform(\n",
        "    lambda salary_group: salary_group.fillna(method= 'bfill')\n",
        ").sort_index()\n",
        "filled_salary = filled_salary.fillna(fill_salary_backward)\n",
        "\n",
        "filled_salary[filled_salary.isna()]"
      ],
      "metadata": {
        "id": "70TolxbwXoTI",
        "outputId": "ff3b7a08-ee26-4355-e04b-244ad7074f9a",
        "colab": {
          "base_uri": "https://localhost:8080/"
        }
      },
      "execution_count": 237,
      "outputs": [
        {
          "output_type": "execute_result",
          "data": {
            "text/plain": [
              "Series([], Name: Monthly_Inhand_Salary, dtype: float64)"
            ]
          },
          "metadata": {},
          "execution_count": 237
        }
      ]
    },
    {
      "cell_type": "code",
      "source": [
        "data_df['Monthly_Inhand_Salary'] = filled_salary\n",
        "data_df['Monthly_Inhand_Salary'].isna().sum()"
      ],
      "metadata": {
        "id": "1SRh6TQHYkxP",
        "outputId": "99884711-7a52-4f0f-fb71-b30d477fc63d",
        "colab": {
          "base_uri": "https://localhost:8080/"
        }
      },
      "execution_count": 239,
      "outputs": [
        {
          "output_type": "execute_result",
          "data": {
            "text/plain": [
              "0"
            ]
          },
          "metadata": {},
          "execution_count": 239
        }
      ]
    },
    {
      "cell_type": "markdown",
      "source": [
        "#### Type_of_Loan"
      ],
      "metadata": {
        "id": "6vIeXW0MY19W"
      }
    },
    {
      "cell_type": "code",
      "source": [
        "data_df['Type_of_Loan'].unique()"
      ],
      "metadata": {
        "id": "ZUuh4yR-Y8HF",
        "outputId": "446e3fb2-eda5-40e4-9cae-f0f18fd09558",
        "colab": {
          "base_uri": "https://localhost:8080/"
        }
      },
      "execution_count": 241,
      "outputs": [
        {
          "output_type": "execute_result",
          "data": {
            "text/plain": [
              "array(['Auto Loan, Credit-Builder Loan, Personal Loan, and Home Equity Loan',\n",
              "       'Credit-Builder Loan', 'Auto Loan, Auto Loan, and Not Specified',\n",
              "       ..., 'Home Equity Loan, Auto Loan, Auto Loan, and Auto Loan',\n",
              "       'Payday Loan, Student Loan, Mortgage Loan, and Not Specified',\n",
              "       'Personal Loan, Auto Loan, Mortgage Loan, Student Loan, and Student Loan'],\n",
              "      dtype=object)"
            ]
          },
          "metadata": {},
          "execution_count": 241
        }
      ]
    },
    {
      "cell_type": "code",
      "source": [],
      "metadata": {
        "id": "fg219wjMZDYx"
      },
      "execution_count": null,
      "outputs": []
    },
    {
      "cell_type": "markdown",
      "source": [
        "# Modelos"
      ],
      "metadata": {
        "id": "KcKmO7lcggyT"
      }
    }
  ]
}