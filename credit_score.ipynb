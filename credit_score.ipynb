{
  "nbformat": 4,
  "nbformat_minor": 0,
  "metadata": {
    "colab": {
      "provenance": [],
      "authorship_tag": "ABX9TyOYw4aUrjDYsTRYODpohdz1",
      "include_colab_link": true
    },
    "kernelspec": {
      "name": "python3",
      "display_name": "Python 3"
    },
    "language_info": {
      "name": "python"
    }
  },
  "cells": [
    {
      "cell_type": "markdown",
      "metadata": {
        "id": "view-in-github",
        "colab_type": "text"
      },
      "source": [
        "<a href=\"https://colab.research.google.com/github/SLMath/Credit_Score-Analysis/blob/eda_matheus/credit_score.ipynb\" target=\"_parent\"><img src=\"https://colab.research.google.com/assets/colab-badge.svg\" alt=\"Open In Colab\"/></a>"
      ]
    },
    {
      "cell_type": "markdown",
      "source": [
        "# Importar Dados"
      ],
      "metadata": {
        "id": "InPL-vBRgPRn"
      }
    },
    {
      "cell_type": "code",
      "execution_count": 67,
      "metadata": {
        "id": "RRwhS-_xRwlU"
      },
      "outputs": [],
      "source": [
        "import pandas as pd\n",
        "import numpy as np"
      ]
    },
    {
      "cell_type": "code",
      "source": [
        "data_df = pd.read_csv('https://github.com/SLMath/Credit_Score-Analysis/raw/main/data/train.csv')\n",
        "print(data_df.shape)\n",
        "data_df.head()"
      ],
      "metadata": {
        "colab": {
          "base_uri": "https://localhost:8080/",
          "height": 508
        },
        "id": "_3Te5oRgSzFm",
        "outputId": "e1fe30fd-5b87-46ac-95a0-51d9a95f6431"
      },
      "execution_count": 68,
      "outputs": [
        {
          "output_type": "stream",
          "name": "stdout",
          "text": [
            "(100000, 28)\n"
          ]
        },
        {
          "output_type": "stream",
          "name": "stderr",
          "text": [
            "<ipython-input-68-f5e0b1df3013>:1: DtypeWarning: Columns (26) have mixed types. Specify dtype option on import or set low_memory=False.\n",
            "  data_df = pd.read_csv('https://github.com/SLMath/Credit_Score-Analysis/raw/main/data/train.csv')\n"
          ]
        },
        {
          "output_type": "execute_result",
          "data": {
            "text/plain": [
              "       ID Customer_ID     Month           Name   Age          SSN Occupation  \\\n",
              "0  0x1602   CUS_0xd40   January  Aaron Maashoh    23  821-00-0265  Scientist   \n",
              "1  0x1603   CUS_0xd40  February  Aaron Maashoh    23  821-00-0265  Scientist   \n",
              "2  0x1604   CUS_0xd40     March  Aaron Maashoh  -500  821-00-0265  Scientist   \n",
              "3  0x1605   CUS_0xd40     April  Aaron Maashoh    23  821-00-0265  Scientist   \n",
              "4  0x1606   CUS_0xd40       May  Aaron Maashoh    23  821-00-0265  Scientist   \n",
              "\n",
              "  Annual_Income  Monthly_Inhand_Salary  Num_Bank_Accounts  ...  Credit_Mix  \\\n",
              "0      19114.12            1824.843333                  3  ...           _   \n",
              "1      19114.12                    NaN                  3  ...        Good   \n",
              "2      19114.12                    NaN                  3  ...        Good   \n",
              "3      19114.12                    NaN                  3  ...        Good   \n",
              "4      19114.12            1824.843333                  3  ...        Good   \n",
              "\n",
              "   Outstanding_Debt Credit_Utilization_Ratio     Credit_History_Age  \\\n",
              "0            809.98                26.822620  22 Years and 1 Months   \n",
              "1            809.98                31.944960                    NaN   \n",
              "2            809.98                28.609352  22 Years and 3 Months   \n",
              "3            809.98                31.377862  22 Years and 4 Months   \n",
              "4            809.98                24.797347  22 Years and 5 Months   \n",
              "\n",
              "   Payment_of_Min_Amount Total_EMI_per_month Amount_invested_monthly  \\\n",
              "0                     No           49.574949       80.41529543900253   \n",
              "1                     No           49.574949      118.28022162236736   \n",
              "2                     No           49.574949         81.699521264648   \n",
              "3                     No           49.574949       199.4580743910713   \n",
              "4                     No           49.574949      41.420153086217326   \n",
              "\n",
              "                  Payment_Behaviour     Monthly_Balance Credit_Score  \n",
              "0   High_spent_Small_value_payments  312.49408867943663         Good  \n",
              "1    Low_spent_Large_value_payments  284.62916249607184         Good  \n",
              "2   Low_spent_Medium_value_payments   331.2098628537912         Good  \n",
              "3    Low_spent_Small_value_payments  223.45130972736786         Good  \n",
              "4  High_spent_Medium_value_payments  341.48923103222177         Good  \n",
              "\n",
              "[5 rows x 28 columns]"
            ],
            "text/html": [
              "\n",
              "  <div id=\"df-6f4fc89b-d165-4e11-a077-d975e1016fff\">\n",
              "    <div class=\"colab-df-container\">\n",
              "      <div>\n",
              "<style scoped>\n",
              "    .dataframe tbody tr th:only-of-type {\n",
              "        vertical-align: middle;\n",
              "    }\n",
              "\n",
              "    .dataframe tbody tr th {\n",
              "        vertical-align: top;\n",
              "    }\n",
              "\n",
              "    .dataframe thead th {\n",
              "        text-align: right;\n",
              "    }\n",
              "</style>\n",
              "<table border=\"1\" class=\"dataframe\">\n",
              "  <thead>\n",
              "    <tr style=\"text-align: right;\">\n",
              "      <th></th>\n",
              "      <th>ID</th>\n",
              "      <th>Customer_ID</th>\n",
              "      <th>Month</th>\n",
              "      <th>Name</th>\n",
              "      <th>Age</th>\n",
              "      <th>SSN</th>\n",
              "      <th>Occupation</th>\n",
              "      <th>Annual_Income</th>\n",
              "      <th>Monthly_Inhand_Salary</th>\n",
              "      <th>Num_Bank_Accounts</th>\n",
              "      <th>...</th>\n",
              "      <th>Credit_Mix</th>\n",
              "      <th>Outstanding_Debt</th>\n",
              "      <th>Credit_Utilization_Ratio</th>\n",
              "      <th>Credit_History_Age</th>\n",
              "      <th>Payment_of_Min_Amount</th>\n",
              "      <th>Total_EMI_per_month</th>\n",
              "      <th>Amount_invested_monthly</th>\n",
              "      <th>Payment_Behaviour</th>\n",
              "      <th>Monthly_Balance</th>\n",
              "      <th>Credit_Score</th>\n",
              "    </tr>\n",
              "  </thead>\n",
              "  <tbody>\n",
              "    <tr>\n",
              "      <th>0</th>\n",
              "      <td>0x1602</td>\n",
              "      <td>CUS_0xd40</td>\n",
              "      <td>January</td>\n",
              "      <td>Aaron Maashoh</td>\n",
              "      <td>23</td>\n",
              "      <td>821-00-0265</td>\n",
              "      <td>Scientist</td>\n",
              "      <td>19114.12</td>\n",
              "      <td>1824.843333</td>\n",
              "      <td>3</td>\n",
              "      <td>...</td>\n",
              "      <td>_</td>\n",
              "      <td>809.98</td>\n",
              "      <td>26.822620</td>\n",
              "      <td>22 Years and 1 Months</td>\n",
              "      <td>No</td>\n",
              "      <td>49.574949</td>\n",
              "      <td>80.41529543900253</td>\n",
              "      <td>High_spent_Small_value_payments</td>\n",
              "      <td>312.49408867943663</td>\n",
              "      <td>Good</td>\n",
              "    </tr>\n",
              "    <tr>\n",
              "      <th>1</th>\n",
              "      <td>0x1603</td>\n",
              "      <td>CUS_0xd40</td>\n",
              "      <td>February</td>\n",
              "      <td>Aaron Maashoh</td>\n",
              "      <td>23</td>\n",
              "      <td>821-00-0265</td>\n",
              "      <td>Scientist</td>\n",
              "      <td>19114.12</td>\n",
              "      <td>NaN</td>\n",
              "      <td>3</td>\n",
              "      <td>...</td>\n",
              "      <td>Good</td>\n",
              "      <td>809.98</td>\n",
              "      <td>31.944960</td>\n",
              "      <td>NaN</td>\n",
              "      <td>No</td>\n",
              "      <td>49.574949</td>\n",
              "      <td>118.28022162236736</td>\n",
              "      <td>Low_spent_Large_value_payments</td>\n",
              "      <td>284.62916249607184</td>\n",
              "      <td>Good</td>\n",
              "    </tr>\n",
              "    <tr>\n",
              "      <th>2</th>\n",
              "      <td>0x1604</td>\n",
              "      <td>CUS_0xd40</td>\n",
              "      <td>March</td>\n",
              "      <td>Aaron Maashoh</td>\n",
              "      <td>-500</td>\n",
              "      <td>821-00-0265</td>\n",
              "      <td>Scientist</td>\n",
              "      <td>19114.12</td>\n",
              "      <td>NaN</td>\n",
              "      <td>3</td>\n",
              "      <td>...</td>\n",
              "      <td>Good</td>\n",
              "      <td>809.98</td>\n",
              "      <td>28.609352</td>\n",
              "      <td>22 Years and 3 Months</td>\n",
              "      <td>No</td>\n",
              "      <td>49.574949</td>\n",
              "      <td>81.699521264648</td>\n",
              "      <td>Low_spent_Medium_value_payments</td>\n",
              "      <td>331.2098628537912</td>\n",
              "      <td>Good</td>\n",
              "    </tr>\n",
              "    <tr>\n",
              "      <th>3</th>\n",
              "      <td>0x1605</td>\n",
              "      <td>CUS_0xd40</td>\n",
              "      <td>April</td>\n",
              "      <td>Aaron Maashoh</td>\n",
              "      <td>23</td>\n",
              "      <td>821-00-0265</td>\n",
              "      <td>Scientist</td>\n",
              "      <td>19114.12</td>\n",
              "      <td>NaN</td>\n",
              "      <td>3</td>\n",
              "      <td>...</td>\n",
              "      <td>Good</td>\n",
              "      <td>809.98</td>\n",
              "      <td>31.377862</td>\n",
              "      <td>22 Years and 4 Months</td>\n",
              "      <td>No</td>\n",
              "      <td>49.574949</td>\n",
              "      <td>199.4580743910713</td>\n",
              "      <td>Low_spent_Small_value_payments</td>\n",
              "      <td>223.45130972736786</td>\n",
              "      <td>Good</td>\n",
              "    </tr>\n",
              "    <tr>\n",
              "      <th>4</th>\n",
              "      <td>0x1606</td>\n",
              "      <td>CUS_0xd40</td>\n",
              "      <td>May</td>\n",
              "      <td>Aaron Maashoh</td>\n",
              "      <td>23</td>\n",
              "      <td>821-00-0265</td>\n",
              "      <td>Scientist</td>\n",
              "      <td>19114.12</td>\n",
              "      <td>1824.843333</td>\n",
              "      <td>3</td>\n",
              "      <td>...</td>\n",
              "      <td>Good</td>\n",
              "      <td>809.98</td>\n",
              "      <td>24.797347</td>\n",
              "      <td>22 Years and 5 Months</td>\n",
              "      <td>No</td>\n",
              "      <td>49.574949</td>\n",
              "      <td>41.420153086217326</td>\n",
              "      <td>High_spent_Medium_value_payments</td>\n",
              "      <td>341.48923103222177</td>\n",
              "      <td>Good</td>\n",
              "    </tr>\n",
              "  </tbody>\n",
              "</table>\n",
              "<p>5 rows × 28 columns</p>\n",
              "</div>\n",
              "      <button class=\"colab-df-convert\" onclick=\"convertToInteractive('df-6f4fc89b-d165-4e11-a077-d975e1016fff')\"\n",
              "              title=\"Convert this dataframe to an interactive table.\"\n",
              "              style=\"display:none;\">\n",
              "        \n",
              "  <svg xmlns=\"http://www.w3.org/2000/svg\" height=\"24px\"viewBox=\"0 0 24 24\"\n",
              "       width=\"24px\">\n",
              "    <path d=\"M0 0h24v24H0V0z\" fill=\"none\"/>\n",
              "    <path d=\"M18.56 5.44l.94 2.06.94-2.06 2.06-.94-2.06-.94-.94-2.06-.94 2.06-2.06.94zm-11 1L8.5 8.5l.94-2.06 2.06-.94-2.06-.94L8.5 2.5l-.94 2.06-2.06.94zm10 10l.94 2.06.94-2.06 2.06-.94-2.06-.94-.94-2.06-.94 2.06-2.06.94z\"/><path d=\"M17.41 7.96l-1.37-1.37c-.4-.4-.92-.59-1.43-.59-.52 0-1.04.2-1.43.59L10.3 9.45l-7.72 7.72c-.78.78-.78 2.05 0 2.83L4 21.41c.39.39.9.59 1.41.59.51 0 1.02-.2 1.41-.59l7.78-7.78 2.81-2.81c.8-.78.8-2.07 0-2.86zM5.41 20L4 18.59l7.72-7.72 1.47 1.35L5.41 20z\"/>\n",
              "  </svg>\n",
              "      </button>\n",
              "      \n",
              "  <style>\n",
              "    .colab-df-container {\n",
              "      display:flex;\n",
              "      flex-wrap:wrap;\n",
              "      gap: 12px;\n",
              "    }\n",
              "\n",
              "    .colab-df-convert {\n",
              "      background-color: #E8F0FE;\n",
              "      border: none;\n",
              "      border-radius: 50%;\n",
              "      cursor: pointer;\n",
              "      display: none;\n",
              "      fill: #1967D2;\n",
              "      height: 32px;\n",
              "      padding: 0 0 0 0;\n",
              "      width: 32px;\n",
              "    }\n",
              "\n",
              "    .colab-df-convert:hover {\n",
              "      background-color: #E2EBFA;\n",
              "      box-shadow: 0px 1px 2px rgba(60, 64, 67, 0.3), 0px 1px 3px 1px rgba(60, 64, 67, 0.15);\n",
              "      fill: #174EA6;\n",
              "    }\n",
              "\n",
              "    [theme=dark] .colab-df-convert {\n",
              "      background-color: #3B4455;\n",
              "      fill: #D2E3FC;\n",
              "    }\n",
              "\n",
              "    [theme=dark] .colab-df-convert:hover {\n",
              "      background-color: #434B5C;\n",
              "      box-shadow: 0px 1px 3px 1px rgba(0, 0, 0, 0.15);\n",
              "      filter: drop-shadow(0px 1px 2px rgba(0, 0, 0, 0.3));\n",
              "      fill: #FFFFFF;\n",
              "    }\n",
              "  </style>\n",
              "\n",
              "      <script>\n",
              "        const buttonEl =\n",
              "          document.querySelector('#df-6f4fc89b-d165-4e11-a077-d975e1016fff button.colab-df-convert');\n",
              "        buttonEl.style.display =\n",
              "          google.colab.kernel.accessAllowed ? 'block' : 'none';\n",
              "\n",
              "        async function convertToInteractive(key) {\n",
              "          const element = document.querySelector('#df-6f4fc89b-d165-4e11-a077-d975e1016fff');\n",
              "          const dataTable =\n",
              "            await google.colab.kernel.invokeFunction('convertToInteractive',\n",
              "                                                     [key], {});\n",
              "          if (!dataTable) return;\n",
              "\n",
              "          const docLinkHtml = 'Like what you see? Visit the ' +\n",
              "            '<a target=\"_blank\" href=https://colab.research.google.com/notebooks/data_table.ipynb>data table notebook</a>'\n",
              "            + ' to learn more about interactive tables.';\n",
              "          element.innerHTML = '';\n",
              "          dataTable['output_type'] = 'display_data';\n",
              "          await google.colab.output.renderOutput(dataTable, element);\n",
              "          const docLink = document.createElement('div');\n",
              "          docLink.innerHTML = docLinkHtml;\n",
              "          element.appendChild(docLink);\n",
              "        }\n",
              "      </script>\n",
              "    </div>\n",
              "  </div>\n",
              "  "
            ]
          },
          "metadata": {},
          "execution_count": 68
        }
      ]
    },
    {
      "cell_type": "code",
      "source": [
        "aval_df = pd.read_csv('https://github.com/SLMath/Credit_Score-Analysis/raw/main/data/test.csv')\n",
        "print(aval_df.shape)\n",
        "aval_df.head()"
      ],
      "metadata": {
        "colab": {
          "base_uri": "https://localhost:8080/",
          "height": 475
        },
        "id": "nqQhflrIS7-a",
        "outputId": "a90acaf7-3891-4ceb-eabc-de1b91fa1b13"
      },
      "execution_count": 69,
      "outputs": [
        {
          "output_type": "stream",
          "name": "stdout",
          "text": [
            "(50000, 27)\n"
          ]
        },
        {
          "output_type": "execute_result",
          "data": {
            "text/plain": [
              "       ID Customer_ID      Month             Name  Age          SSN  \\\n",
              "0  0x160a   CUS_0xd40  September    Aaron Maashoh   23  821-00-0265   \n",
              "1  0x160b   CUS_0xd40    October    Aaron Maashoh   24  821-00-0265   \n",
              "2  0x160c   CUS_0xd40   November    Aaron Maashoh   24  821-00-0265   \n",
              "3  0x160d   CUS_0xd40   December    Aaron Maashoh  24_  821-00-0265   \n",
              "4  0x1616  CUS_0x21b1  September  Rick Rothackerj   28  004-07-5839   \n",
              "\n",
              "  Occupation Annual_Income  Monthly_Inhand_Salary  Num_Bank_Accounts  ...  \\\n",
              "0  Scientist      19114.12            1824.843333                  3  ...   \n",
              "1  Scientist      19114.12            1824.843333                  3  ...   \n",
              "2  Scientist      19114.12            1824.843333                  3  ...   \n",
              "3  Scientist      19114.12                    NaN                  3  ...   \n",
              "4    _______      34847.84            3037.986667                  2  ...   \n",
              "\n",
              "   Num_Credit_Inquiries  Credit_Mix Outstanding_Debt Credit_Utilization_Ratio  \\\n",
              "0                2022.0        Good           809.98                35.030402   \n",
              "1                   4.0        Good           809.98                33.053114   \n",
              "2                   4.0        Good           809.98                33.811894   \n",
              "3                   4.0        Good           809.98                32.430559   \n",
              "4                   5.0        Good           605.03                25.926822   \n",
              "\n",
              "       Credit_History_Age Payment_of_Min_Amount Total_EMI_per_month  \\\n",
              "0   22 Years and 9 Months                    No           49.574949   \n",
              "1  22 Years and 10 Months                    No           49.574949   \n",
              "2                     NaN                    No           49.574949   \n",
              "3   23 Years and 0 Months                    No           49.574949   \n",
              "4   27 Years and 3 Months                    No           18.816215   \n",
              "\n",
              "   Amount_invested_monthly                 Payment_Behaviour  \\\n",
              "0       236.64268203272135    Low_spent_Small_value_payments   \n",
              "1       21.465380264657146  High_spent_Medium_value_payments   \n",
              "2       148.23393788500925   Low_spent_Medium_value_payments   \n",
              "3        39.08251089460281  High_spent_Medium_value_payments   \n",
              "4       39.684018417945296   High_spent_Large_value_payments   \n",
              "\n",
              "      Monthly_Balance  \n",
              "0  186.26670208571772  \n",
              "1  361.44400385378196  \n",
              "2  264.67544623342997  \n",
              "3  343.82687322383634  \n",
              "4   485.2984336755923  \n",
              "\n",
              "[5 rows x 27 columns]"
            ],
            "text/html": [
              "\n",
              "  <div id=\"df-0c9c208e-03c3-4618-a112-787af6f4ad78\">\n",
              "    <div class=\"colab-df-container\">\n",
              "      <div>\n",
              "<style scoped>\n",
              "    .dataframe tbody tr th:only-of-type {\n",
              "        vertical-align: middle;\n",
              "    }\n",
              "\n",
              "    .dataframe tbody tr th {\n",
              "        vertical-align: top;\n",
              "    }\n",
              "\n",
              "    .dataframe thead th {\n",
              "        text-align: right;\n",
              "    }\n",
              "</style>\n",
              "<table border=\"1\" class=\"dataframe\">\n",
              "  <thead>\n",
              "    <tr style=\"text-align: right;\">\n",
              "      <th></th>\n",
              "      <th>ID</th>\n",
              "      <th>Customer_ID</th>\n",
              "      <th>Month</th>\n",
              "      <th>Name</th>\n",
              "      <th>Age</th>\n",
              "      <th>SSN</th>\n",
              "      <th>Occupation</th>\n",
              "      <th>Annual_Income</th>\n",
              "      <th>Monthly_Inhand_Salary</th>\n",
              "      <th>Num_Bank_Accounts</th>\n",
              "      <th>...</th>\n",
              "      <th>Num_Credit_Inquiries</th>\n",
              "      <th>Credit_Mix</th>\n",
              "      <th>Outstanding_Debt</th>\n",
              "      <th>Credit_Utilization_Ratio</th>\n",
              "      <th>Credit_History_Age</th>\n",
              "      <th>Payment_of_Min_Amount</th>\n",
              "      <th>Total_EMI_per_month</th>\n",
              "      <th>Amount_invested_monthly</th>\n",
              "      <th>Payment_Behaviour</th>\n",
              "      <th>Monthly_Balance</th>\n",
              "    </tr>\n",
              "  </thead>\n",
              "  <tbody>\n",
              "    <tr>\n",
              "      <th>0</th>\n",
              "      <td>0x160a</td>\n",
              "      <td>CUS_0xd40</td>\n",
              "      <td>September</td>\n",
              "      <td>Aaron Maashoh</td>\n",
              "      <td>23</td>\n",
              "      <td>821-00-0265</td>\n",
              "      <td>Scientist</td>\n",
              "      <td>19114.12</td>\n",
              "      <td>1824.843333</td>\n",
              "      <td>3</td>\n",
              "      <td>...</td>\n",
              "      <td>2022.0</td>\n",
              "      <td>Good</td>\n",
              "      <td>809.98</td>\n",
              "      <td>35.030402</td>\n",
              "      <td>22 Years and 9 Months</td>\n",
              "      <td>No</td>\n",
              "      <td>49.574949</td>\n",
              "      <td>236.64268203272135</td>\n",
              "      <td>Low_spent_Small_value_payments</td>\n",
              "      <td>186.26670208571772</td>\n",
              "    </tr>\n",
              "    <tr>\n",
              "      <th>1</th>\n",
              "      <td>0x160b</td>\n",
              "      <td>CUS_0xd40</td>\n",
              "      <td>October</td>\n",
              "      <td>Aaron Maashoh</td>\n",
              "      <td>24</td>\n",
              "      <td>821-00-0265</td>\n",
              "      <td>Scientist</td>\n",
              "      <td>19114.12</td>\n",
              "      <td>1824.843333</td>\n",
              "      <td>3</td>\n",
              "      <td>...</td>\n",
              "      <td>4.0</td>\n",
              "      <td>Good</td>\n",
              "      <td>809.98</td>\n",
              "      <td>33.053114</td>\n",
              "      <td>22 Years and 10 Months</td>\n",
              "      <td>No</td>\n",
              "      <td>49.574949</td>\n",
              "      <td>21.465380264657146</td>\n",
              "      <td>High_spent_Medium_value_payments</td>\n",
              "      <td>361.44400385378196</td>\n",
              "    </tr>\n",
              "    <tr>\n",
              "      <th>2</th>\n",
              "      <td>0x160c</td>\n",
              "      <td>CUS_0xd40</td>\n",
              "      <td>November</td>\n",
              "      <td>Aaron Maashoh</td>\n",
              "      <td>24</td>\n",
              "      <td>821-00-0265</td>\n",
              "      <td>Scientist</td>\n",
              "      <td>19114.12</td>\n",
              "      <td>1824.843333</td>\n",
              "      <td>3</td>\n",
              "      <td>...</td>\n",
              "      <td>4.0</td>\n",
              "      <td>Good</td>\n",
              "      <td>809.98</td>\n",
              "      <td>33.811894</td>\n",
              "      <td>NaN</td>\n",
              "      <td>No</td>\n",
              "      <td>49.574949</td>\n",
              "      <td>148.23393788500925</td>\n",
              "      <td>Low_spent_Medium_value_payments</td>\n",
              "      <td>264.67544623342997</td>\n",
              "    </tr>\n",
              "    <tr>\n",
              "      <th>3</th>\n",
              "      <td>0x160d</td>\n",
              "      <td>CUS_0xd40</td>\n",
              "      <td>December</td>\n",
              "      <td>Aaron Maashoh</td>\n",
              "      <td>24_</td>\n",
              "      <td>821-00-0265</td>\n",
              "      <td>Scientist</td>\n",
              "      <td>19114.12</td>\n",
              "      <td>NaN</td>\n",
              "      <td>3</td>\n",
              "      <td>...</td>\n",
              "      <td>4.0</td>\n",
              "      <td>Good</td>\n",
              "      <td>809.98</td>\n",
              "      <td>32.430559</td>\n",
              "      <td>23 Years and 0 Months</td>\n",
              "      <td>No</td>\n",
              "      <td>49.574949</td>\n",
              "      <td>39.08251089460281</td>\n",
              "      <td>High_spent_Medium_value_payments</td>\n",
              "      <td>343.82687322383634</td>\n",
              "    </tr>\n",
              "    <tr>\n",
              "      <th>4</th>\n",
              "      <td>0x1616</td>\n",
              "      <td>CUS_0x21b1</td>\n",
              "      <td>September</td>\n",
              "      <td>Rick Rothackerj</td>\n",
              "      <td>28</td>\n",
              "      <td>004-07-5839</td>\n",
              "      <td>_______</td>\n",
              "      <td>34847.84</td>\n",
              "      <td>3037.986667</td>\n",
              "      <td>2</td>\n",
              "      <td>...</td>\n",
              "      <td>5.0</td>\n",
              "      <td>Good</td>\n",
              "      <td>605.03</td>\n",
              "      <td>25.926822</td>\n",
              "      <td>27 Years and 3 Months</td>\n",
              "      <td>No</td>\n",
              "      <td>18.816215</td>\n",
              "      <td>39.684018417945296</td>\n",
              "      <td>High_spent_Large_value_payments</td>\n",
              "      <td>485.2984336755923</td>\n",
              "    </tr>\n",
              "  </tbody>\n",
              "</table>\n",
              "<p>5 rows × 27 columns</p>\n",
              "</div>\n",
              "      <button class=\"colab-df-convert\" onclick=\"convertToInteractive('df-0c9c208e-03c3-4618-a112-787af6f4ad78')\"\n",
              "              title=\"Convert this dataframe to an interactive table.\"\n",
              "              style=\"display:none;\">\n",
              "        \n",
              "  <svg xmlns=\"http://www.w3.org/2000/svg\" height=\"24px\"viewBox=\"0 0 24 24\"\n",
              "       width=\"24px\">\n",
              "    <path d=\"M0 0h24v24H0V0z\" fill=\"none\"/>\n",
              "    <path d=\"M18.56 5.44l.94 2.06.94-2.06 2.06-.94-2.06-.94-.94-2.06-.94 2.06-2.06.94zm-11 1L8.5 8.5l.94-2.06 2.06-.94-2.06-.94L8.5 2.5l-.94 2.06-2.06.94zm10 10l.94 2.06.94-2.06 2.06-.94-2.06-.94-.94-2.06-.94 2.06-2.06.94z\"/><path d=\"M17.41 7.96l-1.37-1.37c-.4-.4-.92-.59-1.43-.59-.52 0-1.04.2-1.43.59L10.3 9.45l-7.72 7.72c-.78.78-.78 2.05 0 2.83L4 21.41c.39.39.9.59 1.41.59.51 0 1.02-.2 1.41-.59l7.78-7.78 2.81-2.81c.8-.78.8-2.07 0-2.86zM5.41 20L4 18.59l7.72-7.72 1.47 1.35L5.41 20z\"/>\n",
              "  </svg>\n",
              "      </button>\n",
              "      \n",
              "  <style>\n",
              "    .colab-df-container {\n",
              "      display:flex;\n",
              "      flex-wrap:wrap;\n",
              "      gap: 12px;\n",
              "    }\n",
              "\n",
              "    .colab-df-convert {\n",
              "      background-color: #E8F0FE;\n",
              "      border: none;\n",
              "      border-radius: 50%;\n",
              "      cursor: pointer;\n",
              "      display: none;\n",
              "      fill: #1967D2;\n",
              "      height: 32px;\n",
              "      padding: 0 0 0 0;\n",
              "      width: 32px;\n",
              "    }\n",
              "\n",
              "    .colab-df-convert:hover {\n",
              "      background-color: #E2EBFA;\n",
              "      box-shadow: 0px 1px 2px rgba(60, 64, 67, 0.3), 0px 1px 3px 1px rgba(60, 64, 67, 0.15);\n",
              "      fill: #174EA6;\n",
              "    }\n",
              "\n",
              "    [theme=dark] .colab-df-convert {\n",
              "      background-color: #3B4455;\n",
              "      fill: #D2E3FC;\n",
              "    }\n",
              "\n",
              "    [theme=dark] .colab-df-convert:hover {\n",
              "      background-color: #434B5C;\n",
              "      box-shadow: 0px 1px 3px 1px rgba(0, 0, 0, 0.15);\n",
              "      filter: drop-shadow(0px 1px 2px rgba(0, 0, 0, 0.3));\n",
              "      fill: #FFFFFF;\n",
              "    }\n",
              "  </style>\n",
              "\n",
              "      <script>\n",
              "        const buttonEl =\n",
              "          document.querySelector('#df-0c9c208e-03c3-4618-a112-787af6f4ad78 button.colab-df-convert');\n",
              "        buttonEl.style.display =\n",
              "          google.colab.kernel.accessAllowed ? 'block' : 'none';\n",
              "\n",
              "        async function convertToInteractive(key) {\n",
              "          const element = document.querySelector('#df-0c9c208e-03c3-4618-a112-787af6f4ad78');\n",
              "          const dataTable =\n",
              "            await google.colab.kernel.invokeFunction('convertToInteractive',\n",
              "                                                     [key], {});\n",
              "          if (!dataTable) return;\n",
              "\n",
              "          const docLinkHtml = 'Like what you see? Visit the ' +\n",
              "            '<a target=\"_blank\" href=https://colab.research.google.com/notebooks/data_table.ipynb>data table notebook</a>'\n",
              "            + ' to learn more about interactive tables.';\n",
              "          element.innerHTML = '';\n",
              "          dataTable['output_type'] = 'display_data';\n",
              "          await google.colab.output.renderOutput(dataTable, element);\n",
              "          const docLink = document.createElement('div');\n",
              "          docLink.innerHTML = docLinkHtml;\n",
              "          element.appendChild(docLink);\n",
              "        }\n",
              "      </script>\n",
              "    </div>\n",
              "  </div>\n",
              "  "
            ]
          },
          "metadata": {},
          "execution_count": 69
        }
      ]
    },
    {
      "cell_type": "markdown",
      "source": [
        "# EDA"
      ],
      "metadata": {
        "id": "u33i3bOMgEev"
      }
    },
    {
      "cell_type": "code",
      "source": [
        "import matplotlib.pyplot as plt\n",
        "import seaborn as sns\n",
        "import re"
      ],
      "metadata": {
        "id": "45_Vv9EghopZ"
      },
      "execution_count": 70,
      "outputs": []
    },
    {
      "cell_type": "code",
      "source": [
        "data_df.columns"
      ],
      "metadata": {
        "colab": {
          "base_uri": "https://localhost:8080/"
        },
        "id": "NHSKV0YRjEz9",
        "outputId": "c1a8b344-c90a-415a-ef37-7d4d375ff790"
      },
      "execution_count": 71,
      "outputs": [
        {
          "output_type": "execute_result",
          "data": {
            "text/plain": [
              "Index(['ID', 'Customer_ID', 'Month', 'Name', 'Age', 'SSN', 'Occupation',\n",
              "       'Annual_Income', 'Monthly_Inhand_Salary', 'Num_Bank_Accounts',\n",
              "       'Num_Credit_Card', 'Interest_Rate', 'Num_of_Loan', 'Type_of_Loan',\n",
              "       'Delay_from_due_date', 'Num_of_Delayed_Payment', 'Changed_Credit_Limit',\n",
              "       'Num_Credit_Inquiries', 'Credit_Mix', 'Outstanding_Debt',\n",
              "       'Credit_Utilization_Ratio', 'Credit_History_Age',\n",
              "       'Payment_of_Min_Amount', 'Total_EMI_per_month',\n",
              "       'Amount_invested_monthly', 'Payment_Behaviour', 'Monthly_Balance',\n",
              "       'Credit_Score'],\n",
              "      dtype='object')"
            ]
          },
          "metadata": {},
          "execution_count": 71
        }
      ]
    },
    {
      "cell_type": "markdown",
      "source": [
        "## Verificando dados irrelevantes para a análise"
      ],
      "metadata": {
        "id": "zqEwnlPz_PuC"
      }
    },
    {
      "cell_type": "code",
      "source": [
        "data_df['Customer_ID'].isna().sum()"
      ],
      "metadata": {
        "colab": {
          "base_uri": "https://localhost:8080/"
        },
        "id": "D7zf0SifjWc8",
        "outputId": "de565d92-c210-4eba-b23a-2eec465671b8"
      },
      "execution_count": 72,
      "outputs": [
        {
          "output_type": "execute_result",
          "data": {
            "text/plain": [
              "0"
            ]
          },
          "metadata": {},
          "execution_count": 72
        }
      ]
    },
    {
      "cell_type": "code",
      "source": [
        "len(data_df['Customer_ID'].unique())"
      ],
      "metadata": {
        "colab": {
          "base_uri": "https://localhost:8080/"
        },
        "id": "wCzJ9Q96kT_V",
        "outputId": "8acbf18c-06f7-4047-b597-b8de57a6610f"
      },
      "execution_count": 73,
      "outputs": [
        {
          "output_type": "execute_result",
          "data": {
            "text/plain": [
              "12500"
            ]
          },
          "metadata": {},
          "execution_count": 73
        }
      ]
    },
    {
      "cell_type": "code",
      "source": [
        "data_df['Customer_ID'].apply(lambda cust_prefix: not re.match('CUS_0x[1-9a-f][0-9a-f]*', cust_prefix)).sum()"
      ],
      "metadata": {
        "colab": {
          "base_uri": "https://localhost:8080/"
        },
        "id": "rDOQM7V_kpuU",
        "outputId": "d210715e-d0b6-4feb-9045-064a874e9ca1"
      },
      "execution_count": 74,
      "outputs": [
        {
          "output_type": "execute_result",
          "data": {
            "text/plain": [
              "0"
            ]
          },
          "metadata": {},
          "execution_count": 74
        }
      ]
    },
    {
      "cell_type": "markdown",
      "source": [
        "O \"ID\" é único para cada registro, portando dispensável.\n",
        "\n",
        "Como o \"Customer_ID\", \"Name\" e \"SSN\" são redundantes, manteremos apenas \"Customer_ID\" (verificado que não há nulos).\n",
        "\n",
        "Vimos que existem 12500 Customers IDs diferentes, todos com prefixo 'CUS_0x' seguido de um hexadecimal"
      ],
      "metadata": {
        "id": "e8nEtw9kji9R"
      }
    },
    {
      "cell_type": "code",
      "source": [
        "data_df = data_df.drop(columns= ['ID', 'Name', 'SSN'])"
      ],
      "metadata": {
        "id": "yeNOFK7pid4X"
      },
      "execution_count": 75,
      "outputs": []
    },
    {
      "cell_type": "code",
      "source": [
        "# Extraindo e transformando o hexadecimal em int, para melhorar o processamento e armazenamento dos dados\n",
        "data_df['Customer_ID'] = data_df['Customer_ID'].str[4:].apply(int, base=16)\n",
        "len(data_df['Customer_ID'].unique())"
      ],
      "metadata": {
        "colab": {
          "base_uri": "https://localhost:8080/"
        },
        "id": "PEdFP9U_o2qp",
        "outputId": "43b68bc6-dc24-454e-c2cd-98030b167509"
      },
      "execution_count": 76,
      "outputs": [
        {
          "output_type": "execute_result",
          "data": {
            "text/plain": [
              "12500"
            ]
          },
          "metadata": {},
          "execution_count": 76
        }
      ]
    },
    {
      "cell_type": "markdown",
      "source": [
        "Não houve perdas de customer ID"
      ],
      "metadata": {
        "id": "kyxNcMe8qTtQ"
      }
    },
    {
      "cell_type": "markdown",
      "source": [
        "## Verificando tipos de dados inconsistentes"
      ],
      "metadata": {
        "id": "pOOsDqla_VLP"
      }
    },
    {
      "cell_type": "code",
      "source": [
        "data_df.info()"
      ],
      "metadata": {
        "colab": {
          "base_uri": "https://localhost:8080/"
        },
        "id": "wazkmJU8icDw",
        "outputId": "eb089d89-31a3-4393-f597-b85cfc22ef3a"
      },
      "execution_count": 77,
      "outputs": [
        {
          "output_type": "stream",
          "name": "stdout",
          "text": [
            "<class 'pandas.core.frame.DataFrame'>\n",
            "RangeIndex: 100000 entries, 0 to 99999\n",
            "Data columns (total 25 columns):\n",
            " #   Column                    Non-Null Count   Dtype  \n",
            "---  ------                    --------------   -----  \n",
            " 0   Customer_ID               100000 non-null  int64  \n",
            " 1   Month                     100000 non-null  object \n",
            " 2   Age                       100000 non-null  object \n",
            " 3   Occupation                100000 non-null  object \n",
            " 4   Annual_Income             100000 non-null  object \n",
            " 5   Monthly_Inhand_Salary     84998 non-null   float64\n",
            " 6   Num_Bank_Accounts         100000 non-null  int64  \n",
            " 7   Num_Credit_Card           100000 non-null  int64  \n",
            " 8   Interest_Rate             100000 non-null  int64  \n",
            " 9   Num_of_Loan               100000 non-null  object \n",
            " 10  Type_of_Loan              88592 non-null   object \n",
            " 11  Delay_from_due_date       100000 non-null  int64  \n",
            " 12  Num_of_Delayed_Payment    92998 non-null   object \n",
            " 13  Changed_Credit_Limit      100000 non-null  object \n",
            " 14  Num_Credit_Inquiries      98035 non-null   float64\n",
            " 15  Credit_Mix                100000 non-null  object \n",
            " 16  Outstanding_Debt          100000 non-null  object \n",
            " 17  Credit_Utilization_Ratio  100000 non-null  float64\n",
            " 18  Credit_History_Age        90970 non-null   object \n",
            " 19  Payment_of_Min_Amount     100000 non-null  object \n",
            " 20  Total_EMI_per_month       100000 non-null  float64\n",
            " 21  Amount_invested_monthly   95521 non-null   object \n",
            " 22  Payment_Behaviour         100000 non-null  object \n",
            " 23  Monthly_Balance           98800 non-null   object \n",
            " 24  Credit_Score              100000 non-null  object \n",
            "dtypes: float64(4), int64(5), object(16)\n",
            "memory usage: 19.1+ MB\n"
          ]
        }
      ]
    },
    {
      "cell_type": "markdown",
      "source": [
        "Os seguintes atributos estão com tipos diferentes do esperado:\n",
        "- numéricos, tratados como objetos\n",
        "    - Age\n",
        "    - Annual_Income\n",
        "    - Num_of_Loan\n",
        "    - Num_of_Delayed_Payment\n",
        "    - Changed_Credit_Limit\n",
        "    - Outstanding_Debt\n",
        "    - Credit_History_Age\n",
        "    - Amount_invested_monthly\n",
        "    - Monthly_Balance\n",
        "- inteiro, tratados como float\n",
        "    - Num_Credit_Inquiries"
      ],
      "metadata": {
        "id": "fpwHkjlW-tzu"
      }
    },
    {
      "cell_type": "markdown",
      "source": [
        "### Num_Credit_Inquiries"
      ],
      "metadata": {
        "id": "i8T88FunDI81"
      }
    },
    {
      "cell_type": "code",
      "source": [
        "# Verify not int values\n",
        "pd.Series( value for value in data_df['Num_Credit_Inquiries'] if not value.is_integer() ).unique()"
      ],
      "metadata": {
        "colab": {
          "base_uri": "https://localhost:8080/"
        },
        "id": "XRigBM1H-tPi",
        "outputId": "86dde315-d056-471a-a1f0-47f0e27609d2"
      },
      "execution_count": 78,
      "outputs": [
        {
          "output_type": "execute_result",
          "data": {
            "text/plain": [
              "array([nan])"
            ]
          },
          "metadata": {},
          "execution_count": 78
        }
      ]
    },
    {
      "cell_type": "markdown",
      "source": [
        "### Age"
      ],
      "metadata": {
        "id": "s-jupPfYE0TF"
      }
    },
    {
      "cell_type": "code",
      "source": [
        "# Verify not numerical values\n",
        "data_df['Age'][ pd.to_numeric(data_df['Age'], errors='coerce', ).isna() ].unique()"
      ],
      "metadata": {
        "colab": {
          "base_uri": "https://localhost:8080/"
        },
        "id": "Rv31cy7AEyeJ",
        "outputId": "1e3d89c1-146a-4ad9-a03f-bc594d9157d6"
      },
      "execution_count": 79,
      "outputs": [
        {
          "output_type": "execute_result",
          "data": {
            "text/plain": [
              "array(['28_', '34_', '30_', '24_', '33_', '35_', '31_', '40_', '37_',\n",
              "       '54_', '21_', '20_', '43_', '38_', '18_', '2111_', '46_', '16_',\n",
              "       '19_', '47_', '53_', '25_', '27_', '55_', '42_', '48_', '49_',\n",
              "       '50_', '32_', '22_', '17_', '29_', '15_', '51_', '26_', '39_',\n",
              "       '14_', '36_', '44_', '7670_', '45_', '23_', '41_', '52_', '733_',\n",
              "       '5769_', '4383_', '56_', '2650_', '3307_', '6962_', '5589_',\n",
              "       '6556_', '1447_', '8153_', '3834_', '6744_', '6471_', '7723_',\n",
              "       '7640_', '6408_', '3502_', '7316_', '1102_', '8669_', '2463_',\n",
              "       '6666_', '3055_', '1248_', '2220_', '2159_', '4583_', '3988_',\n",
              "       '2155_', '6770_', '1843_', '1367_', '3742_', '2171_', '5109_',\n",
              "       '3984_', '2474_', '5046_', '7715_', '2329_', '707_', '844_',\n",
              "       '2756_', '2037_', '902_', '8523_', '3640_', '3998_', '3712_',\n",
              "       '2097_', '8348_', '5373_', '3291_', '2994_', '3339_', '2812_',\n",
              "       '3578_', '3564_', '1794_', '737_', '4301_', '2846_', '2373_',\n",
              "       '1188_', '8207_', '5909_', '6381_', '8616_', '6799_', '1591_',\n",
              "       '3775_', '6564_', '7122_', '4913_', '5697_', '3843_', '4445_',\n",
              "       '6921_', '780_', '1070_', '5798_', '4808_'], dtype=object)"
            ]
          },
          "metadata": {},
          "execution_count": 79
        }
      ]
    },
    {
      "cell_type": "code",
      "source": [
        "# remove \"_\" at the end and convert to a number\n",
        "data_df['Age'] = data_df['Age'].str.replace('_', '').astype(int)\n",
        "data_df['Age']"
      ],
      "metadata": {
        "colab": {
          "base_uri": "https://localhost:8080/"
        },
        "id": "labw1-LAF5RF",
        "outputId": "46a7c4d0-df8c-405a-8d97-20881abf860c"
      },
      "execution_count": 80,
      "outputs": [
        {
          "output_type": "execute_result",
          "data": {
            "text/plain": [
              "0         23\n",
              "1         23\n",
              "2       -500\n",
              "3         23\n",
              "4         23\n",
              "        ... \n",
              "99995     25\n",
              "99996     25\n",
              "99997     25\n",
              "99998     25\n",
              "99999     25\n",
              "Name: Age, Length: 100000, dtype: int64"
            ]
          },
          "metadata": {},
          "execution_count": 80
        }
      ]
    },
    {
      "cell_type": "code",
      "source": [
        "# Apply the same for other columns\n",
        "remove_underline_cols = [\n",
        "    'Annual_Income',\n",
        "    'Num_of_Loan',\n",
        "    'Num_of_Delayed_Payment',\n",
        "    'Changed_Credit_Limit',\n",
        "    'Outstanding_Debt',\n",
        "    'Credit_History_Age',\n",
        "    'Amount_invested_monthly',\n",
        "    'Monthly_Balance'\n",
        "]\n",
        "for col in remove_underline_cols:\n",
        "    data_df[col] = data_df[col].str.replace('_', '')\n",
        "    try:\n",
        "        data_df[col] = data_df[col].apply(float)\n",
        "    except:\n",
        "        pass\n",
        "\n",
        "data_df[remove_underline_cols].info()"
      ],
      "metadata": {
        "colab": {
          "base_uri": "https://localhost:8080/"
        },
        "id": "CodzYo1HGuja",
        "outputId": "274cfb6c-fe55-4128-a9be-65be39fddab4"
      },
      "execution_count": 81,
      "outputs": [
        {
          "output_type": "stream",
          "name": "stdout",
          "text": [
            "<class 'pandas.core.frame.DataFrame'>\n",
            "RangeIndex: 100000 entries, 0 to 99999\n",
            "Data columns (total 8 columns):\n",
            " #   Column                   Non-Null Count   Dtype  \n",
            "---  ------                   --------------   -----  \n",
            " 0   Annual_Income            100000 non-null  float64\n",
            " 1   Num_of_Loan              100000 non-null  float64\n",
            " 2   Num_of_Delayed_Payment   92998 non-null   float64\n",
            " 3   Changed_Credit_Limit     100000 non-null  object \n",
            " 4   Outstanding_Debt         100000 non-null  float64\n",
            " 5   Credit_History_Age       90970 non-null   object \n",
            " 6   Amount_invested_monthly  95521 non-null   float64\n",
            " 7   Monthly_Balance          97132 non-null   float64\n",
            "dtypes: float64(6), object(2)\n",
            "memory usage: 6.1+ MB\n"
          ]
        }
      ]
    },
    {
      "cell_type": "markdown",
      "source": [
        "2 colunas ainda precisam de tratamento:\n",
        "1. Changed_Credit_Limit\n",
        "2. Credit_History_Age"
      ],
      "metadata": {
        "id": "V4vRG0MnH8SX"
      }
    },
    {
      "cell_type": "markdown",
      "source": [
        "### Changed_Credit_Limit"
      ],
      "metadata": {
        "id": "8r3ZCrLFGawb"
      }
    },
    {
      "cell_type": "code",
      "source": [
        "# Verify not numerical values\n",
        "data_df['Changed_Credit_Limit'][ pd.to_numeric(data_df['Changed_Credit_Limit'], errors='coerce', ).isna() ].unique()"
      ],
      "metadata": {
        "colab": {
          "base_uri": "https://localhost:8080/"
        },
        "id": "086Ts-ULGeAw",
        "outputId": "89eaa5c5-e31a-4f93-c06c-658ac783526d"
      },
      "execution_count": 82,
      "outputs": [
        {
          "output_type": "execute_result",
          "data": {
            "text/plain": [
              "array([''], dtype=object)"
            ]
          },
          "metadata": {},
          "execution_count": 82
        }
      ]
    },
    {
      "cell_type": "code",
      "source": [
        "# Tratar dados faltantes como nulos\n",
        "data_df['Changed_Credit_Limit'] = pd.to_numeric(data_df['Changed_Credit_Limit'], errors='coerce')\n",
        "data_df['Changed_Credit_Limit']"
      ],
      "metadata": {
        "colab": {
          "base_uri": "https://localhost:8080/"
        },
        "id": "bKZFSbisIh7l",
        "outputId": "cf898f64-cd05-415e-dd79-fbe177b14fd1"
      },
      "execution_count": 83,
      "outputs": [
        {
          "output_type": "execute_result",
          "data": {
            "text/plain": [
              "0        11.27\n",
              "1        11.27\n",
              "2          NaN\n",
              "3         6.27\n",
              "4        11.27\n",
              "         ...  \n",
              "99995    11.50\n",
              "99996    11.50\n",
              "99997    11.50\n",
              "99998    11.50\n",
              "99999    11.50\n",
              "Name: Changed_Credit_Limit, Length: 100000, dtype: float64"
            ]
          },
          "metadata": {},
          "execution_count": 83
        }
      ]
    },
    {
      "cell_type": "markdown",
      "source": [
        "### Credit_History_Age"
      ],
      "metadata": {
        "id": "uaQ4JgFOIuL_"
      }
    },
    {
      "cell_type": "code",
      "source": [
        "# Verify not numerical values\n",
        "data_df['Credit_History_Age'][ pd.to_numeric(data_df['Credit_History_Age'], errors='coerce', ).isna() ].unique()"
      ],
      "metadata": {
        "colab": {
          "base_uri": "https://localhost:8080/"
        },
        "id": "0fhQENLvIt2p",
        "outputId": "b6a6697d-257d-4028-e82c-4a4a83dafa7e"
      },
      "execution_count": 84,
      "outputs": [
        {
          "output_type": "execute_result",
          "data": {
            "text/plain": [
              "array(['22 Years and 1 Months', nan, '22 Years and 3 Months',\n",
              "       '22 Years and 4 Months', '22 Years and 5 Months',\n",
              "       '22 Years and 6 Months', '22 Years and 7 Months',\n",
              "       '26 Years and 7 Months', '26 Years and 8 Months',\n",
              "       '26 Years and 9 Months', '26 Years and 10 Months',\n",
              "       '26 Years and 11 Months', '27 Years and 0 Months',\n",
              "       '27 Years and 1 Months', '27 Years and 2 Months',\n",
              "       '17 Years and 9 Months', '17 Years and 10 Months',\n",
              "       '17 Years and 11 Months', '18 Years and 1 Months',\n",
              "       '18 Years and 2 Months', '18 Years and 3 Months',\n",
              "       '18 Years and 4 Months', '17 Years and 3 Months',\n",
              "       '17 Years and 4 Months', '17 Years and 5 Months',\n",
              "       '17 Years and 6 Months', '17 Years and 7 Months',\n",
              "       '17 Years and 8 Months', '30 Years and 8 Months',\n",
              "       '30 Years and 9 Months', '30 Years and 10 Months',\n",
              "       '30 Years and 11 Months', '31 Years and 0 Months',\n",
              "       '31 Years and 1 Months', '31 Years and 2 Months',\n",
              "       '31 Years and 3 Months', '32 Years and 0 Months',\n",
              "       '32 Years and 2 Months', '32 Years and 3 Months',\n",
              "       '32 Years and 5 Months', '32 Years and 6 Months',\n",
              "       '30 Years and 7 Months', '14 Years and 8 Months',\n",
              "       '14 Years and 9 Months', '14 Years and 10 Months',\n",
              "       '14 Years and 11 Months', '15 Years and 0 Months',\n",
              "       '15 Years and 1 Months', '15 Years and 2 Months',\n",
              "       '21 Years and 4 Months', '21 Years and 5 Months',\n",
              "       '21 Years and 6 Months', '21 Years and 7 Months',\n",
              "       '21 Years and 8 Months', '21 Years and 9 Months',\n",
              "       '21 Years and 10 Months', '21 Years and 11 Months',\n",
              "       '26 Years and 6 Months', '19 Years and 2 Months',\n",
              "       '19 Years and 3 Months', '19 Years and 4 Months',\n",
              "       '19 Years and 5 Months', '19 Years and 6 Months',\n",
              "       '19 Years and 7 Months', '19 Years and 8 Months',\n",
              "       '25 Years and 5 Months', '25 Years and 6 Months',\n",
              "       '25 Years and 7 Months', '25 Years and 8 Months',\n",
              "       '25 Years and 9 Months', '25 Years and 10 Months',\n",
              "       '25 Years and 11 Months', '26 Years and 0 Months',\n",
              "       '27 Years and 3 Months', '27 Years and 4 Months',\n",
              "       '27 Years and 5 Months', '8 Years and 11 Months',\n",
              "       '9 Years and 0 Months', '9 Years and 1 Months',\n",
              "       '9 Years and 2 Months', '9 Years and 3 Months',\n",
              "       '9 Years and 4 Months', '9 Years and 6 Months',\n",
              "       '18 Years and 5 Months', '18 Years and 6 Months',\n",
              "       '18 Years and 8 Months', '18 Years and 9 Months',\n",
              "       '16 Years and 10 Months', '16 Years and 11 Months',\n",
              "       '17 Years and 0 Months', '17 Years and 1 Months',\n",
              "       '17 Years and 2 Months', '29 Years and 2 Months',\n",
              "       '29 Years and 3 Months', '29 Years and 4 Months',\n",
              "       '29 Years and 6 Months', '29 Years and 8 Months',\n",
              "       '29 Years and 9 Months', '6 Years and 5 Months',\n",
              "       '6 Years and 6 Months', '6 Years and 7 Months',\n",
              "       '6 Years and 8 Months', '6 Years and 9 Months',\n",
              "       '6 Years and 10 Months', '6 Years and 11 Months',\n",
              "       '7 Years and 0 Months', '27 Years and 6 Months',\n",
              "       '27 Years and 7 Months', '27 Years and 8 Months',\n",
              "       '27 Years and 9 Months', '18 Years and 7 Months',\n",
              "       '19 Years and 9 Months', '19 Years and 10 Months',\n",
              "       '10 Years and 1 Months', '10 Years and 2 Months',\n",
              "       '10 Years and 3 Months', '10 Years and 4 Months',\n",
              "       '10 Years and 5 Months', '10 Years and 6 Months',\n",
              "       '10 Years and 7 Months', '10 Years and 8 Months',\n",
              "       '32 Years and 9 Months', '32 Years and 10 Months',\n",
              "       '32 Years and 11 Months', '33 Years and 0 Months',\n",
              "       '33 Years and 1 Months', '33 Years and 4 Months',\n",
              "       '12 Years and 3 Months', '12 Years and 4 Months',\n",
              "       '12 Years and 5 Months', '12 Years and 6 Months',\n",
              "       '12 Years and 7 Months', '12 Years and 8 Months',\n",
              "       '12 Years and 10 Months', '12 Years and 9 Months',\n",
              "       '13 Years and 8 Months', '13 Years and 11 Months',\n",
              "       '14 Years and 0 Months', '14 Years and 1 Months',\n",
              "       '14 Years and 2 Months', '14 Years and 3 Months',\n",
              "       '30 Years and 3 Months', '30 Years and 4 Months',\n",
              "       '30 Years and 5 Months', '30 Years and 6 Months',\n",
              "       '8 Years and 9 Months', '8 Years and 10 Months',\n",
              "       '18 Years and 10 Months', '18 Years and 11 Months',\n",
              "       '19 Years and 0 Months', '19 Years and 1 Months',\n",
              "       '8 Years and 8 Months', '13 Years and 1 Months',\n",
              "       '13 Years and 2 Months', '13 Years and 3 Months',\n",
              "       '13 Years and 5 Months', '13 Years and 6 Months',\n",
              "       '13 Years and 7 Months', '22 Years and 0 Months',\n",
              "       '26 Years and 1 Months', '26 Years and 2 Months',\n",
              "       '13 Years and 4 Months', '13 Years and 9 Months',\n",
              "       '27 Years and 11 Months', '28 Years and 0 Months',\n",
              "       '28 Years and 1 Months', '28 Years and 2 Months',\n",
              "       '28 Years and 3 Months', '28 Years and 4 Months',\n",
              "       '28 Years and 5 Months', '28 Years and 6 Months',\n",
              "       '7 Years and 10 Months', '7 Years and 11 Months',\n",
              "       '8 Years and 0 Months', '8 Years and 1 Months',\n",
              "       '8 Years and 2 Months', '8 Years and 3 Months',\n",
              "       '8 Years and 4 Months', '8 Years and 5 Months',\n",
              "       '24 Years and 3 Months', '24 Years and 4 Months',\n",
              "       '24 Years and 5 Months', '24 Years and 6 Months',\n",
              "       '24 Years and 7 Months', '24 Years and 8 Months',\n",
              "       '24 Years and 9 Months', '1 Years and 2 Months',\n",
              "       '1 Years and 3 Months', '1 Years and 4 Months',\n",
              "       '1 Years and 5 Months', '1 Years and 6 Months',\n",
              "       '1 Years and 7 Months', '1 Years and 8 Months',\n",
              "       '10 Years and 11 Months', '11 Years and 0 Months',\n",
              "       '11 Years and 1 Months', '11 Years and 2 Months',\n",
              "       '11 Years and 3 Months', '11 Years and 4 Months',\n",
              "       '11 Years and 5 Months', '11 Years and 6 Months',\n",
              "       '19 Years and 11 Months', '20 Years and 0 Months',\n",
              "       '20 Years and 1 Months', '10 Years and 9 Months',\n",
              "       '10 Years and 10 Months', '14 Years and 4 Months',\n",
              "       '14 Years and 5 Months', '14 Years and 6 Months',\n",
              "       '20 Years and 8 Months', '20 Years and 9 Months',\n",
              "       '20 Years and 10 Months', '20 Years and 11 Months',\n",
              "       '21 Years and 0 Months', '21 Years and 1 Months',\n",
              "       '21 Years and 2 Months', '21 Years and 3 Months',\n",
              "       '0 Years and 4 Months', '0 Years and 5 Months',\n",
              "       '0 Years and 6 Months', '0 Years and 8 Months',\n",
              "       '0 Years and 9 Months', '0 Years and 10 Months',\n",
              "       '31 Years and 7 Months', '31 Years and 8 Months',\n",
              "       '31 Years and 9 Months', '31 Years and 10 Months',\n",
              "       '31 Years and 11 Months', '32 Years and 1 Months',\n",
              "       '12 Years and 11 Months', '13 Years and 0 Months',\n",
              "       '27 Years and 10 Months', '11 Years and 7 Months',\n",
              "       '11 Years and 8 Months', '11 Years and 9 Months',\n",
              "       '11 Years and 10 Months', '24 Years and 10 Months',\n",
              "       '24 Years and 11 Months', '25 Years and 0 Months',\n",
              "       '25 Years and 1 Months', '25 Years and 2 Months',\n",
              "       '25 Years and 3 Months', '18 Years and 0 Months',\n",
              "       '31 Years and 4 Months', '31 Years and 5 Months',\n",
              "       '31 Years and 6 Months', '5 Years and 2 Months',\n",
              "       '5 Years and 3 Months', '5 Years and 4 Months',\n",
              "       '5 Years and 5 Months', '5 Years and 6 Months',\n",
              "       '5 Years and 7 Months', '5 Years and 8 Months',\n",
              "       '5 Years and 9 Months', '2 Years and 11 Months',\n",
              "       '3 Years and 0 Months', '3 Years and 1 Months',\n",
              "       '3 Years and 2 Months', '3 Years and 3 Months',\n",
              "       '3 Years and 4 Months', '3 Years and 5 Months',\n",
              "       '3 Years and 6 Months', '16 Years and 4 Months',\n",
              "       '16 Years and 5 Months', '16 Years and 6 Months',\n",
              "       '16 Years and 7 Months', '16 Years and 8 Months',\n",
              "       '16 Years and 9 Months', '22 Years and 11 Months',\n",
              "       '23 Years and 0 Months', '23 Years and 2 Months',\n",
              "       '23 Years and 3 Months', '23 Years and 4 Months',\n",
              "       '23 Years and 5 Months', '23 Years and 6 Months',\n",
              "       '8 Years and 6 Months', '8 Years and 7 Months',\n",
              "       '4 Years and 5 Months', '4 Years and 6 Months',\n",
              "       '4 Years and 7 Months', '4 Years and 8 Months',\n",
              "       '4 Years and 9 Months', '4 Years and 10 Months',\n",
              "       '4 Years and 11 Months', '5 Years and 0 Months',\n",
              "       '32 Years and 8 Months', '33 Years and 2 Months',\n",
              "       '33 Years and 3 Months', '12 Years and 2 Months',\n",
              "       '32 Years and 4 Months', '29 Years and 11 Months',\n",
              "       '30 Years and 0 Months', '30 Years and 2 Months',\n",
              "       '26 Years and 3 Months', '26 Years and 4 Months',\n",
              "       '26 Years and 5 Months', '7 Years and 6 Months',\n",
              "       '7 Years and 7 Months', '7 Years and 8 Months',\n",
              "       '7 Years and 9 Months', '28 Years and 7 Months',\n",
              "       '28 Years and 8 Months', '28 Years and 9 Months',\n",
              "       '28 Years and 10 Months', '29 Years and 5 Months',\n",
              "       '29 Years and 7 Months', '20 Years and 2 Months',\n",
              "       '20 Years and 3 Months', '20 Years and 4 Months',\n",
              "       '20 Years and 5 Months', '20 Years and 6 Months',\n",
              "       '20 Years and 7 Months', '28 Years and 11 Months',\n",
              "       '29 Years and 0 Months', '13 Years and 10 Months',\n",
              "       '1 Years and 9 Months', '1 Years and 10 Months',\n",
              "       '1 Years and 11 Months', '33 Years and 5 Months',\n",
              "       '33 Years and 6 Months', '33 Years and 7 Months',\n",
              "       '33 Years and 8 Months', '29 Years and 1 Months',\n",
              "       '5 Years and 1 Months', '5 Years and 10 Months',\n",
              "       '5 Years and 11 Months', '6 Years and 0 Months',\n",
              "       '6 Years and 1 Months', '6 Years and 2 Months',\n",
              "       '6 Years and 3 Months', '22 Years and 9 Months',\n",
              "       '22 Years and 10 Months', '23 Years and 1 Months',\n",
              "       '22 Years and 2 Months', '15 Years and 4 Months',\n",
              "       '15 Years and 5 Months', '15 Years and 6 Months',\n",
              "       '15 Years and 7 Months', '15 Years and 8 Months',\n",
              "       '15 Years and 9 Months', '15 Years and 10 Months',\n",
              "       '15 Years and 11 Months', '2 Years and 3 Months',\n",
              "       '2 Years and 4 Months', '2 Years and 5 Months',\n",
              "       '2 Years and 6 Months', '2 Years and 7 Months',\n",
              "       '2 Years and 8 Months', '2 Years and 9 Months',\n",
              "       '2 Years and 10 Months', '2 Years and 0 Months',\n",
              "       '16 Years and 2 Months', '16 Years and 3 Months',\n",
              "       '22 Years and 8 Months', '9 Years and 5 Months',\n",
              "       '9 Years and 7 Months', '9 Years and 8 Months',\n",
              "       '9 Years and 9 Months', '11 Years and 11 Months',\n",
              "       '12 Years and 0 Months', '12 Years and 1 Months',\n",
              "       '24 Years and 2 Months', '16 Years and 0 Months',\n",
              "       '16 Years and 1 Months', '14 Years and 7 Months',\n",
              "       '25 Years and 4 Months', '15 Years and 3 Months',\n",
              "       '7 Years and 1 Months', '7 Years and 2 Months',\n",
              "       '7 Years and 3 Months', '7 Years and 4 Months',\n",
              "       '7 Years and 5 Months', '23 Years and 7 Months',\n",
              "       '23 Years and 8 Months', '23 Years and 9 Months',\n",
              "       '30 Years and 1 Months', '29 Years and 10 Months',\n",
              "       '9 Years and 10 Months', '9 Years and 11 Months',\n",
              "       '10 Years and 0 Months', '2 Years and 2 Months',\n",
              "       '23 Years and 10 Months', '23 Years and 11 Months',\n",
              "       '24 Years and 0 Months', '24 Years and 1 Months',\n",
              "       '6 Years and 4 Months', '0 Years and 1 Months',\n",
              "       '0 Years and 2 Months', '0 Years and 3 Months',\n",
              "       '0 Years and 7 Months', '3 Years and 8 Months',\n",
              "       '32 Years and 7 Months', '3 Years and 7 Months',\n",
              "       '3 Years and 9 Months', '3 Years and 10 Months',\n",
              "       '0 Years and 11 Months', '1 Years and 0 Months',\n",
              "       '1 Years and 1 Months', '4 Years and 4 Months',\n",
              "       '3 Years and 11 Months', '4 Years and 0 Months',\n",
              "       '4 Years and 1 Months', '4 Years and 2 Months',\n",
              "       '4 Years and 3 Months', '2 Years and 1 Months'], dtype=object)"
            ]
          },
          "metadata": {},
          "execution_count": 84
        }
      ]
    },
    {
      "cell_type": "code",
      "source": [
        "# Verificar o formato:\n",
        "formato_age = '\\d+ Years and \\d+ Months'\n",
        "np.any(\n",
        "    data_df['Credit_History_Age']\\\n",
        "    .dropna()\\\n",
        "    .apply(lambda value: not re.match(formato_age, value))\n",
        ")"
      ],
      "metadata": {
        "colab": {
          "base_uri": "https://localhost:8080/"
        },
        "id": "dEZ7l4rcI4gs",
        "outputId": "186dbc7b-f1f4-4cc9-99af-382c79d631a5"
      },
      "execution_count": 85,
      "outputs": [
        {
          "output_type": "execute_result",
          "data": {
            "text/plain": [
              "False"
            ]
          },
          "metadata": {},
          "execution_count": 85
        }
      ]
    },
    {
      "cell_type": "code",
      "source": [
        "# Transformar texto em numero de meses\n",
        "def extract_number_months(years_months_str):\n",
        "    y, m = np.array(years_months_str.split('-')).astype(int)\n",
        "    return y * 12 + m\n",
        "\n",
        "# Transform: '{y} Years and {m} Months' into '{y}-{m}', and then apply extract_number_months\n",
        "data_df['Credit_History_Age'] = data_df['Credit_History_Age']\\\n",
        "    .dropna()\\\n",
        "    .str.replace(' Years and ', '-')\\\n",
        "    .str.replace(' Months', '')\\\n",
        "    .apply(extract_number_months)\n",
        "\n",
        "data_df['Credit_History_Age']"
      ],
      "metadata": {
        "colab": {
          "base_uri": "https://localhost:8080/"
        },
        "id": "BlWAG-rdJrCp",
        "outputId": "051ca8ff-78b9-4fb1-ce13-7d7529e5e889"
      },
      "execution_count": 86,
      "outputs": [
        {
          "output_type": "execute_result",
          "data": {
            "text/plain": [
              "0        265.0\n",
              "1          NaN\n",
              "2        267.0\n",
              "3        268.0\n",
              "4        269.0\n",
              "         ...  \n",
              "99995    378.0\n",
              "99996    379.0\n",
              "99997    380.0\n",
              "99998    381.0\n",
              "99999    382.0\n",
              "Name: Credit_History_Age, Length: 100000, dtype: float64"
            ]
          },
          "metadata": {},
          "execution_count": 86
        }
      ]
    },
    {
      "cell_type": "markdown",
      "source": [
        "### Month: text to number"
      ],
      "metadata": {
        "id": "i3eZQzzJRcDG"
      }
    },
    {
      "cell_type": "code",
      "source": [
        "# assumindo que todos os dados são do mesmo ano, transformaremos a coluna de meses\n",
        "# para numerica para permitir ordenação.\n",
        "# OBS: não usaremos datatime pois ele requer uma data, e não temos ano\n",
        "mapa_meses = {\n",
        "    'January' : 1,\n",
        "    'February' : 2,\n",
        "    'March' : 3,\n",
        "    'April' : 4,\n",
        "    'May' : 5,\n",
        "    'June' : 6,\n",
        "    'July' : 7,\n",
        "    'August' : 8\n",
        "}\n",
        "\n",
        "data_df['Month'] = data_df['Month'].map(mapa_meses)\n",
        "data_df['Month']"
      ],
      "metadata": {
        "colab": {
          "base_uri": "https://localhost:8080/"
        },
        "id": "3aErcIa9RoU0",
        "outputId": "2369911f-a905-400d-984f-17f9aaca7f98"
      },
      "execution_count": 87,
      "outputs": [
        {
          "output_type": "execute_result",
          "data": {
            "text/plain": [
              "0        1\n",
              "1        2\n",
              "2        3\n",
              "3        4\n",
              "4        5\n",
              "        ..\n",
              "99995    4\n",
              "99996    5\n",
              "99997    6\n",
              "99998    7\n",
              "99999    8\n",
              "Name: Month, Length: 100000, dtype: int64"
            ]
          },
          "metadata": {},
          "execution_count": 87
        }
      ]
    },
    {
      "cell_type": "markdown",
      "source": [
        "## Tratar Dados Nulos"
      ],
      "metadata": {
        "id": "xqy96LFigdjj"
      }
    },
    {
      "cell_type": "markdown",
      "source": [
        "Verificar contagem de dados nulos (faltantes/NaN)"
      ],
      "metadata": {
        "id": "wmFpWQkiOnrI"
      }
    },
    {
      "cell_type": "code",
      "source": [
        "na_data = data_df.isna().sum()\n",
        "na_data[na_data > 0]"
      ],
      "metadata": {
        "colab": {
          "base_uri": "https://localhost:8080/"
        },
        "id": "Hhky9tXdNTNb",
        "outputId": "7d0aedda-1a14-4449-c997-f385c7d409a8"
      },
      "execution_count": 88,
      "outputs": [
        {
          "output_type": "execute_result",
          "data": {
            "text/plain": [
              "Monthly_Inhand_Salary      15002\n",
              "Type_of_Loan               11408\n",
              "Num_of_Delayed_Payment      7002\n",
              "Changed_Credit_Limit        2091\n",
              "Num_Credit_Inquiries        1965\n",
              "Credit_History_Age          9030\n",
              "Amount_invested_monthly     4479\n",
              "Monthly_Balance             2868\n",
              "dtype: int64"
            ]
          },
          "metadata": {},
          "execution_count": 88
        }
      ]
    },
    {
      "cell_type": "code",
      "source": [
        "print(f'porcentagem de dados nulos: { na_data.sum() / len(data_df) :.1%}')\n",
        "print(f'porcentagem de registros com algum dado nulo: { np.any(data_df.isna(), axis= 1).sum() / len(data_df) :.1%}')"
      ],
      "metadata": {
        "colab": {
          "base_uri": "https://localhost:8080/"
        },
        "id": "NiIBtKAyNvPP",
        "outputId": "d035f6c1-67ab-44f0-b809-336ac6dcf870"
      },
      "execution_count": 89,
      "outputs": [
        {
          "output_type": "stream",
          "name": "stdout",
          "text": [
            "porcentagem de dados nulos: 53.8%\n",
            "porcentagem de registros com algum dado nulo: 43.3%\n"
          ]
        }
      ]
    },
    {
      "cell_type": "markdown",
      "source": [
        "Como a porcentagem de registros é muita alta, vamos tentar preencher dados nulos.\n",
        "\n",
        "Seguiremos a ordem das colunas pela contagem de nulos.\n"
      ],
      "metadata": {
        "id": "Q6efXtCvPEkK"
      }
    },
    {
      "cell_type": "markdown",
      "source": [
        "#### Monthly_Inhand_Salary"
      ],
      "metadata": {
        "id": "1Bxx1qnuT_aL"
      }
    },
    {
      "cell_type": "code",
      "source": [
        "# Monthly_Inhand_Salary might be filled with data from same customer\n",
        "len( data_df.dropna(subset= 'Monthly_Inhand_Salary')['Customer_ID'].unique() )"
      ],
      "metadata": {
        "colab": {
          "base_uri": "https://localhost:8080/"
        },
        "id": "ukN5U-ZMPEEY",
        "outputId": "ea77a44b-a478-4ef5-a970-ab768da5345d"
      },
      "execution_count": 90,
      "outputs": [
        {
          "output_type": "execute_result",
          "data": {
            "text/plain": [
              "12500"
            ]
          },
          "metadata": {},
          "execution_count": 90
        }
      ]
    },
    {
      "cell_type": "code",
      "source": [
        "# Since all 12500 have at least a single not null value, we can use this value to\n",
        "# estimate the missing data\n",
        "\n",
        "# Primeiro, tentamos preencher os dados com o valor encontrado no mes anterior, mas\n",
        "# isso pode falhar caso o primeiro mes esteja nulo\n",
        "fill_salary_forward = data_df.sort_values('Month').groupby('Customer_ID')['Monthly_Inhand_Salary'].transform(\n",
        "    lambda salary_group: salary_group.fillna(method= 'ffill')\n",
        ").sort_index()\n",
        "filled_salary = data_df['Monthly_Inhand_Salary'].fillna(fill_salary_forward)\n",
        "\n",
        "filled_salary[filled_salary.isna()]"
      ],
      "metadata": {
        "colab": {
          "base_uri": "https://localhost:8080/"
        },
        "id": "NK8-D5_0WbUQ",
        "outputId": "e57e4783-c8a4-4610-bd9c-89d97bf188e0"
      },
      "execution_count": 91,
      "outputs": [
        {
          "output_type": "execute_result",
          "data": {
            "text/plain": [
              "40      NaN\n",
              "56      NaN\n",
              "104     NaN\n",
              "128     NaN\n",
              "168     NaN\n",
              "         ..\n",
              "99816   NaN\n",
              "99817   NaN\n",
              "99888   NaN\n",
              "99928   NaN\n",
              "99944   NaN\n",
              "Name: Monthly_Inhand_Salary, Length: 2196, dtype: float64"
            ]
          },
          "metadata": {},
          "execution_count": 91
        }
      ]
    },
    {
      "cell_type": "code",
      "source": [
        "# analyze these data, to see if they were unemployed or some other reason for missing data\n",
        "data_df[fill_salary_forward.isna()]"
      ],
      "metadata": {
        "colab": {
          "base_uri": "https://localhost:8080/",
          "height": 477
        },
        "id": "cfDmylijXEIY",
        "outputId": "5d40a743-2ee8-458e-96ed-4bd3eed1f137"
      },
      "execution_count": 92,
      "outputs": [
        {
          "output_type": "execute_result",
          "data": {
            "text/plain": [
              "       Customer_ID  Month   Age     Occupation  Annual_Income  \\\n",
              "40           38382      1    31         Lawyer      73928.460   \n",
              "56           21511      1  7580  Media_Manager      34081.380   \n",
              "104          27750      1    39        Manager       8701.545   \n",
              "128          24688      1    20     Accountant      92047.080   \n",
              "168          41326      1    41  Media_Manager      10183.015   \n",
              "...            ...    ...   ...            ...            ...   \n",
              "99816        16557      1    19      Scientist      65858.480   \n",
              "99817        16557      2    19      Scientist      65858.480   \n",
              "99888        35242      1    38        Manager      85744.120   \n",
              "99928        45340      1    38        Manager      15319.650   \n",
              "99944        20915      1    33  Media_Manager      59146.360   \n",
              "\n",
              "       Monthly_Inhand_Salary  Num_Bank_Accounts  Num_Credit_Card  \\\n",
              "40                       NaN                  4             1288   \n",
              "56                       NaN                  8                7   \n",
              "104                      NaN                  6                5   \n",
              "128                      NaN                  6                7   \n",
              "168                      NaN                  7                5   \n",
              "...                      ...                ...              ...   \n",
              "99816                    NaN                  7                7   \n",
              "99817                    NaN                  7                7   \n",
              "99888                    NaN                  6                7   \n",
              "99928                    NaN                  6                7   \n",
              "99944                    NaN                  2                5   \n",
              "\n",
              "       Interest_Rate  Num_of_Loan  ... Credit_Mix  Outstanding_Debt  \\\n",
              "40                 8          0.0  ...       Good            548.20   \n",
              "56                15          3.0  ...   Standard           1704.18   \n",
              "104               32          7.0  ...          _           2602.69   \n",
              "128               16          0.0  ...   Standard           1296.64   \n",
              "168               17          5.0  ...        Bad           1672.43   \n",
              "...              ...          ...  ...        ...               ...   \n",
              "99816             30          5.0  ...   Standard           2344.57   \n",
              "99817             30          5.0  ...   Standard           2344.57   \n",
              "99888             11          2.0  ...   Standard            717.79   \n",
              "99928             15          4.0  ...        Bad           1453.61   \n",
              "99944              6          1.0  ...          _            418.03   \n",
              "\n",
              "       Credit_Utilization_Ratio  Credit_History_Age  Payment_of_Min_Amount  \\\n",
              "40                    39.962685                 NaN                     No   \n",
              "56                    24.448063                 NaN                     NM   \n",
              "104                   24.523164               107.0                    Yes   \n",
              "128                   37.115615               350.0                    Yes   \n",
              "168                   25.951273               121.0                    Yes   \n",
              "...                         ...                 ...                    ...   \n",
              "99816                 28.744030                76.0                    Yes   \n",
              "99817                 38.218221                 NaN                    Yes   \n",
              "99888                 27.777284               183.0                    Yes   \n",
              "99928                 36.518222               129.0                    Yes   \n",
              "99944                 34.720661                 NaN                     No   \n",
              "\n",
              "      Total_EMI_per_month  Amount_invested_monthly  \\\n",
              "40           15015.000000                98.674410   \n",
              "56              70.478333               162.441009   \n",
              "104             36.548197                13.066210   \n",
              "128              0.000000               154.634123   \n",
              "168             37.588073                14.622739   \n",
              "...                   ...                      ...   \n",
              "99816          261.201218                91.928818   \n",
              "99817          261.201218               165.236290   \n",
              "99888           72.099176               160.090877   \n",
              "99928           28.182033               167.888435   \n",
              "99944           26.778419               606.436542   \n",
              "\n",
              "                      Payment_Behaviour  Monthly_Balance Credit_Score  \n",
              "40      High_spent_Large_value_payments       740.196090         Good  \n",
              "56       Low_spent_Large_value_payments       298.192158         Poor  \n",
              "104      Low_spent_Large_value_payments       272.298468         Poor  \n",
              "128                              !@9#%8       854.524877     Standard  \n",
              "168     High_spent_Large_value_payments       295.247646         Poor  \n",
              "...                                 ...              ...          ...  \n",
              "99816  High_spent_Medium_value_payments              NaN         Poor  \n",
              "99817  High_spent_Medium_value_payments              NaN         Poor  \n",
              "99888   High_spent_Large_value_payments              NaN     Standard  \n",
              "99928    Low_spent_Small_value_payments              NaN         Poor  \n",
              "99944    Low_spent_Small_value_payments              NaN     Standard  \n",
              "\n",
              "[2196 rows x 25 columns]"
            ],
            "text/html": [
              "\n",
              "  <div id=\"df-ac8e4a71-65f2-4f48-ba6e-39f1c0835b4b\">\n",
              "    <div class=\"colab-df-container\">\n",
              "      <div>\n",
              "<style scoped>\n",
              "    .dataframe tbody tr th:only-of-type {\n",
              "        vertical-align: middle;\n",
              "    }\n",
              "\n",
              "    .dataframe tbody tr th {\n",
              "        vertical-align: top;\n",
              "    }\n",
              "\n",
              "    .dataframe thead th {\n",
              "        text-align: right;\n",
              "    }\n",
              "</style>\n",
              "<table border=\"1\" class=\"dataframe\">\n",
              "  <thead>\n",
              "    <tr style=\"text-align: right;\">\n",
              "      <th></th>\n",
              "      <th>Customer_ID</th>\n",
              "      <th>Month</th>\n",
              "      <th>Age</th>\n",
              "      <th>Occupation</th>\n",
              "      <th>Annual_Income</th>\n",
              "      <th>Monthly_Inhand_Salary</th>\n",
              "      <th>Num_Bank_Accounts</th>\n",
              "      <th>Num_Credit_Card</th>\n",
              "      <th>Interest_Rate</th>\n",
              "      <th>Num_of_Loan</th>\n",
              "      <th>...</th>\n",
              "      <th>Credit_Mix</th>\n",
              "      <th>Outstanding_Debt</th>\n",
              "      <th>Credit_Utilization_Ratio</th>\n",
              "      <th>Credit_History_Age</th>\n",
              "      <th>Payment_of_Min_Amount</th>\n",
              "      <th>Total_EMI_per_month</th>\n",
              "      <th>Amount_invested_monthly</th>\n",
              "      <th>Payment_Behaviour</th>\n",
              "      <th>Monthly_Balance</th>\n",
              "      <th>Credit_Score</th>\n",
              "    </tr>\n",
              "  </thead>\n",
              "  <tbody>\n",
              "    <tr>\n",
              "      <th>40</th>\n",
              "      <td>38382</td>\n",
              "      <td>1</td>\n",
              "      <td>31</td>\n",
              "      <td>Lawyer</td>\n",
              "      <td>73928.460</td>\n",
              "      <td>NaN</td>\n",
              "      <td>4</td>\n",
              "      <td>1288</td>\n",
              "      <td>8</td>\n",
              "      <td>0.0</td>\n",
              "      <td>...</td>\n",
              "      <td>Good</td>\n",
              "      <td>548.20</td>\n",
              "      <td>39.962685</td>\n",
              "      <td>NaN</td>\n",
              "      <td>No</td>\n",
              "      <td>15015.000000</td>\n",
              "      <td>98.674410</td>\n",
              "      <td>High_spent_Large_value_payments</td>\n",
              "      <td>740.196090</td>\n",
              "      <td>Good</td>\n",
              "    </tr>\n",
              "    <tr>\n",
              "      <th>56</th>\n",
              "      <td>21511</td>\n",
              "      <td>1</td>\n",
              "      <td>7580</td>\n",
              "      <td>Media_Manager</td>\n",
              "      <td>34081.380</td>\n",
              "      <td>NaN</td>\n",
              "      <td>8</td>\n",
              "      <td>7</td>\n",
              "      <td>15</td>\n",
              "      <td>3.0</td>\n",
              "      <td>...</td>\n",
              "      <td>Standard</td>\n",
              "      <td>1704.18</td>\n",
              "      <td>24.448063</td>\n",
              "      <td>NaN</td>\n",
              "      <td>NM</td>\n",
              "      <td>70.478333</td>\n",
              "      <td>162.441009</td>\n",
              "      <td>Low_spent_Large_value_payments</td>\n",
              "      <td>298.192158</td>\n",
              "      <td>Poor</td>\n",
              "    </tr>\n",
              "    <tr>\n",
              "      <th>104</th>\n",
              "      <td>27750</td>\n",
              "      <td>1</td>\n",
              "      <td>39</td>\n",
              "      <td>Manager</td>\n",
              "      <td>8701.545</td>\n",
              "      <td>NaN</td>\n",
              "      <td>6</td>\n",
              "      <td>5</td>\n",
              "      <td>32</td>\n",
              "      <td>7.0</td>\n",
              "      <td>...</td>\n",
              "      <td>_</td>\n",
              "      <td>2602.69</td>\n",
              "      <td>24.523164</td>\n",
              "      <td>107.0</td>\n",
              "      <td>Yes</td>\n",
              "      <td>36.548197</td>\n",
              "      <td>13.066210</td>\n",
              "      <td>Low_spent_Large_value_payments</td>\n",
              "      <td>272.298468</td>\n",
              "      <td>Poor</td>\n",
              "    </tr>\n",
              "    <tr>\n",
              "      <th>128</th>\n",
              "      <td>24688</td>\n",
              "      <td>1</td>\n",
              "      <td>20</td>\n",
              "      <td>Accountant</td>\n",
              "      <td>92047.080</td>\n",
              "      <td>NaN</td>\n",
              "      <td>6</td>\n",
              "      <td>7</td>\n",
              "      <td>16</td>\n",
              "      <td>0.0</td>\n",
              "      <td>...</td>\n",
              "      <td>Standard</td>\n",
              "      <td>1296.64</td>\n",
              "      <td>37.115615</td>\n",
              "      <td>350.0</td>\n",
              "      <td>Yes</td>\n",
              "      <td>0.000000</td>\n",
              "      <td>154.634123</td>\n",
              "      <td>!@9#%8</td>\n",
              "      <td>854.524877</td>\n",
              "      <td>Standard</td>\n",
              "    </tr>\n",
              "    <tr>\n",
              "      <th>168</th>\n",
              "      <td>41326</td>\n",
              "      <td>1</td>\n",
              "      <td>41</td>\n",
              "      <td>Media_Manager</td>\n",
              "      <td>10183.015</td>\n",
              "      <td>NaN</td>\n",
              "      <td>7</td>\n",
              "      <td>5</td>\n",
              "      <td>17</td>\n",
              "      <td>5.0</td>\n",
              "      <td>...</td>\n",
              "      <td>Bad</td>\n",
              "      <td>1672.43</td>\n",
              "      <td>25.951273</td>\n",
              "      <td>121.0</td>\n",
              "      <td>Yes</td>\n",
              "      <td>37.588073</td>\n",
              "      <td>14.622739</td>\n",
              "      <td>High_spent_Large_value_payments</td>\n",
              "      <td>295.247646</td>\n",
              "      <td>Poor</td>\n",
              "    </tr>\n",
              "    <tr>\n",
              "      <th>...</th>\n",
              "      <td>...</td>\n",
              "      <td>...</td>\n",
              "      <td>...</td>\n",
              "      <td>...</td>\n",
              "      <td>...</td>\n",
              "      <td>...</td>\n",
              "      <td>...</td>\n",
              "      <td>...</td>\n",
              "      <td>...</td>\n",
              "      <td>...</td>\n",
              "      <td>...</td>\n",
              "      <td>...</td>\n",
              "      <td>...</td>\n",
              "      <td>...</td>\n",
              "      <td>...</td>\n",
              "      <td>...</td>\n",
              "      <td>...</td>\n",
              "      <td>...</td>\n",
              "      <td>...</td>\n",
              "      <td>...</td>\n",
              "      <td>...</td>\n",
              "    </tr>\n",
              "    <tr>\n",
              "      <th>99816</th>\n",
              "      <td>16557</td>\n",
              "      <td>1</td>\n",
              "      <td>19</td>\n",
              "      <td>Scientist</td>\n",
              "      <td>65858.480</td>\n",
              "      <td>NaN</td>\n",
              "      <td>7</td>\n",
              "      <td>7</td>\n",
              "      <td>30</td>\n",
              "      <td>5.0</td>\n",
              "      <td>...</td>\n",
              "      <td>Standard</td>\n",
              "      <td>2344.57</td>\n",
              "      <td>28.744030</td>\n",
              "      <td>76.0</td>\n",
              "      <td>Yes</td>\n",
              "      <td>261.201218</td>\n",
              "      <td>91.928818</td>\n",
              "      <td>High_spent_Medium_value_payments</td>\n",
              "      <td>NaN</td>\n",
              "      <td>Poor</td>\n",
              "    </tr>\n",
              "    <tr>\n",
              "      <th>99817</th>\n",
              "      <td>16557</td>\n",
              "      <td>2</td>\n",
              "      <td>19</td>\n",
              "      <td>Scientist</td>\n",
              "      <td>65858.480</td>\n",
              "      <td>NaN</td>\n",
              "      <td>7</td>\n",
              "      <td>7</td>\n",
              "      <td>30</td>\n",
              "      <td>5.0</td>\n",
              "      <td>...</td>\n",
              "      <td>Standard</td>\n",
              "      <td>2344.57</td>\n",
              "      <td>38.218221</td>\n",
              "      <td>NaN</td>\n",
              "      <td>Yes</td>\n",
              "      <td>261.201218</td>\n",
              "      <td>165.236290</td>\n",
              "      <td>High_spent_Medium_value_payments</td>\n",
              "      <td>NaN</td>\n",
              "      <td>Poor</td>\n",
              "    </tr>\n",
              "    <tr>\n",
              "      <th>99888</th>\n",
              "      <td>35242</td>\n",
              "      <td>1</td>\n",
              "      <td>38</td>\n",
              "      <td>Manager</td>\n",
              "      <td>85744.120</td>\n",
              "      <td>NaN</td>\n",
              "      <td>6</td>\n",
              "      <td>7</td>\n",
              "      <td>11</td>\n",
              "      <td>2.0</td>\n",
              "      <td>...</td>\n",
              "      <td>Standard</td>\n",
              "      <td>717.79</td>\n",
              "      <td>27.777284</td>\n",
              "      <td>183.0</td>\n",
              "      <td>Yes</td>\n",
              "      <td>72.099176</td>\n",
              "      <td>160.090877</td>\n",
              "      <td>High_spent_Large_value_payments</td>\n",
              "      <td>NaN</td>\n",
              "      <td>Standard</td>\n",
              "    </tr>\n",
              "    <tr>\n",
              "      <th>99928</th>\n",
              "      <td>45340</td>\n",
              "      <td>1</td>\n",
              "      <td>38</td>\n",
              "      <td>Manager</td>\n",
              "      <td>15319.650</td>\n",
              "      <td>NaN</td>\n",
              "      <td>6</td>\n",
              "      <td>7</td>\n",
              "      <td>15</td>\n",
              "      <td>4.0</td>\n",
              "      <td>...</td>\n",
              "      <td>Bad</td>\n",
              "      <td>1453.61</td>\n",
              "      <td>36.518222</td>\n",
              "      <td>129.0</td>\n",
              "      <td>Yes</td>\n",
              "      <td>28.182033</td>\n",
              "      <td>167.888435</td>\n",
              "      <td>Low_spent_Small_value_payments</td>\n",
              "      <td>NaN</td>\n",
              "      <td>Poor</td>\n",
              "    </tr>\n",
              "    <tr>\n",
              "      <th>99944</th>\n",
              "      <td>20915</td>\n",
              "      <td>1</td>\n",
              "      <td>33</td>\n",
              "      <td>Media_Manager</td>\n",
              "      <td>59146.360</td>\n",
              "      <td>NaN</td>\n",
              "      <td>2</td>\n",
              "      <td>5</td>\n",
              "      <td>6</td>\n",
              "      <td>1.0</td>\n",
              "      <td>...</td>\n",
              "      <td>_</td>\n",
              "      <td>418.03</td>\n",
              "      <td>34.720661</td>\n",
              "      <td>NaN</td>\n",
              "      <td>No</td>\n",
              "      <td>26.778419</td>\n",
              "      <td>606.436542</td>\n",
              "      <td>Low_spent_Small_value_payments</td>\n",
              "      <td>NaN</td>\n",
              "      <td>Standard</td>\n",
              "    </tr>\n",
              "  </tbody>\n",
              "</table>\n",
              "<p>2196 rows × 25 columns</p>\n",
              "</div>\n",
              "      <button class=\"colab-df-convert\" onclick=\"convertToInteractive('df-ac8e4a71-65f2-4f48-ba6e-39f1c0835b4b')\"\n",
              "              title=\"Convert this dataframe to an interactive table.\"\n",
              "              style=\"display:none;\">\n",
              "        \n",
              "  <svg xmlns=\"http://www.w3.org/2000/svg\" height=\"24px\"viewBox=\"0 0 24 24\"\n",
              "       width=\"24px\">\n",
              "    <path d=\"M0 0h24v24H0V0z\" fill=\"none\"/>\n",
              "    <path d=\"M18.56 5.44l.94 2.06.94-2.06 2.06-.94-2.06-.94-.94-2.06-.94 2.06-2.06.94zm-11 1L8.5 8.5l.94-2.06 2.06-.94-2.06-.94L8.5 2.5l-.94 2.06-2.06.94zm10 10l.94 2.06.94-2.06 2.06-.94-2.06-.94-.94-2.06-.94 2.06-2.06.94z\"/><path d=\"M17.41 7.96l-1.37-1.37c-.4-.4-.92-.59-1.43-.59-.52 0-1.04.2-1.43.59L10.3 9.45l-7.72 7.72c-.78.78-.78 2.05 0 2.83L4 21.41c.39.39.9.59 1.41.59.51 0 1.02-.2 1.41-.59l7.78-7.78 2.81-2.81c.8-.78.8-2.07 0-2.86zM5.41 20L4 18.59l7.72-7.72 1.47 1.35L5.41 20z\"/>\n",
              "  </svg>\n",
              "      </button>\n",
              "      \n",
              "  <style>\n",
              "    .colab-df-container {\n",
              "      display:flex;\n",
              "      flex-wrap:wrap;\n",
              "      gap: 12px;\n",
              "    }\n",
              "\n",
              "    .colab-df-convert {\n",
              "      background-color: #E8F0FE;\n",
              "      border: none;\n",
              "      border-radius: 50%;\n",
              "      cursor: pointer;\n",
              "      display: none;\n",
              "      fill: #1967D2;\n",
              "      height: 32px;\n",
              "      padding: 0 0 0 0;\n",
              "      width: 32px;\n",
              "    }\n",
              "\n",
              "    .colab-df-convert:hover {\n",
              "      background-color: #E2EBFA;\n",
              "      box-shadow: 0px 1px 2px rgba(60, 64, 67, 0.3), 0px 1px 3px 1px rgba(60, 64, 67, 0.15);\n",
              "      fill: #174EA6;\n",
              "    }\n",
              "\n",
              "    [theme=dark] .colab-df-convert {\n",
              "      background-color: #3B4455;\n",
              "      fill: #D2E3FC;\n",
              "    }\n",
              "\n",
              "    [theme=dark] .colab-df-convert:hover {\n",
              "      background-color: #434B5C;\n",
              "      box-shadow: 0px 1px 3px 1px rgba(0, 0, 0, 0.15);\n",
              "      filter: drop-shadow(0px 1px 2px rgba(0, 0, 0, 0.3));\n",
              "      fill: #FFFFFF;\n",
              "    }\n",
              "  </style>\n",
              "\n",
              "      <script>\n",
              "        const buttonEl =\n",
              "          document.querySelector('#df-ac8e4a71-65f2-4f48-ba6e-39f1c0835b4b button.colab-df-convert');\n",
              "        buttonEl.style.display =\n",
              "          google.colab.kernel.accessAllowed ? 'block' : 'none';\n",
              "\n",
              "        async function convertToInteractive(key) {\n",
              "          const element = document.querySelector('#df-ac8e4a71-65f2-4f48-ba6e-39f1c0835b4b');\n",
              "          const dataTable =\n",
              "            await google.colab.kernel.invokeFunction('convertToInteractive',\n",
              "                                                     [key], {});\n",
              "          if (!dataTable) return;\n",
              "\n",
              "          const docLinkHtml = 'Like what you see? Visit the ' +\n",
              "            '<a target=\"_blank\" href=https://colab.research.google.com/notebooks/data_table.ipynb>data table notebook</a>'\n",
              "            + ' to learn more about interactive tables.';\n",
              "          element.innerHTML = '';\n",
              "          dataTable['output_type'] = 'display_data';\n",
              "          await google.colab.output.renderOutput(dataTable, element);\n",
              "          const docLink = document.createElement('div');\n",
              "          docLink.innerHTML = docLinkHtml;\n",
              "          element.appendChild(docLink);\n",
              "        }\n",
              "      </script>\n",
              "    </div>\n",
              "  </div>\n",
              "  "
            ]
          },
          "metadata": {},
          "execution_count": 92
        }
      ]
    },
    {
      "cell_type": "code",
      "source": [
        "# since Annual_Income is a valid value, let's procced using backward propagation\n",
        "fill_salary_backward = data_df.sort_values('Month').groupby('Customer_ID')['Monthly_Inhand_Salary'].transform(\n",
        "    lambda salary_group: salary_group.fillna(method= 'bfill')\n",
        ").sort_index()\n",
        "filled_salary = filled_salary.fillna(fill_salary_backward)\n",
        "\n",
        "filled_salary[filled_salary.isna()]"
      ],
      "metadata": {
        "colab": {
          "base_uri": "https://localhost:8080/"
        },
        "id": "70TolxbwXoTI",
        "outputId": "0a18dabe-8b08-4d6d-96bc-aa1a1b6d530e"
      },
      "execution_count": 93,
      "outputs": [
        {
          "output_type": "execute_result",
          "data": {
            "text/plain": [
              "Series([], Name: Monthly_Inhand_Salary, dtype: float64)"
            ]
          },
          "metadata": {},
          "execution_count": 93
        }
      ]
    },
    {
      "cell_type": "code",
      "source": [
        "data_df['Monthly_Inhand_Salary'] = filled_salary\n",
        "data_df['Monthly_Inhand_Salary'].isna().sum()"
      ],
      "metadata": {
        "colab": {
          "base_uri": "https://localhost:8080/"
        },
        "id": "1SRh6TQHYkxP",
        "outputId": "ee5c97f5-c9aa-43be-f66c-20ba688f3954"
      },
      "execution_count": 94,
      "outputs": [
        {
          "output_type": "execute_result",
          "data": {
            "text/plain": [
              "0"
            ]
          },
          "metadata": {},
          "execution_count": 94
        }
      ]
    },
    {
      "cell_type": "markdown",
      "source": [
        "#### Using Customer_ID to fill \"customer-constante\" columuns\n"
      ],
      "metadata": {
        "id": "x7_WIgzOWdKJ"
      }
    },
    {
      "cell_type": "code",
      "source": [
        "# Type_of_Loan, Num_of_Delayed_Payment, Num_Credit_Inquiries can be set the same way\n",
        "cust_cte_cols = ['Type_of_Loan', 'Num_of_Delayed_Payment', 'Num_Credit_Inquiries']\n",
        "for col in cust_cte_cols:\n",
        "    print(col, len( data_df.dropna(subset= col)['Customer_ID'].unique() ))"
      ],
      "metadata": {
        "colab": {
          "base_uri": "https://localhost:8080/"
        },
        "id": "p41AXFgsWlc6",
        "outputId": "69942661-b2f4-433d-9246-ef3a708d867b"
      },
      "execution_count": 95,
      "outputs": [
        {
          "output_type": "stream",
          "name": "stdout",
          "text": [
            "Type_of_Loan 11074\n",
            "Num_of_Delayed_Payment 12500\n",
            "Num_Credit_Inquiries 12500\n"
          ]
        }
      ]
    },
    {
      "cell_type": "markdown",
      "source": [
        "Type_of_Loan não vai ser completamente preenchida, mas as outras duas sim\n"
      ],
      "metadata": {
        "id": "bsBb93u6aNXZ"
      }
    },
    {
      "cell_type": "code",
      "source": [
        "cust_cte_fill_forward = data_df.sort_values('Month').groupby('Customer_ID')[cust_cte_cols].transform(\n",
        "    lambda salary_group: salary_group.fillna(method= 'ffill')\n",
        ").sort_index()\n",
        "filled_cust_cte_cols = data_df[cust_cte_cols].fillna(cust_cte_fill_forward)\n",
        "filled_cust_cte_cols.isna().sum()"
      ],
      "metadata": {
        "colab": {
          "base_uri": "https://localhost:8080/"
        },
        "id": "pPZnQMd-X3VS",
        "outputId": "ad554819-c42d-49d1-e36a-d49ad6a0d805"
      },
      "execution_count": 96,
      "outputs": [
        {
          "output_type": "execute_result",
          "data": {
            "text/plain": [
              "Type_of_Loan              11408\n",
              "Num_of_Delayed_Payment      927\n",
              "Num_Credit_Inquiries        241\n",
              "dtype: int64"
            ]
          },
          "metadata": {},
          "execution_count": 96
        }
      ]
    },
    {
      "cell_type": "code",
      "source": [
        "cust_cte_fill_backward = data_df.sort_values('Month').groupby('Customer_ID')[cust_cte_cols].transform(\n",
        "    lambda salary_group: salary_group.fillna(method= 'bfill')\n",
        ").sort_index()\n",
        "filled_cust_cte_cols = filled_cust_cte_cols.fillna(cust_cte_fill_backward)\n",
        "filled_cust_cte_cols.isna().sum()"
      ],
      "metadata": {
        "colab": {
          "base_uri": "https://localhost:8080/"
        },
        "id": "DELAl8xvarbp",
        "outputId": "4c6c395b-b973-4696-ce7b-cc1955b2c771"
      },
      "execution_count": 97,
      "outputs": [
        {
          "output_type": "execute_result",
          "data": {
            "text/plain": [
              "Type_of_Loan              11408\n",
              "Num_of_Delayed_Payment        0\n",
              "Num_Credit_Inquiries          0\n",
              "dtype: int64"
            ]
          },
          "metadata": {},
          "execution_count": 97
        }
      ]
    },
    {
      "cell_type": "code",
      "source": [
        "data_df[cust_cte_cols] = filled_cust_cte_cols"
      ],
      "metadata": {
        "id": "57wGGyWRbHH8"
      },
      "execution_count": 98,
      "outputs": []
    },
    {
      "cell_type": "markdown",
      "source": [
        "#### Type_of_Loan"
      ],
      "metadata": {
        "id": "6vIeXW0MY19W"
      }
    },
    {
      "cell_type": "code",
      "source": [
        "# Verificar se houve um número positivos de emprestimo para os dados vazios em Type_of_Loan\n",
        "data_df.query('Type_of_Loan.isnull()')['Num_of_Loan'].unique()"
      ],
      "metadata": {
        "colab": {
          "base_uri": "https://localhost:8080/"
        },
        "id": "Rts0Xkt-O2-5",
        "outputId": "5ca320ae-68ff-43d0-f82a-6ec2e16e183c"
      },
      "execution_count": 99,
      "outputs": [
        {
          "output_type": "execute_result",
          "data": {
            "text/plain": [
              "array([   0., -100.,  501., 1035., 1347.,  193., 1451.,  995.,  654.,\n",
              "        153.,  911., 1369.,  143., 1416.,  238., 1070., 1444.,  103.,\n",
              "        172.,  252.,  330.,  394., 1227.,  859.,  336.,   50.,  940.,\n",
              "       1447.,  881.,  538.,  999.,  831., 1384.,  621., 1419., 1430.,\n",
              "       1382.,  437.,  372.,  126., 1074.,  288.,  378.,  652.,   33.,\n",
              "        439., 1296.,  773.,  415.,  275.,  350.,  507., 1129., 1027.,\n",
              "        897.,  546.,  215., 1478.,   83.,   18.,  801.])"
            ]
          },
          "metadata": {},
          "execution_count": 99
        }
      ]
    },
    {
      "cell_type": "code",
      "source": [
        "# Como existe um tipo de empréstimo \"Not Specified\", vamos usar esse tipo nos\n",
        "# casos em que houve algum empréstimo, mas estão com tipo nulo\n",
        "not_specified_loans = data_df.query('Num_of_Loan > 0')['Type_of_Loan'].fillna(\"Not Specified\")\n",
        "data_df['Type_of_Loan'] = data_df['Type_of_Loan'].fillna(not_specified_loans)\n",
        "\n",
        "data_df.query('Type_of_Loan.isnull()')['Num_of_Loan'].unique()"
      ],
      "metadata": {
        "colab": {
          "base_uri": "https://localhost:8080/"
        },
        "id": "clOIbN8rPj1w",
        "outputId": "81e0d56e-cc9a-4449-a81d-0b35eedcd104"
      },
      "execution_count": 100,
      "outputs": [
        {
          "output_type": "execute_result",
          "data": {
            "text/plain": [
              "array([   0., -100.])"
            ]
          },
          "metadata": {},
          "execution_count": 100
        }
      ]
    },
    {
      "cell_type": "markdown",
      "source": [
        "#### Changed_Credit_Limit"
      ],
      "metadata": {
        "id": "V_evKyF9ccWG"
      }
    },
    {
      "cell_type": "code",
      "source": [
        "# Verifica quantos customers tem pelo menos um valor de 'Changed_Credit_Limit'\n",
        "len( data_df.dropna(subset= 'Changed_Credit_Limit')['Customer_ID'].unique() )"
      ],
      "metadata": {
        "colab": {
          "base_uri": "https://localhost:8080/"
        },
        "id": "xpFKNp8_VUzx",
        "outputId": "e744ef5a-ea27-42e5-f02b-7bf0b4e830f0"
      },
      "execution_count": 101,
      "outputs": [
        {
          "output_type": "execute_result",
          "data": {
            "text/plain": [
              "12500"
            ]
          },
          "metadata": {},
          "execution_count": 101
        }
      ]
    },
    {
      "cell_type": "code",
      "source": [
        "# Como todos possuem, podemos analisar os valores para entender como melhor preenche-los\n",
        "data_df.query('Changed_Credit_Limit.isnull()').groupby('Customer_ID')['Changed_Credit_Limit'].size().sort_values(ascending= False)"
      ],
      "metadata": {
        "colab": {
          "base_uri": "https://localhost:8080/"
        },
        "id": "tLXv57tZeaJs",
        "outputId": "f367f68a-22c2-4124-d4ec-03c94e8799f4"
      },
      "execution_count": 102,
      "outputs": [
        {
          "output_type": "execute_result",
          "data": {
            "text/plain": [
              "Customer_ID\n",
              "28666    3\n",
              "16173    3\n",
              "45946    3\n",
              "46029    3\n",
              "49454    3\n",
              "        ..\n",
              "18410    1\n",
              "18395    1\n",
              "18354    1\n",
              "18325    1\n",
              "50996    1\n",
              "Name: Changed_Credit_Limit, Length: 1960, dtype: int64"
            ]
          },
          "metadata": {},
          "execution_count": 102
        }
      ]
    },
    {
      "cell_type": "code",
      "source": [
        "# caso exemplo 1\n",
        "data_df[data_df['Customer_ID'] == 28666].Changed_Credit_Limit"
      ],
      "metadata": {
        "colab": {
          "base_uri": "https://localhost:8080/"
        },
        "id": "z8uvWADhiiDE",
        "outputId": "0bab96ed-ce31-4ef9-b55f-6420f5820d48"
      },
      "execution_count": 103,
      "outputs": [
        {
          "output_type": "execute_result",
          "data": {
            "text/plain": [
              "96000    19.95\n",
              "96001    19.95\n",
              "96002    19.95\n",
              "96003      NaN\n",
              "96004    19.95\n",
              "96005      NaN\n",
              "96006      NaN\n",
              "96007    19.95\n",
              "Name: Changed_Credit_Limit, dtype: float64"
            ]
          },
          "metadata": {},
          "execution_count": 103
        }
      ]
    },
    {
      "cell_type": "code",
      "source": [
        "# caso exemplo 2\n",
        "data_df[data_df['Customer_ID'] == 46029].Changed_Credit_Limit"
      ],
      "metadata": {
        "colab": {
          "base_uri": "https://localhost:8080/"
        },
        "id": "lPa0e7RIjCMv",
        "outputId": "bf204d41-f343-46ee-ea3c-3c2a74887a74"
      },
      "execution_count": 104,
      "outputs": [
        {
          "output_type": "execute_result",
          "data": {
            "text/plain": [
              "7760    2.41\n",
              "7761    9.41\n",
              "7762    2.41\n",
              "7763     NaN\n",
              "7764     NaN\n",
              "7765    2.41\n",
              "7766    2.41\n",
              "7767     NaN\n",
              "Name: Changed_Credit_Limit, dtype: float64"
            ]
          },
          "metadata": {},
          "execution_count": 104
        }
      ]
    },
    {
      "cell_type": "code",
      "source": [
        "# caso exemplo 3\n",
        "data_df[data_df['Customer_ID'] == 18325].Changed_Credit_Limit"
      ],
      "metadata": {
        "colab": {
          "base_uri": "https://localhost:8080/"
        },
        "id": "yZ-ACVgPjKDq",
        "outputId": "8db92095-2085-4c33-eada-2705e1a106e0"
      },
      "execution_count": 105,
      "outputs": [
        {
          "output_type": "execute_result",
          "data": {
            "text/plain": [
              "28832     NaN\n",
              "28833    3.66\n",
              "28834    3.66\n",
              "28835    3.66\n",
              "28836    3.66\n",
              "28837    3.66\n",
              "28838    3.66\n",
              "28839    8.66\n",
              "Name: Changed_Credit_Limit, dtype: float64"
            ]
          },
          "metadata": {},
          "execution_count": 105
        }
      ]
    },
    {
      "cell_type": "code",
      "source": [
        "# vamos substituir nulos pela moda\n",
        "data_df['Changed_Credit_Limit'] = data_df['Changed_Credit_Limit'].fillna(\n",
        "    data_df.groupby('Customer_ID')['Changed_Credit_Limit'].transform(\n",
        "        lambda limits: limits.value_counts().index[0]\n",
        "    )\n",
        ")\n",
        "data_df['Changed_Credit_Limit'].isna().sum()"
      ],
      "metadata": {
        "colab": {
          "base_uri": "https://localhost:8080/"
        },
        "id": "BOUWZ6BTjH6Z",
        "outputId": "6cde2f07-825e-45ae-b332-2d422c58e6a7"
      },
      "execution_count": 106,
      "outputs": [
        {
          "output_type": "execute_result",
          "data": {
            "text/plain": [
              "0"
            ]
          },
          "metadata": {},
          "execution_count": 106
        }
      ]
    },
    {
      "cell_type": "code",
      "source": [
        "# caso exemplo 2\n",
        "data_df[data_df['Customer_ID'] == 46029].Changed_Credit_Limit"
      ],
      "metadata": {
        "colab": {
          "base_uri": "https://localhost:8080/"
        },
        "id": "dNM38d9qmN5Q",
        "outputId": "2a958bb1-6d46-4ffb-d3b8-ad56ec2912d2"
      },
      "execution_count": 107,
      "outputs": [
        {
          "output_type": "execute_result",
          "data": {
            "text/plain": [
              "7760    2.41\n",
              "7761    9.41\n",
              "7762    2.41\n",
              "7763    2.41\n",
              "7764    2.41\n",
              "7765    2.41\n",
              "7766    2.41\n",
              "7767    2.41\n",
              "Name: Changed_Credit_Limit, dtype: float64"
            ]
          },
          "metadata": {},
          "execution_count": 107
        }
      ]
    },
    {
      "cell_type": "code",
      "source": [
        "# caso exemplo 3\n",
        "data_df[data_df['Customer_ID'] == 18325].Changed_Credit_Limit"
      ],
      "metadata": {
        "colab": {
          "base_uri": "https://localhost:8080/"
        },
        "id": "R6kOekCFkDBf",
        "outputId": "7f2e7908-e5e4-4f58-b53a-6e6301d3800e"
      },
      "execution_count": 108,
      "outputs": [
        {
          "output_type": "execute_result",
          "data": {
            "text/plain": [
              "28832    3.66\n",
              "28833    3.66\n",
              "28834    3.66\n",
              "28835    3.66\n",
              "28836    3.66\n",
              "28837    3.66\n",
              "28838    3.66\n",
              "28839    8.66\n",
              "Name: Changed_Credit_Limit, dtype: float64"
            ]
          },
          "metadata": {},
          "execution_count": 108
        }
      ]
    },
    {
      "cell_type": "markdown",
      "source": [
        "#### Credit_History_Age"
      ],
      "metadata": {
        "id": "y8RXFeKAcgm8"
      }
    },
    {
      "cell_type": "code",
      "source": [
        "# Verifica quantos customers tem pelo menos um valor de 'Changed_Credit_Limit'\n",
        "len( data_df.dropna(subset= 'Credit_History_Age')['Customer_ID'].unique() )"
      ],
      "metadata": {
        "colab": {
          "base_uri": "https://localhost:8080/"
        },
        "id": "491VS11nmaje",
        "outputId": "5bce3611-639c-4694-8315-231ce5b54bed"
      },
      "execution_count": 109,
      "outputs": [
        {
          "output_type": "execute_result",
          "data": {
            "text/plain": [
              "12500"
            ]
          },
          "metadata": {},
          "execution_count": 109
        }
      ]
    },
    {
      "cell_type": "code",
      "source": [
        "# Como todos possuem, podemos analisar os valores para entender como melhor preenche-los\n",
        "data_df.query('Credit_History_Age.isnull()').groupby('Customer_ID')['Credit_History_Age'].size().sort_values(ascending= False)"
      ],
      "metadata": {
        "colab": {
          "base_uri": "https://localhost:8080/"
        },
        "id": "wxOL-nwjwFoU",
        "outputId": "09187762-1409-4457-d9a4-52d1f824aef2"
      },
      "execution_count": 110,
      "outputs": [
        {
          "output_type": "execute_result",
          "data": {
            "text/plain": [
              "Customer_ID\n",
              "1161     5\n",
              "14528    5\n",
              "36934    4\n",
              "38958    4\n",
              "41768    4\n",
              "        ..\n",
              "20436    1\n",
              "20434    1\n",
              "20425    1\n",
              "20417    1\n",
              "50996    1\n",
              "Name: Credit_History_Age, Length: 6650, dtype: int64"
            ]
          },
          "metadata": {},
          "execution_count": 110
        }
      ]
    },
    {
      "cell_type": "code",
      "source": [
        "# caso exemplo 1\n",
        "data_df[data_df['Customer_ID'] == 1161].Credit_History_Age"
      ],
      "metadata": {
        "colab": {
          "base_uri": "https://localhost:8080/"
        },
        "id": "7GNsLYe4vwPt",
        "outputId": "6736757d-1acc-4cdf-c5de-b0baa96e305b"
      },
      "execution_count": 111,
      "outputs": [
        {
          "output_type": "execute_result",
          "data": {
            "text/plain": [
              "18088      NaN\n",
              "18089      NaN\n",
              "18090      NaN\n",
              "18091    202.0\n",
              "18092      NaN\n",
              "18093    204.0\n",
              "18094    205.0\n",
              "18095      NaN\n",
              "Name: Credit_History_Age, dtype: float64"
            ]
          },
          "metadata": {},
          "execution_count": 111
        }
      ]
    },
    {
      "cell_type": "code",
      "source": [
        "# caso exemplo 2\n",
        "data_df[data_df['Customer_ID'] == 41768].Credit_History_Age"
      ],
      "metadata": {
        "colab": {
          "base_uri": "https://localhost:8080/"
        },
        "id": "Cw95MBjJwA-J",
        "outputId": "99f568d4-9409-4208-d2e6-fa5e21e8b05d"
      },
      "execution_count": 112,
      "outputs": [
        {
          "output_type": "execute_result",
          "data": {
            "text/plain": [
              "67520      NaN\n",
              "67521    190.0\n",
              "67522    191.0\n",
              "67523      NaN\n",
              "67524    193.0\n",
              "67525      NaN\n",
              "67526      NaN\n",
              "67527    196.0\n",
              "Name: Credit_History_Age, dtype: float64"
            ]
          },
          "metadata": {},
          "execution_count": 112
        }
      ]
    },
    {
      "cell_type": "code",
      "source": [
        "# Esse valor foi convertido para unidade meses, então deve incrementar um para cada mes que passa\n",
        "def fill_sequential_months(cust_months):\n",
        "    # encontrar o primeiro valor nao nulo e qual a posicao relativa nesse df\n",
        "    idx, months_1st = cust_months.reset_index(drop= True).reset_index().dropna().iloc[0]\n",
        "    idx = int(idx)\n",
        "    # preencher os meses anteriores ao idx-ésimo\n",
        "    for prev_month in range(idx):\n",
        "        cust_months.iloc[prev_month] = (months_1st - idx) + prev_month\n",
        "    # preencher os restantes\n",
        "    for next_month in range(idx + 1, len(cust_months)):\n",
        "        if np.isnan(cust_months.iloc[next_month]):\n",
        "            cust_months.iloc[next_month] = cust_months.iloc[next_month - 1] + 1\n",
        "    return cust_months\n",
        "\n",
        "data_df['Credit_History_Age'] = data_df\\\n",
        "    .sort_values('Month')\\\n",
        "    .groupby('Customer_ID')\\\n",
        "    ['Credit_History_Age']\\\n",
        "    .transform(fill_sequential_months)\\\n",
        "    .sort_index()\\\n",
        "    .astype(int)"
      ],
      "metadata": {
        "id": "t6c4mmZwmtz4"
      },
      "execution_count": 113,
      "outputs": []
    },
    {
      "cell_type": "code",
      "source": [
        "# caso exemplo 1\n",
        "data_df[data_df['Customer_ID'] == 1161].Credit_History_Age"
      ],
      "metadata": {
        "colab": {
          "base_uri": "https://localhost:8080/"
        },
        "id": "iUJRO4QFyecj",
        "outputId": "947f5b96-c8c7-499e-f975-53b899b4bc2b"
      },
      "execution_count": 114,
      "outputs": [
        {
          "output_type": "execute_result",
          "data": {
            "text/plain": [
              "18088    199\n",
              "18089    200\n",
              "18090    201\n",
              "18091    202\n",
              "18092    203\n",
              "18093    204\n",
              "18094    205\n",
              "18095    206\n",
              "Name: Credit_History_Age, dtype: int64"
            ]
          },
          "metadata": {},
          "execution_count": 114
        }
      ]
    },
    {
      "cell_type": "code",
      "source": [
        "# caso exemplo 2\n",
        "data_df[data_df['Customer_ID'] == 41768].Credit_History_Age"
      ],
      "metadata": {
        "colab": {
          "base_uri": "https://localhost:8080/"
        },
        "id": "ife16ayZyh1y",
        "outputId": "4fc05f1e-407f-42a9-cfd4-3e04228a3ed1"
      },
      "execution_count": 115,
      "outputs": [
        {
          "output_type": "execute_result",
          "data": {
            "text/plain": [
              "67520    189\n",
              "67521    190\n",
              "67522    191\n",
              "67523    192\n",
              "67524    193\n",
              "67525    194\n",
              "67526    195\n",
              "67527    196\n",
              "Name: Credit_History_Age, dtype: int64"
            ]
          },
          "metadata": {},
          "execution_count": 115
        }
      ]
    },
    {
      "cell_type": "markdown",
      "source": [
        "#### Amount_invested_monthly"
      ],
      "metadata": {
        "id": "3p7Ni7J7ckUg"
      }
    },
    {
      "cell_type": "code",
      "source": [
        "# Verifica quantos customers tem pelo menos um valor de 'Changed_Credit_Limit'\n",
        "len( data_df.dropna(subset= 'Amount_invested_monthly')['Customer_ID'].unique() )"
      ],
      "metadata": {
        "id": "O_XhpXzxmHtr",
        "outputId": "d78a1a38-a9e8-4da9-88ef-6ced42bedea9",
        "colab": {
          "base_uri": "https://localhost:8080/"
        }
      },
      "execution_count": 116,
      "outputs": [
        {
          "output_type": "execute_result",
          "data": {
            "text/plain": [
              "12500"
            ]
          },
          "metadata": {},
          "execution_count": 116
        }
      ]
    },
    {
      "cell_type": "code",
      "source": [
        "# Como todos possuem, podemos analisar os valores para entender como melhor preenche-los\n",
        "data_df.query('Amount_invested_monthly.isnull()').groupby('Customer_ID')['Amount_invested_monthly'].size().sort_values(ascending= False)"
      ],
      "metadata": {
        "id": "BjbMOsa4mzRn",
        "outputId": "b61fd938-4588-4ae4-cb1a-b74987eef5dd",
        "colab": {
          "base_uri": "https://localhost:8080/"
        }
      },
      "execution_count": 117,
      "outputs": [
        {
          "output_type": "execute_result",
          "data": {
            "text/plain": [
              "Customer_ID\n",
              "40980    5\n",
              "46914    5\n",
              "1208     4\n",
              "18561    4\n",
              "41073    4\n",
              "        ..\n",
              "19179    1\n",
              "19182    1\n",
              "19186    1\n",
              "19188    1\n",
              "50999    1\n",
              "Name: Amount_invested_monthly, Length: 3826, dtype: int64"
            ]
          },
          "metadata": {},
          "execution_count": 117
        }
      ]
    },
    {
      "cell_type": "code",
      "source": [
        "# caso exemplo 1\n",
        "data_df[data_df['Customer_ID'] == 40980].Amount_invested_monthly"
      ],
      "metadata": {
        "id": "5EFglRlrnT2v",
        "outputId": "cf13b6c9-8dd7-4062-d07d-fc24814a65d9",
        "colab": {
          "base_uri": "https://localhost:8080/"
        }
      },
      "execution_count": 118,
      "outputs": [
        {
          "output_type": "execute_result",
          "data": {
            "text/plain": [
              "84704           NaN\n",
              "84705           NaN\n",
              "84706           NaN\n",
              "84707    564.108804\n",
              "84708           NaN\n",
              "84709     99.750397\n",
              "84710    141.758313\n",
              "84711           NaN\n",
              "Name: Amount_invested_monthly, dtype: float64"
            ]
          },
          "metadata": {},
          "execution_count": 118
        }
      ]
    },
    {
      "cell_type": "code",
      "source": [
        "# caso exemplo 2\n",
        "data_df[data_df['Customer_ID'] == 41073].Amount_invested_monthly"
      ],
      "metadata": {
        "id": "UJlX4SLUnh1X",
        "outputId": "5b7af884-0d33-4660-c494-41eaca4ff989",
        "colab": {
          "base_uri": "https://localhost:8080/"
        }
      },
      "execution_count": 119,
      "outputs": [
        {
          "output_type": "execute_result",
          "data": {
            "text/plain": [
              "71536           NaN\n",
              "71537           NaN\n",
              "71538    241.540815\n",
              "71539    144.303889\n",
              "71540     98.610824\n",
              "71541    193.409058\n",
              "71542           NaN\n",
              "71543           NaN\n",
              "Name: Amount_invested_monthly, dtype: float64"
            ]
          },
          "metadata": {},
          "execution_count": 119
        }
      ]
    },
    {
      "cell_type": "code",
      "source": [
        "# caso exemplo 3\n",
        "data_df[data_df['Customer_ID'] == 50999].Amount_invested_monthly"
      ],
      "metadata": {
        "id": "zrhBgv0Snmzj",
        "outputId": "7563010e-c28d-4637-d87e-0726b546a8d5",
        "colab": {
          "base_uri": "https://localhost:8080/"
        }
      },
      "execution_count": 120,
      "outputs": [
        {
          "output_type": "execute_result",
          "data": {
            "text/plain": [
              "54216    181.794817\n",
              "54217     48.317366\n",
              "54218           NaN\n",
              "54219    164.378342\n",
              "54220    409.776140\n",
              "54221    139.176062\n",
              "54222    479.772459\n",
              "54223    692.178202\n",
              "Name: Amount_invested_monthly, dtype: float64"
            ]
          },
          "metadata": {},
          "execution_count": 120
        }
      ]
    },
    {
      "cell_type": "code",
      "source": [
        "# Como os valores tem alguns extremos, usaremos a mediana por ser mais robusta que\n",
        "# a média quanto a outliers\n",
        "data_df['Amount_invested_monthly'] = data_df['Amount_invested_monthly'].fillna(\n",
        "    data_df.sort_values('Month')\\\n",
        "    .groupby('Customer_ID')\\\n",
        "    ['Amount_invested_monthly']\\\n",
        "    .transform('median')\n",
        ")"
      ],
      "metadata": {
        "id": "v4eguNWJn_qp"
      },
      "execution_count": 121,
      "outputs": []
    },
    {
      "cell_type": "code",
      "source": [
        "# caso exemplo 1\n",
        "data_df[data_df['Customer_ID'] == 40980].Amount_invested_monthly"
      ],
      "metadata": {
        "id": "7igGnCThoK0V",
        "outputId": "543d56fb-f94e-405c-9dd4-fe2f1368e33f",
        "colab": {
          "base_uri": "https://localhost:8080/"
        }
      },
      "execution_count": 122,
      "outputs": [
        {
          "output_type": "execute_result",
          "data": {
            "text/plain": [
              "84704    141.758313\n",
              "84705    141.758313\n",
              "84706    141.758313\n",
              "84707    564.108804\n",
              "84708    141.758313\n",
              "84709     99.750397\n",
              "84710    141.758313\n",
              "84711    141.758313\n",
              "Name: Amount_invested_monthly, dtype: float64"
            ]
          },
          "metadata": {},
          "execution_count": 122
        }
      ]
    },
    {
      "cell_type": "code",
      "source": [
        "# caso exemplo 2\n",
        "data_df[data_df['Customer_ID'] == 41073].Amount_invested_monthly"
      ],
      "metadata": {
        "id": "v02XnAnhoNpS",
        "outputId": "b183fed4-fe6b-475f-9d81-5852c7298cb7",
        "colab": {
          "base_uri": "https://localhost:8080/"
        }
      },
      "execution_count": 123,
      "outputs": [
        {
          "output_type": "execute_result",
          "data": {
            "text/plain": [
              "71536    168.856474\n",
              "71537    168.856474\n",
              "71538    241.540815\n",
              "71539    144.303889\n",
              "71540     98.610824\n",
              "71541    193.409058\n",
              "71542    168.856474\n",
              "71543    168.856474\n",
              "Name: Amount_invested_monthly, dtype: float64"
            ]
          },
          "metadata": {},
          "execution_count": 123
        }
      ]
    },
    {
      "cell_type": "code",
      "source": [
        "# caso exemplo 3\n",
        "data_df[data_df['Customer_ID'] == 50999].Amount_invested_monthly"
      ],
      "metadata": {
        "id": "0p6RVU53oPcX",
        "outputId": "7e3bb6f1-bfca-43e8-b39b-fd6b2d647dce",
        "colab": {
          "base_uri": "https://localhost:8080/"
        }
      },
      "execution_count": 124,
      "outputs": [
        {
          "output_type": "execute_result",
          "data": {
            "text/plain": [
              "54216    181.794817\n",
              "54217     48.317366\n",
              "54218    181.794817\n",
              "54219    164.378342\n",
              "54220    409.776140\n",
              "54221    139.176062\n",
              "54222    479.772459\n",
              "54223    692.178202\n",
              "Name: Amount_invested_monthly, dtype: float64"
            ]
          },
          "metadata": {},
          "execution_count": 124
        }
      ]
    },
    {
      "cell_type": "markdown",
      "source": [
        "#### Monthly_Balance"
      ],
      "metadata": {
        "id": "uaX4cSHKcn34"
      }
    },
    {
      "cell_type": "code",
      "source": [
        "# Verifica quantos customers tem pelo menos um valor de 'Changed_Credit_Limit'\n",
        "len( data_df.dropna(subset= 'Monthly_Balance')['Customer_ID'].unique() )"
      ],
      "metadata": {
        "id": "TTD09EhaolAe",
        "outputId": "3600e9f7-ff3c-459c-b4f6-65fe21624ea6",
        "colab": {
          "base_uri": "https://localhost:8080/"
        }
      },
      "execution_count": 125,
      "outputs": [
        {
          "output_type": "execute_result",
          "data": {
            "text/plain": [
              "12288"
            ]
          },
          "metadata": {},
          "execution_count": 125
        }
      ]
    },
    {
      "cell_type": "code",
      "source": [
        "# Nem todos possuem, mas podemos analisar os valores para entender como melhor preenche-los\n",
        "# Primeiro os que possuem algum dado\n",
        "missing_monthly_balance = data_df.query('Monthly_Balance.isnull()').groupby('Customer_ID')['Monthly_Balance'].size().sort_values(ascending= False)\n",
        "missing_monthly_balance[missing_monthly_balance < 8]"
      ],
      "metadata": {
        "id": "nGSiMHSipJM1",
        "outputId": "9f4c51b7-aa48-468a-a749-7dffc275b748",
        "colab": {
          "base_uri": "https://localhost:8080/"
        }
      },
      "execution_count": 131,
      "outputs": [
        {
          "output_type": "execute_result",
          "data": {
            "text/plain": [
              "Customer_ID\n",
              "50162    5\n",
              "4744     4\n",
              "40312    4\n",
              "38256    4\n",
              "25740    4\n",
              "        ..\n",
              "22901    1\n",
              "23199    1\n",
              "23265    1\n",
              "23362    1\n",
              "50904    1\n",
              "Name: Monthly_Balance, Length: 937, dtype: int64"
            ]
          },
          "metadata": {},
          "execution_count": 131
        }
      ]
    },
    {
      "cell_type": "code",
      "source": [
        "# caso exemplo 1\n",
        "data_df[data_df['Customer_ID'] == 4744].Monthly_Balance"
      ],
      "metadata": {
        "id": "Cn6Kpky_p1JX",
        "outputId": "9e2ecdd3-eb17-4201-c17e-18f06d46da4c",
        "colab": {
          "base_uri": "https://localhost:8080/"
        }
      },
      "execution_count": 134,
      "outputs": [
        {
          "output_type": "execute_result",
          "data": {
            "text/plain": [
              "944    231.525401\n",
              "945           NaN\n",
              "946           NaN\n",
              "947    192.657122\n",
              "948           NaN\n",
              "949    259.430556\n",
              "950           NaN\n",
              "951    269.716274\n",
              "Name: Monthly_Balance, dtype: float64"
            ]
          },
          "metadata": {},
          "execution_count": 134
        }
      ]
    },
    {
      "cell_type": "code",
      "source": [
        "# caso exemplo 2\n",
        "data_df[data_df['Customer_ID'] == 23199].Monthly_Balance"
      ],
      "metadata": {
        "id": "PpyIMO7bp-v_",
        "outputId": "22b63bcb-a338-4c6d-b3a1-be252b262a01",
        "colab": {
          "base_uri": "https://localhost:8080/"
        }
      },
      "execution_count": 135,
      "outputs": [
        {
          "output_type": "execute_result",
          "data": {
            "text/plain": [
              "10640    103.798722\n",
              "10641    479.939220\n",
              "10642    463.369587\n",
              "10643    545.084560\n",
              "10644     31.163136\n",
              "10645    133.944502\n",
              "10646     70.225105\n",
              "10647           NaN\n",
              "Name: Monthly_Balance, dtype: float64"
            ]
          },
          "metadata": {},
          "execution_count": 135
        }
      ]
    },
    {
      "cell_type": "code",
      "source": [
        "# Como os valores também tem alguns extremos, usaremos a mediana por ser mais robusta que\n",
        "# a média quanto a outliers\n",
        "data_df['Monthly_Balance'] = data_df['Monthly_Balance'].fillna(\n",
        "    data_df.sort_values('Month')\\\n",
        "    .groupby('Customer_ID')\\\n",
        "    ['Monthly_Balance']\\\n",
        "    .transform('median')\n",
        ")"
      ],
      "metadata": {
        "id": "cs2wVH9JqD9Z"
      },
      "execution_count": 136,
      "outputs": []
    },
    {
      "cell_type": "code",
      "source": [
        "# Agora os sem dados\n",
        "data_df.merge(missing_monthly_balance[missing_monthly_balance == 8], on= 'Customer_ID')"
      ],
      "metadata": {
        "id": "i-U7c8FapYxz",
        "outputId": "ce9bd8e6-f2e9-41e0-a81c-45a333c10c5a",
        "colab": {
          "base_uri": "https://localhost:8080/",
          "height": 477
        }
      },
      "execution_count": 140,
      "outputs": [
        {
          "output_type": "execute_result",
          "data": {
            "text/plain": [
              "      Customer_ID  Month  Age Occupation  Annual_Income  \\\n",
              "0           46039      1   19    Teacher       16809.56   \n",
              "1           46039      2   19    Teacher       16809.56   \n",
              "2           46039      3   19    Teacher       16809.56   \n",
              "3           46039      4   19    Teacher     8810368.00   \n",
              "4           46039      5   19    Teacher       16809.56   \n",
              "...           ...    ...  ...        ...            ...   \n",
              "1691        37932      4   25   Mechanic       39628.99   \n",
              "1692        37932      5   25   Mechanic       39628.99   \n",
              "1693        37932      6   25   Mechanic       39628.99   \n",
              "1694        37932      7   25   Mechanic       39628.99   \n",
              "1695        37932      8   25   Mechanic       39628.99   \n",
              "\n",
              "      Monthly_Inhand_Salary  Num_Bank_Accounts  Num_Credit_Card  \\\n",
              "0               1686.796667                  7               10   \n",
              "1               1686.796667                  7               10   \n",
              "2               1686.796667                  7               10   \n",
              "3               1686.796667                  7               10   \n",
              "4               1686.796667                  7               10   \n",
              "...                     ...                ...              ...   \n",
              "1691            3359.415833                  4                6   \n",
              "1692            3359.415833                  4                6   \n",
              "1693            3359.415833                  4                6   \n",
              "1694            3359.415833                  4                6   \n",
              "1695            3359.415833                  4                6   \n",
              "\n",
              "      Interest_Rate  Num_of_Loan  ... Outstanding_Debt  \\\n",
              "0                21          5.0  ...          1790.93   \n",
              "1                21          5.0  ...          1790.93   \n",
              "2                21          5.0  ...          1790.93   \n",
              "3                21          5.0  ...          1790.93   \n",
              "4                21          5.0  ...          1790.93   \n",
              "...             ...          ...  ...              ...   \n",
              "1691              7          2.0  ...           502.38   \n",
              "1692              7          2.0  ...           502.38   \n",
              "1693           5729          2.0  ...           502.38   \n",
              "1694              7          2.0  ...           502.38   \n",
              "1695              7          2.0  ...           502.38   \n",
              "\n",
              "      Credit_Utilization_Ratio  Credit_History_Age  Payment_of_Min_Amount  \\\n",
              "0                    29.600846                  69                    Yes   \n",
              "1                    22.649438                  70                    Yes   \n",
              "2                    30.443484                  71                    Yes   \n",
              "3                    34.752306                  72                    Yes   \n",
              "4                    28.533922                  73                    Yes   \n",
              "...                        ...                 ...                    ...   \n",
              "1691                 34.663572                 378                     No   \n",
              "1692                 40.565631                 379                     No   \n",
              "1693                 41.255522                 380                     No   \n",
              "1694                 33.638208                 381                     No   \n",
              "1695                 34.192463                 382                     No   \n",
              "\n",
              "      Total_EMI_per_month Amount_invested_monthly  \\\n",
              "0               38.650760               97.549516   \n",
              "1               38.650760               96.660087   \n",
              "2               38.650760               96.660087   \n",
              "3               38.650760               63.665192   \n",
              "4               38.650760              143.469938   \n",
              "...                   ...                     ...   \n",
              "1691            35.104023               60.971333   \n",
              "1692            35.104023               54.185950   \n",
              "1693            35.104023               24.028477   \n",
              "1694            35.104023              251.672582   \n",
              "1695            35.104023              167.163865   \n",
              "\n",
              "                     Payment_Behaviour  Monthly_Balance_x  Credit_Score  \\\n",
              "0       Low_spent_Small_value_payments                NaN          Poor   \n",
              "1       Low_spent_Large_value_payments                NaN          Poor   \n",
              "2       Low_spent_Small_value_payments                NaN          Poor   \n",
              "3      High_spent_Small_value_payments                NaN      Standard   \n",
              "4       Low_spent_Large_value_payments                NaN      Standard   \n",
              "...                                ...                ...           ...   \n",
              "1691   High_spent_Large_value_payments                NaN          Poor   \n",
              "1692  High_spent_Medium_value_payments                NaN          Poor   \n",
              "1693   High_spent_Large_value_payments                NaN          Poor   \n",
              "1694    Low_spent_Large_value_payments                NaN      Standard   \n",
              "1695                            !@9#%8                NaN          Poor   \n",
              "\n",
              "     Monthly_Balance_y  \n",
              "0                    8  \n",
              "1                    8  \n",
              "2                    8  \n",
              "3                    8  \n",
              "4                    8  \n",
              "...                ...  \n",
              "1691                 8  \n",
              "1692                 8  \n",
              "1693                 8  \n",
              "1694                 8  \n",
              "1695                 8  \n",
              "\n",
              "[1696 rows x 26 columns]"
            ],
            "text/html": [
              "\n",
              "  <div id=\"df-2ad88896-b439-4533-aff7-4e7a66e2335c\">\n",
              "    <div class=\"colab-df-container\">\n",
              "      <div>\n",
              "<style scoped>\n",
              "    .dataframe tbody tr th:only-of-type {\n",
              "        vertical-align: middle;\n",
              "    }\n",
              "\n",
              "    .dataframe tbody tr th {\n",
              "        vertical-align: top;\n",
              "    }\n",
              "\n",
              "    .dataframe thead th {\n",
              "        text-align: right;\n",
              "    }\n",
              "</style>\n",
              "<table border=\"1\" class=\"dataframe\">\n",
              "  <thead>\n",
              "    <tr style=\"text-align: right;\">\n",
              "      <th></th>\n",
              "      <th>Customer_ID</th>\n",
              "      <th>Month</th>\n",
              "      <th>Age</th>\n",
              "      <th>Occupation</th>\n",
              "      <th>Annual_Income</th>\n",
              "      <th>Monthly_Inhand_Salary</th>\n",
              "      <th>Num_Bank_Accounts</th>\n",
              "      <th>Num_Credit_Card</th>\n",
              "      <th>Interest_Rate</th>\n",
              "      <th>Num_of_Loan</th>\n",
              "      <th>...</th>\n",
              "      <th>Outstanding_Debt</th>\n",
              "      <th>Credit_Utilization_Ratio</th>\n",
              "      <th>Credit_History_Age</th>\n",
              "      <th>Payment_of_Min_Amount</th>\n",
              "      <th>Total_EMI_per_month</th>\n",
              "      <th>Amount_invested_monthly</th>\n",
              "      <th>Payment_Behaviour</th>\n",
              "      <th>Monthly_Balance_x</th>\n",
              "      <th>Credit_Score</th>\n",
              "      <th>Monthly_Balance_y</th>\n",
              "    </tr>\n",
              "  </thead>\n",
              "  <tbody>\n",
              "    <tr>\n",
              "      <th>0</th>\n",
              "      <td>46039</td>\n",
              "      <td>1</td>\n",
              "      <td>19</td>\n",
              "      <td>Teacher</td>\n",
              "      <td>16809.56</td>\n",
              "      <td>1686.796667</td>\n",
              "      <td>7</td>\n",
              "      <td>10</td>\n",
              "      <td>21</td>\n",
              "      <td>5.0</td>\n",
              "      <td>...</td>\n",
              "      <td>1790.93</td>\n",
              "      <td>29.600846</td>\n",
              "      <td>69</td>\n",
              "      <td>Yes</td>\n",
              "      <td>38.650760</td>\n",
              "      <td>97.549516</td>\n",
              "      <td>Low_spent_Small_value_payments</td>\n",
              "      <td>NaN</td>\n",
              "      <td>Poor</td>\n",
              "      <td>8</td>\n",
              "    </tr>\n",
              "    <tr>\n",
              "      <th>1</th>\n",
              "      <td>46039</td>\n",
              "      <td>2</td>\n",
              "      <td>19</td>\n",
              "      <td>Teacher</td>\n",
              "      <td>16809.56</td>\n",
              "      <td>1686.796667</td>\n",
              "      <td>7</td>\n",
              "      <td>10</td>\n",
              "      <td>21</td>\n",
              "      <td>5.0</td>\n",
              "      <td>...</td>\n",
              "      <td>1790.93</td>\n",
              "      <td>22.649438</td>\n",
              "      <td>70</td>\n",
              "      <td>Yes</td>\n",
              "      <td>38.650760</td>\n",
              "      <td>96.660087</td>\n",
              "      <td>Low_spent_Large_value_payments</td>\n",
              "      <td>NaN</td>\n",
              "      <td>Poor</td>\n",
              "      <td>8</td>\n",
              "    </tr>\n",
              "    <tr>\n",
              "      <th>2</th>\n",
              "      <td>46039</td>\n",
              "      <td>3</td>\n",
              "      <td>19</td>\n",
              "      <td>Teacher</td>\n",
              "      <td>16809.56</td>\n",
              "      <td>1686.796667</td>\n",
              "      <td>7</td>\n",
              "      <td>10</td>\n",
              "      <td>21</td>\n",
              "      <td>5.0</td>\n",
              "      <td>...</td>\n",
              "      <td>1790.93</td>\n",
              "      <td>30.443484</td>\n",
              "      <td>71</td>\n",
              "      <td>Yes</td>\n",
              "      <td>38.650760</td>\n",
              "      <td>96.660087</td>\n",
              "      <td>Low_spent_Small_value_payments</td>\n",
              "      <td>NaN</td>\n",
              "      <td>Poor</td>\n",
              "      <td>8</td>\n",
              "    </tr>\n",
              "    <tr>\n",
              "      <th>3</th>\n",
              "      <td>46039</td>\n",
              "      <td>4</td>\n",
              "      <td>19</td>\n",
              "      <td>Teacher</td>\n",
              "      <td>8810368.00</td>\n",
              "      <td>1686.796667</td>\n",
              "      <td>7</td>\n",
              "      <td>10</td>\n",
              "      <td>21</td>\n",
              "      <td>5.0</td>\n",
              "      <td>...</td>\n",
              "      <td>1790.93</td>\n",
              "      <td>34.752306</td>\n",
              "      <td>72</td>\n",
              "      <td>Yes</td>\n",
              "      <td>38.650760</td>\n",
              "      <td>63.665192</td>\n",
              "      <td>High_spent_Small_value_payments</td>\n",
              "      <td>NaN</td>\n",
              "      <td>Standard</td>\n",
              "      <td>8</td>\n",
              "    </tr>\n",
              "    <tr>\n",
              "      <th>4</th>\n",
              "      <td>46039</td>\n",
              "      <td>5</td>\n",
              "      <td>19</td>\n",
              "      <td>Teacher</td>\n",
              "      <td>16809.56</td>\n",
              "      <td>1686.796667</td>\n",
              "      <td>7</td>\n",
              "      <td>10</td>\n",
              "      <td>21</td>\n",
              "      <td>5.0</td>\n",
              "      <td>...</td>\n",
              "      <td>1790.93</td>\n",
              "      <td>28.533922</td>\n",
              "      <td>73</td>\n",
              "      <td>Yes</td>\n",
              "      <td>38.650760</td>\n",
              "      <td>143.469938</td>\n",
              "      <td>Low_spent_Large_value_payments</td>\n",
              "      <td>NaN</td>\n",
              "      <td>Standard</td>\n",
              "      <td>8</td>\n",
              "    </tr>\n",
              "    <tr>\n",
              "      <th>...</th>\n",
              "      <td>...</td>\n",
              "      <td>...</td>\n",
              "      <td>...</td>\n",
              "      <td>...</td>\n",
              "      <td>...</td>\n",
              "      <td>...</td>\n",
              "      <td>...</td>\n",
              "      <td>...</td>\n",
              "      <td>...</td>\n",
              "      <td>...</td>\n",
              "      <td>...</td>\n",
              "      <td>...</td>\n",
              "      <td>...</td>\n",
              "      <td>...</td>\n",
              "      <td>...</td>\n",
              "      <td>...</td>\n",
              "      <td>...</td>\n",
              "      <td>...</td>\n",
              "      <td>...</td>\n",
              "      <td>...</td>\n",
              "      <td>...</td>\n",
              "    </tr>\n",
              "    <tr>\n",
              "      <th>1691</th>\n",
              "      <td>37932</td>\n",
              "      <td>4</td>\n",
              "      <td>25</td>\n",
              "      <td>Mechanic</td>\n",
              "      <td>39628.99</td>\n",
              "      <td>3359.415833</td>\n",
              "      <td>4</td>\n",
              "      <td>6</td>\n",
              "      <td>7</td>\n",
              "      <td>2.0</td>\n",
              "      <td>...</td>\n",
              "      <td>502.38</td>\n",
              "      <td>34.663572</td>\n",
              "      <td>378</td>\n",
              "      <td>No</td>\n",
              "      <td>35.104023</td>\n",
              "      <td>60.971333</td>\n",
              "      <td>High_spent_Large_value_payments</td>\n",
              "      <td>NaN</td>\n",
              "      <td>Poor</td>\n",
              "      <td>8</td>\n",
              "    </tr>\n",
              "    <tr>\n",
              "      <th>1692</th>\n",
              "      <td>37932</td>\n",
              "      <td>5</td>\n",
              "      <td>25</td>\n",
              "      <td>Mechanic</td>\n",
              "      <td>39628.99</td>\n",
              "      <td>3359.415833</td>\n",
              "      <td>4</td>\n",
              "      <td>6</td>\n",
              "      <td>7</td>\n",
              "      <td>2.0</td>\n",
              "      <td>...</td>\n",
              "      <td>502.38</td>\n",
              "      <td>40.565631</td>\n",
              "      <td>379</td>\n",
              "      <td>No</td>\n",
              "      <td>35.104023</td>\n",
              "      <td>54.185950</td>\n",
              "      <td>High_spent_Medium_value_payments</td>\n",
              "      <td>NaN</td>\n",
              "      <td>Poor</td>\n",
              "      <td>8</td>\n",
              "    </tr>\n",
              "    <tr>\n",
              "      <th>1693</th>\n",
              "      <td>37932</td>\n",
              "      <td>6</td>\n",
              "      <td>25</td>\n",
              "      <td>Mechanic</td>\n",
              "      <td>39628.99</td>\n",
              "      <td>3359.415833</td>\n",
              "      <td>4</td>\n",
              "      <td>6</td>\n",
              "      <td>5729</td>\n",
              "      <td>2.0</td>\n",
              "      <td>...</td>\n",
              "      <td>502.38</td>\n",
              "      <td>41.255522</td>\n",
              "      <td>380</td>\n",
              "      <td>No</td>\n",
              "      <td>35.104023</td>\n",
              "      <td>24.028477</td>\n",
              "      <td>High_spent_Large_value_payments</td>\n",
              "      <td>NaN</td>\n",
              "      <td>Poor</td>\n",
              "      <td>8</td>\n",
              "    </tr>\n",
              "    <tr>\n",
              "      <th>1694</th>\n",
              "      <td>37932</td>\n",
              "      <td>7</td>\n",
              "      <td>25</td>\n",
              "      <td>Mechanic</td>\n",
              "      <td>39628.99</td>\n",
              "      <td>3359.415833</td>\n",
              "      <td>4</td>\n",
              "      <td>6</td>\n",
              "      <td>7</td>\n",
              "      <td>2.0</td>\n",
              "      <td>...</td>\n",
              "      <td>502.38</td>\n",
              "      <td>33.638208</td>\n",
              "      <td>381</td>\n",
              "      <td>No</td>\n",
              "      <td>35.104023</td>\n",
              "      <td>251.672582</td>\n",
              "      <td>Low_spent_Large_value_payments</td>\n",
              "      <td>NaN</td>\n",
              "      <td>Standard</td>\n",
              "      <td>8</td>\n",
              "    </tr>\n",
              "    <tr>\n",
              "      <th>1695</th>\n",
              "      <td>37932</td>\n",
              "      <td>8</td>\n",
              "      <td>25</td>\n",
              "      <td>Mechanic</td>\n",
              "      <td>39628.99</td>\n",
              "      <td>3359.415833</td>\n",
              "      <td>4</td>\n",
              "      <td>6</td>\n",
              "      <td>7</td>\n",
              "      <td>2.0</td>\n",
              "      <td>...</td>\n",
              "      <td>502.38</td>\n",
              "      <td>34.192463</td>\n",
              "      <td>382</td>\n",
              "      <td>No</td>\n",
              "      <td>35.104023</td>\n",
              "      <td>167.163865</td>\n",
              "      <td>!@9#%8</td>\n",
              "      <td>NaN</td>\n",
              "      <td>Poor</td>\n",
              "      <td>8</td>\n",
              "    </tr>\n",
              "  </tbody>\n",
              "</table>\n",
              "<p>1696 rows × 26 columns</p>\n",
              "</div>\n",
              "      <button class=\"colab-df-convert\" onclick=\"convertToInteractive('df-2ad88896-b439-4533-aff7-4e7a66e2335c')\"\n",
              "              title=\"Convert this dataframe to an interactive table.\"\n",
              "              style=\"display:none;\">\n",
              "        \n",
              "  <svg xmlns=\"http://www.w3.org/2000/svg\" height=\"24px\"viewBox=\"0 0 24 24\"\n",
              "       width=\"24px\">\n",
              "    <path d=\"M0 0h24v24H0V0z\" fill=\"none\"/>\n",
              "    <path d=\"M18.56 5.44l.94 2.06.94-2.06 2.06-.94-2.06-.94-.94-2.06-.94 2.06-2.06.94zm-11 1L8.5 8.5l.94-2.06 2.06-.94-2.06-.94L8.5 2.5l-.94 2.06-2.06.94zm10 10l.94 2.06.94-2.06 2.06-.94-2.06-.94-.94-2.06-.94 2.06-2.06.94z\"/><path d=\"M17.41 7.96l-1.37-1.37c-.4-.4-.92-.59-1.43-.59-.52 0-1.04.2-1.43.59L10.3 9.45l-7.72 7.72c-.78.78-.78 2.05 0 2.83L4 21.41c.39.39.9.59 1.41.59.51 0 1.02-.2 1.41-.59l7.78-7.78 2.81-2.81c.8-.78.8-2.07 0-2.86zM5.41 20L4 18.59l7.72-7.72 1.47 1.35L5.41 20z\"/>\n",
              "  </svg>\n",
              "      </button>\n",
              "      \n",
              "  <style>\n",
              "    .colab-df-container {\n",
              "      display:flex;\n",
              "      flex-wrap:wrap;\n",
              "      gap: 12px;\n",
              "    }\n",
              "\n",
              "    .colab-df-convert {\n",
              "      background-color: #E8F0FE;\n",
              "      border: none;\n",
              "      border-radius: 50%;\n",
              "      cursor: pointer;\n",
              "      display: none;\n",
              "      fill: #1967D2;\n",
              "      height: 32px;\n",
              "      padding: 0 0 0 0;\n",
              "      width: 32px;\n",
              "    }\n",
              "\n",
              "    .colab-df-convert:hover {\n",
              "      background-color: #E2EBFA;\n",
              "      box-shadow: 0px 1px 2px rgba(60, 64, 67, 0.3), 0px 1px 3px 1px rgba(60, 64, 67, 0.15);\n",
              "      fill: #174EA6;\n",
              "    }\n",
              "\n",
              "    [theme=dark] .colab-df-convert {\n",
              "      background-color: #3B4455;\n",
              "      fill: #D2E3FC;\n",
              "    }\n",
              "\n",
              "    [theme=dark] .colab-df-convert:hover {\n",
              "      background-color: #434B5C;\n",
              "      box-shadow: 0px 1px 3px 1px rgba(0, 0, 0, 0.15);\n",
              "      filter: drop-shadow(0px 1px 2px rgba(0, 0, 0, 0.3));\n",
              "      fill: #FFFFFF;\n",
              "    }\n",
              "  </style>\n",
              "\n",
              "      <script>\n",
              "        const buttonEl =\n",
              "          document.querySelector('#df-2ad88896-b439-4533-aff7-4e7a66e2335c button.colab-df-convert');\n",
              "        buttonEl.style.display =\n",
              "          google.colab.kernel.accessAllowed ? 'block' : 'none';\n",
              "\n",
              "        async function convertToInteractive(key) {\n",
              "          const element = document.querySelector('#df-2ad88896-b439-4533-aff7-4e7a66e2335c');\n",
              "          const dataTable =\n",
              "            await google.colab.kernel.invokeFunction('convertToInteractive',\n",
              "                                                     [key], {});\n",
              "          if (!dataTable) return;\n",
              "\n",
              "          const docLinkHtml = 'Like what you see? Visit the ' +\n",
              "            '<a target=\"_blank\" href=https://colab.research.google.com/notebooks/data_table.ipynb>data table notebook</a>'\n",
              "            + ' to learn more about interactive tables.';\n",
              "          element.innerHTML = '';\n",
              "          dataTable['output_type'] = 'display_data';\n",
              "          await google.colab.output.renderOutput(dataTable, element);\n",
              "          const docLink = document.createElement('div');\n",
              "          docLink.innerHTML = docLinkHtml;\n",
              "          element.appendChild(docLink);\n",
              "        }\n",
              "      </script>\n",
              "    </div>\n",
              "  </div>\n",
              "  "
            ]
          },
          "metadata": {},
          "execution_count": 140
        }
      ]
    },
    {
      "cell_type": "markdown",
      "source": [
        "Nao observamos nada util, mas podemos seguir com algumas abordagens:\n",
        "- inputar a mediana/média do valor da coluna\n",
        "- inputar a mediana/média com base em grupos, por exemplo pela Occupation\n",
        "- remover essas linhas\n",
        "- remover a coluna\n",
        "\n",
        "Como essas linhas representam menos de 2% dos dados, vamos optar por eliminá-las."
      ],
      "metadata": {
        "id": "niY0hWhasN68"
      }
    },
    {
      "cell_type": "markdown",
      "source": [
        "## Tratando valores multiplos na coluna Type_of_Loan"
      ],
      "metadata": {
        "id": "EjWoE2PKNyP-"
      }
    },
    {
      "cell_type": "code",
      "source": [
        "data_df['Type_of_Loan'].unique()"
      ],
      "metadata": {
        "colab": {
          "base_uri": "https://localhost:8080/"
        },
        "id": "ZUuh4yR-Y8HF",
        "outputId": "e731b1a8-4323-43d5-81e1-b59372680ea3"
      },
      "execution_count": 31,
      "outputs": [
        {
          "output_type": "execute_result",
          "data": {
            "text/plain": [
              "array(['Auto Loan, Credit-Builder Loan, Personal Loan, and Home Equity Loan',\n",
              "       'Credit-Builder Loan', 'Auto Loan, Auto Loan, and Not Specified',\n",
              "       ..., 'Home Equity Loan, Auto Loan, Auto Loan, and Auto Loan',\n",
              "       'Payday Loan, Student Loan, Mortgage Loan, and Not Specified',\n",
              "       'Personal Loan, Auto Loan, Mortgage Loan, Student Loan, and Student Loan'],\n",
              "      dtype=object)"
            ]
          },
          "metadata": {},
          "execution_count": 31
        }
      ]
    },
    {
      "cell_type": "code",
      "source": [
        "tipos_emprestimo = np.unique([\n",
        "    texto\n",
        "    for lista_texto in pd.Series(data_df['Type_of_Loan'].dropna().unique())\\\n",
        "        .str.replace(', and', ',')\\\n",
        "        .str.split(', ')\n",
        "    for texto in lista_texto\n",
        "])\n",
        "tipos_emprestimo"
      ],
      "metadata": {
        "colab": {
          "base_uri": "https://localhost:8080/"
        },
        "id": "fg219wjMZDYx",
        "outputId": "a05a69c5-42b5-4e8d-a302-de07918f4264"
      },
      "execution_count": 73,
      "outputs": [
        {
          "output_type": "execute_result",
          "data": {
            "text/plain": [
              "array(['Auto Loan', 'Credit-Builder Loan', 'Debt Consolidation Loan',\n",
              "       'Home Equity Loan', 'Mortgage Loan', 'Not Specified',\n",
              "       'Payday Loan', 'Personal Loan', 'Student Loan'], dtype='<U23')"
            ]
          },
          "metadata": {},
          "execution_count": 73
        }
      ]
    },
    {
      "cell_type": "code",
      "source": [
        "data_df[tipos_emprestimo] = data_df['Type_of_Loan'].dropna().apply(\n",
        "    lambda valor:\n",
        "        pd.Series([\n",
        "            tipo in valor for tipo in tipos_emprestimo\n",
        "        ], index= tipos_emprestimo)\n",
        ").astype(int)\n",
        "data_df = data_df.drop(columns= 'Type_of_Loan')\n",
        "\n",
        "data_df[tipos_emprestimo]"
      ],
      "metadata": {
        "colab": {
          "base_uri": "https://localhost:8080/",
          "height": 493
        },
        "id": "xb3_JbwXKfG3",
        "outputId": "18118606-11ef-45fc-e6bc-b374d8b069ce"
      },
      "execution_count": 89,
      "outputs": [
        {
          "output_type": "execute_result",
          "data": {
            "text/plain": [
              "       Auto Loan  Credit-Builder Loan  Debt Consolidation Loan  \\\n",
              "0            1.0                  1.0                      0.0   \n",
              "1            1.0                  1.0                      0.0   \n",
              "2            1.0                  1.0                      0.0   \n",
              "3            1.0                  1.0                      0.0   \n",
              "4            1.0                  1.0                      0.0   \n",
              "...          ...                  ...                      ...   \n",
              "99995        1.0                  0.0                      0.0   \n",
              "99996        1.0                  0.0                      0.0   \n",
              "99997        1.0                  0.0                      0.0   \n",
              "99998        1.0                  0.0                      0.0   \n",
              "99999        1.0                  0.0                      0.0   \n",
              "\n",
              "       Home Equity Loan  Mortgage Loan  Not Specified  Payday Loan  \\\n",
              "0                   1.0            0.0            0.0          0.0   \n",
              "1                   1.0            0.0            0.0          0.0   \n",
              "2                   1.0            0.0            0.0          0.0   \n",
              "3                   1.0            0.0            0.0          0.0   \n",
              "4                   1.0            0.0            0.0          0.0   \n",
              "...                 ...            ...            ...          ...   \n",
              "99995               0.0            0.0            0.0          0.0   \n",
              "99996               0.0            0.0            0.0          0.0   \n",
              "99997               0.0            0.0            0.0          0.0   \n",
              "99998               0.0            0.0            0.0          0.0   \n",
              "99999               0.0            0.0            0.0          0.0   \n",
              "\n",
              "       Personal Loan  Student Loan  \n",
              "0                1.0           0.0  \n",
              "1                1.0           0.0  \n",
              "2                1.0           0.0  \n",
              "3                1.0           0.0  \n",
              "4                1.0           0.0  \n",
              "...              ...           ...  \n",
              "99995            0.0           1.0  \n",
              "99996            0.0           1.0  \n",
              "99997            0.0           1.0  \n",
              "99998            0.0           1.0  \n",
              "99999            0.0           1.0  \n",
              "\n",
              "[100000 rows x 9 columns]"
            ],
            "text/html": [
              "\n",
              "  <div id=\"df-7c3118e6-eff4-4d80-9e3c-cdfb962e8bc6\">\n",
              "    <div class=\"colab-df-container\">\n",
              "      <div>\n",
              "<style scoped>\n",
              "    .dataframe tbody tr th:only-of-type {\n",
              "        vertical-align: middle;\n",
              "    }\n",
              "\n",
              "    .dataframe tbody tr th {\n",
              "        vertical-align: top;\n",
              "    }\n",
              "\n",
              "    .dataframe thead th {\n",
              "        text-align: right;\n",
              "    }\n",
              "</style>\n",
              "<table border=\"1\" class=\"dataframe\">\n",
              "  <thead>\n",
              "    <tr style=\"text-align: right;\">\n",
              "      <th></th>\n",
              "      <th>Auto Loan</th>\n",
              "      <th>Credit-Builder Loan</th>\n",
              "      <th>Debt Consolidation Loan</th>\n",
              "      <th>Home Equity Loan</th>\n",
              "      <th>Mortgage Loan</th>\n",
              "      <th>Not Specified</th>\n",
              "      <th>Payday Loan</th>\n",
              "      <th>Personal Loan</th>\n",
              "      <th>Student Loan</th>\n",
              "    </tr>\n",
              "  </thead>\n",
              "  <tbody>\n",
              "    <tr>\n",
              "      <th>0</th>\n",
              "      <td>1.0</td>\n",
              "      <td>1.0</td>\n",
              "      <td>0.0</td>\n",
              "      <td>1.0</td>\n",
              "      <td>0.0</td>\n",
              "      <td>0.0</td>\n",
              "      <td>0.0</td>\n",
              "      <td>1.0</td>\n",
              "      <td>0.0</td>\n",
              "    </tr>\n",
              "    <tr>\n",
              "      <th>1</th>\n",
              "      <td>1.0</td>\n",
              "      <td>1.0</td>\n",
              "      <td>0.0</td>\n",
              "      <td>1.0</td>\n",
              "      <td>0.0</td>\n",
              "      <td>0.0</td>\n",
              "      <td>0.0</td>\n",
              "      <td>1.0</td>\n",
              "      <td>0.0</td>\n",
              "    </tr>\n",
              "    <tr>\n",
              "      <th>2</th>\n",
              "      <td>1.0</td>\n",
              "      <td>1.0</td>\n",
              "      <td>0.0</td>\n",
              "      <td>1.0</td>\n",
              "      <td>0.0</td>\n",
              "      <td>0.0</td>\n",
              "      <td>0.0</td>\n",
              "      <td>1.0</td>\n",
              "      <td>0.0</td>\n",
              "    </tr>\n",
              "    <tr>\n",
              "      <th>3</th>\n",
              "      <td>1.0</td>\n",
              "      <td>1.0</td>\n",
              "      <td>0.0</td>\n",
              "      <td>1.0</td>\n",
              "      <td>0.0</td>\n",
              "      <td>0.0</td>\n",
              "      <td>0.0</td>\n",
              "      <td>1.0</td>\n",
              "      <td>0.0</td>\n",
              "    </tr>\n",
              "    <tr>\n",
              "      <th>4</th>\n",
              "      <td>1.0</td>\n",
              "      <td>1.0</td>\n",
              "      <td>0.0</td>\n",
              "      <td>1.0</td>\n",
              "      <td>0.0</td>\n",
              "      <td>0.0</td>\n",
              "      <td>0.0</td>\n",
              "      <td>1.0</td>\n",
              "      <td>0.0</td>\n",
              "    </tr>\n",
              "    <tr>\n",
              "      <th>...</th>\n",
              "      <td>...</td>\n",
              "      <td>...</td>\n",
              "      <td>...</td>\n",
              "      <td>...</td>\n",
              "      <td>...</td>\n",
              "      <td>...</td>\n",
              "      <td>...</td>\n",
              "      <td>...</td>\n",
              "      <td>...</td>\n",
              "    </tr>\n",
              "    <tr>\n",
              "      <th>99995</th>\n",
              "      <td>1.0</td>\n",
              "      <td>0.0</td>\n",
              "      <td>0.0</td>\n",
              "      <td>0.0</td>\n",
              "      <td>0.0</td>\n",
              "      <td>0.0</td>\n",
              "      <td>0.0</td>\n",
              "      <td>0.0</td>\n",
              "      <td>1.0</td>\n",
              "    </tr>\n",
              "    <tr>\n",
              "      <th>99996</th>\n",
              "      <td>1.0</td>\n",
              "      <td>0.0</td>\n",
              "      <td>0.0</td>\n",
              "      <td>0.0</td>\n",
              "      <td>0.0</td>\n",
              "      <td>0.0</td>\n",
              "      <td>0.0</td>\n",
              "      <td>0.0</td>\n",
              "      <td>1.0</td>\n",
              "    </tr>\n",
              "    <tr>\n",
              "      <th>99997</th>\n",
              "      <td>1.0</td>\n",
              "      <td>0.0</td>\n",
              "      <td>0.0</td>\n",
              "      <td>0.0</td>\n",
              "      <td>0.0</td>\n",
              "      <td>0.0</td>\n",
              "      <td>0.0</td>\n",
              "      <td>0.0</td>\n",
              "      <td>1.0</td>\n",
              "    </tr>\n",
              "    <tr>\n",
              "      <th>99998</th>\n",
              "      <td>1.0</td>\n",
              "      <td>0.0</td>\n",
              "      <td>0.0</td>\n",
              "      <td>0.0</td>\n",
              "      <td>0.0</td>\n",
              "      <td>0.0</td>\n",
              "      <td>0.0</td>\n",
              "      <td>0.0</td>\n",
              "      <td>1.0</td>\n",
              "    </tr>\n",
              "    <tr>\n",
              "      <th>99999</th>\n",
              "      <td>1.0</td>\n",
              "      <td>0.0</td>\n",
              "      <td>0.0</td>\n",
              "      <td>0.0</td>\n",
              "      <td>0.0</td>\n",
              "      <td>0.0</td>\n",
              "      <td>0.0</td>\n",
              "      <td>0.0</td>\n",
              "      <td>1.0</td>\n",
              "    </tr>\n",
              "  </tbody>\n",
              "</table>\n",
              "<p>100000 rows × 9 columns</p>\n",
              "</div>\n",
              "      <button class=\"colab-df-convert\" onclick=\"convertToInteractive('df-7c3118e6-eff4-4d80-9e3c-cdfb962e8bc6')\"\n",
              "              title=\"Convert this dataframe to an interactive table.\"\n",
              "              style=\"display:none;\">\n",
              "        \n",
              "  <svg xmlns=\"http://www.w3.org/2000/svg\" height=\"24px\"viewBox=\"0 0 24 24\"\n",
              "       width=\"24px\">\n",
              "    <path d=\"M0 0h24v24H0V0z\" fill=\"none\"/>\n",
              "    <path d=\"M18.56 5.44l.94 2.06.94-2.06 2.06-.94-2.06-.94-.94-2.06-.94 2.06-2.06.94zm-11 1L8.5 8.5l.94-2.06 2.06-.94-2.06-.94L8.5 2.5l-.94 2.06-2.06.94zm10 10l.94 2.06.94-2.06 2.06-.94-2.06-.94-.94-2.06-.94 2.06-2.06.94z\"/><path d=\"M17.41 7.96l-1.37-1.37c-.4-.4-.92-.59-1.43-.59-.52 0-1.04.2-1.43.59L10.3 9.45l-7.72 7.72c-.78.78-.78 2.05 0 2.83L4 21.41c.39.39.9.59 1.41.59.51 0 1.02-.2 1.41-.59l7.78-7.78 2.81-2.81c.8-.78.8-2.07 0-2.86zM5.41 20L4 18.59l7.72-7.72 1.47 1.35L5.41 20z\"/>\n",
              "  </svg>\n",
              "      </button>\n",
              "      \n",
              "  <style>\n",
              "    .colab-df-container {\n",
              "      display:flex;\n",
              "      flex-wrap:wrap;\n",
              "      gap: 12px;\n",
              "    }\n",
              "\n",
              "    .colab-df-convert {\n",
              "      background-color: #E8F0FE;\n",
              "      border: none;\n",
              "      border-radius: 50%;\n",
              "      cursor: pointer;\n",
              "      display: none;\n",
              "      fill: #1967D2;\n",
              "      height: 32px;\n",
              "      padding: 0 0 0 0;\n",
              "      width: 32px;\n",
              "    }\n",
              "\n",
              "    .colab-df-convert:hover {\n",
              "      background-color: #E2EBFA;\n",
              "      box-shadow: 0px 1px 2px rgba(60, 64, 67, 0.3), 0px 1px 3px 1px rgba(60, 64, 67, 0.15);\n",
              "      fill: #174EA6;\n",
              "    }\n",
              "\n",
              "    [theme=dark] .colab-df-convert {\n",
              "      background-color: #3B4455;\n",
              "      fill: #D2E3FC;\n",
              "    }\n",
              "\n",
              "    [theme=dark] .colab-df-convert:hover {\n",
              "      background-color: #434B5C;\n",
              "      box-shadow: 0px 1px 3px 1px rgba(0, 0, 0, 0.15);\n",
              "      filter: drop-shadow(0px 1px 2px rgba(0, 0, 0, 0.3));\n",
              "      fill: #FFFFFF;\n",
              "    }\n",
              "  </style>\n",
              "\n",
              "      <script>\n",
              "        const buttonEl =\n",
              "          document.querySelector('#df-7c3118e6-eff4-4d80-9e3c-cdfb962e8bc6 button.colab-df-convert');\n",
              "        buttonEl.style.display =\n",
              "          google.colab.kernel.accessAllowed ? 'block' : 'none';\n",
              "\n",
              "        async function convertToInteractive(key) {\n",
              "          const element = document.querySelector('#df-7c3118e6-eff4-4d80-9e3c-cdfb962e8bc6');\n",
              "          const dataTable =\n",
              "            await google.colab.kernel.invokeFunction('convertToInteractive',\n",
              "                                                     [key], {});\n",
              "          if (!dataTable) return;\n",
              "\n",
              "          const docLinkHtml = 'Like what you see? Visit the ' +\n",
              "            '<a target=\"_blank\" href=https://colab.research.google.com/notebooks/data_table.ipynb>data table notebook</a>'\n",
              "            + ' to learn more about interactive tables.';\n",
              "          element.innerHTML = '';\n",
              "          dataTable['output_type'] = 'display_data';\n",
              "          await google.colab.output.renderOutput(dataTable, element);\n",
              "          const docLink = document.createElement('div');\n",
              "          docLink.innerHTML = docLinkHtml;\n",
              "          element.appendChild(docLink);\n",
              "        }\n",
              "      </script>\n",
              "    </div>\n",
              "  </div>\n",
              "  "
            ]
          },
          "metadata": {},
          "execution_count": 89
        }
      ]
    },
    {
      "cell_type": "markdown",
      "source": [
        "# Modelos"
      ],
      "metadata": {
        "id": "KcKmO7lcggyT"
      }
    },
    {
      "cell_type": "code",
      "source": [],
      "metadata": {
        "id": "Iuye-hB9OFvi"
      },
      "execution_count": null,
      "outputs": []
    }
  ]
}