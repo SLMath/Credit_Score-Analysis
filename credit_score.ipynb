{
  "nbformat": 4,
  "nbformat_minor": 0,
  "metadata": {
    "colab": {
      "provenance": [],
      "authorship_tag": "ABX9TyPt1Uty/2wMPi5rAdk4B3bi",
      "include_colab_link": true
    },
    "kernelspec": {
      "name": "python3",
      "display_name": "Python 3"
    },
    "language_info": {
      "name": "python"
    }
  },
  "cells": [
    {
      "cell_type": "markdown",
      "metadata": {
        "id": "view-in-github",
        "colab_type": "text"
      },
      "source": [
        "<a href=\"https://colab.research.google.com/github/SLMath/Credit_Score-Analysis/blob/eda_matheus/credit_score.ipynb\" target=\"_parent\"><img src=\"https://colab.research.google.com/assets/colab-badge.svg\" alt=\"Open In Colab\"/></a>"
      ]
    },
    {
      "cell_type": "markdown",
      "source": [
        "# Importar Dados"
      ],
      "metadata": {
        "id": "InPL-vBRgPRn"
      }
    },
    {
      "cell_type": "code",
      "execution_count": 121,
      "metadata": {
        "id": "RRwhS-_xRwlU"
      },
      "outputs": [],
      "source": [
        "import pandas as pd\n",
        "import numpy as np"
      ]
    },
    {
      "cell_type": "code",
      "source": [
        "data_df = pd.read_csv('https://github.com/SLMath/Credit_Score-Analysis/raw/main/data/train.csv')\n",
        "print(data_df.shape)\n",
        "data_df.head()"
      ],
      "metadata": {
        "colab": {
          "base_uri": "https://localhost:8080/",
          "height": 508
        },
        "id": "_3Te5oRgSzFm",
        "outputId": "30be2f94-15b6-44d3-9f8d-5b296fb509b6"
      },
      "execution_count": 122,
      "outputs": [
        {
          "output_type": "stream",
          "name": "stdout",
          "text": [
            "(100000, 28)\n"
          ]
        },
        {
          "output_type": "stream",
          "name": "stderr",
          "text": [
            "<ipython-input-122-f5e0b1df3013>:1: DtypeWarning: Columns (26) have mixed types. Specify dtype option on import or set low_memory=False.\n",
            "  data_df = pd.read_csv('https://github.com/SLMath/Credit_Score-Analysis/raw/main/data/train.csv')\n"
          ]
        },
        {
          "output_type": "execute_result",
          "data": {
            "text/plain": [
              "       ID Customer_ID     Month           Name   Age          SSN Occupation  \\\n",
              "0  0x1602   CUS_0xd40   January  Aaron Maashoh    23  821-00-0265  Scientist   \n",
              "1  0x1603   CUS_0xd40  February  Aaron Maashoh    23  821-00-0265  Scientist   \n",
              "2  0x1604   CUS_0xd40     March  Aaron Maashoh  -500  821-00-0265  Scientist   \n",
              "3  0x1605   CUS_0xd40     April  Aaron Maashoh    23  821-00-0265  Scientist   \n",
              "4  0x1606   CUS_0xd40       May  Aaron Maashoh    23  821-00-0265  Scientist   \n",
              "\n",
              "  Annual_Income  Monthly_Inhand_Salary  Num_Bank_Accounts  ...  Credit_Mix  \\\n",
              "0      19114.12            1824.843333                  3  ...           _   \n",
              "1      19114.12                    NaN                  3  ...        Good   \n",
              "2      19114.12                    NaN                  3  ...        Good   \n",
              "3      19114.12                    NaN                  3  ...        Good   \n",
              "4      19114.12            1824.843333                  3  ...        Good   \n",
              "\n",
              "   Outstanding_Debt Credit_Utilization_Ratio     Credit_History_Age  \\\n",
              "0            809.98                26.822620  22 Years and 1 Months   \n",
              "1            809.98                31.944960                    NaN   \n",
              "2            809.98                28.609352  22 Years and 3 Months   \n",
              "3            809.98                31.377862  22 Years and 4 Months   \n",
              "4            809.98                24.797347  22 Years and 5 Months   \n",
              "\n",
              "   Payment_of_Min_Amount Total_EMI_per_month Amount_invested_monthly  \\\n",
              "0                     No           49.574949       80.41529543900253   \n",
              "1                     No           49.574949      118.28022162236736   \n",
              "2                     No           49.574949         81.699521264648   \n",
              "3                     No           49.574949       199.4580743910713   \n",
              "4                     No           49.574949      41.420153086217326   \n",
              "\n",
              "                  Payment_Behaviour     Monthly_Balance Credit_Score  \n",
              "0   High_spent_Small_value_payments  312.49408867943663         Good  \n",
              "1    Low_spent_Large_value_payments  284.62916249607184         Good  \n",
              "2   Low_spent_Medium_value_payments   331.2098628537912         Good  \n",
              "3    Low_spent_Small_value_payments  223.45130972736786         Good  \n",
              "4  High_spent_Medium_value_payments  341.48923103222177         Good  \n",
              "\n",
              "[5 rows x 28 columns]"
            ],
            "text/html": [
              "\n",
              "  <div id=\"df-1bdc4793-437b-4449-8d5c-e331f71c1d27\">\n",
              "    <div class=\"colab-df-container\">\n",
              "      <div>\n",
              "<style scoped>\n",
              "    .dataframe tbody tr th:only-of-type {\n",
              "        vertical-align: middle;\n",
              "    }\n",
              "\n",
              "    .dataframe tbody tr th {\n",
              "        vertical-align: top;\n",
              "    }\n",
              "\n",
              "    .dataframe thead th {\n",
              "        text-align: right;\n",
              "    }\n",
              "</style>\n",
              "<table border=\"1\" class=\"dataframe\">\n",
              "  <thead>\n",
              "    <tr style=\"text-align: right;\">\n",
              "      <th></th>\n",
              "      <th>ID</th>\n",
              "      <th>Customer_ID</th>\n",
              "      <th>Month</th>\n",
              "      <th>Name</th>\n",
              "      <th>Age</th>\n",
              "      <th>SSN</th>\n",
              "      <th>Occupation</th>\n",
              "      <th>Annual_Income</th>\n",
              "      <th>Monthly_Inhand_Salary</th>\n",
              "      <th>Num_Bank_Accounts</th>\n",
              "      <th>...</th>\n",
              "      <th>Credit_Mix</th>\n",
              "      <th>Outstanding_Debt</th>\n",
              "      <th>Credit_Utilization_Ratio</th>\n",
              "      <th>Credit_History_Age</th>\n",
              "      <th>Payment_of_Min_Amount</th>\n",
              "      <th>Total_EMI_per_month</th>\n",
              "      <th>Amount_invested_monthly</th>\n",
              "      <th>Payment_Behaviour</th>\n",
              "      <th>Monthly_Balance</th>\n",
              "      <th>Credit_Score</th>\n",
              "    </tr>\n",
              "  </thead>\n",
              "  <tbody>\n",
              "    <tr>\n",
              "      <th>0</th>\n",
              "      <td>0x1602</td>\n",
              "      <td>CUS_0xd40</td>\n",
              "      <td>January</td>\n",
              "      <td>Aaron Maashoh</td>\n",
              "      <td>23</td>\n",
              "      <td>821-00-0265</td>\n",
              "      <td>Scientist</td>\n",
              "      <td>19114.12</td>\n",
              "      <td>1824.843333</td>\n",
              "      <td>3</td>\n",
              "      <td>...</td>\n",
              "      <td>_</td>\n",
              "      <td>809.98</td>\n",
              "      <td>26.822620</td>\n",
              "      <td>22 Years and 1 Months</td>\n",
              "      <td>No</td>\n",
              "      <td>49.574949</td>\n",
              "      <td>80.41529543900253</td>\n",
              "      <td>High_spent_Small_value_payments</td>\n",
              "      <td>312.49408867943663</td>\n",
              "      <td>Good</td>\n",
              "    </tr>\n",
              "    <tr>\n",
              "      <th>1</th>\n",
              "      <td>0x1603</td>\n",
              "      <td>CUS_0xd40</td>\n",
              "      <td>February</td>\n",
              "      <td>Aaron Maashoh</td>\n",
              "      <td>23</td>\n",
              "      <td>821-00-0265</td>\n",
              "      <td>Scientist</td>\n",
              "      <td>19114.12</td>\n",
              "      <td>NaN</td>\n",
              "      <td>3</td>\n",
              "      <td>...</td>\n",
              "      <td>Good</td>\n",
              "      <td>809.98</td>\n",
              "      <td>31.944960</td>\n",
              "      <td>NaN</td>\n",
              "      <td>No</td>\n",
              "      <td>49.574949</td>\n",
              "      <td>118.28022162236736</td>\n",
              "      <td>Low_spent_Large_value_payments</td>\n",
              "      <td>284.62916249607184</td>\n",
              "      <td>Good</td>\n",
              "    </tr>\n",
              "    <tr>\n",
              "      <th>2</th>\n",
              "      <td>0x1604</td>\n",
              "      <td>CUS_0xd40</td>\n",
              "      <td>March</td>\n",
              "      <td>Aaron Maashoh</td>\n",
              "      <td>-500</td>\n",
              "      <td>821-00-0265</td>\n",
              "      <td>Scientist</td>\n",
              "      <td>19114.12</td>\n",
              "      <td>NaN</td>\n",
              "      <td>3</td>\n",
              "      <td>...</td>\n",
              "      <td>Good</td>\n",
              "      <td>809.98</td>\n",
              "      <td>28.609352</td>\n",
              "      <td>22 Years and 3 Months</td>\n",
              "      <td>No</td>\n",
              "      <td>49.574949</td>\n",
              "      <td>81.699521264648</td>\n",
              "      <td>Low_spent_Medium_value_payments</td>\n",
              "      <td>331.2098628537912</td>\n",
              "      <td>Good</td>\n",
              "    </tr>\n",
              "    <tr>\n",
              "      <th>3</th>\n",
              "      <td>0x1605</td>\n",
              "      <td>CUS_0xd40</td>\n",
              "      <td>April</td>\n",
              "      <td>Aaron Maashoh</td>\n",
              "      <td>23</td>\n",
              "      <td>821-00-0265</td>\n",
              "      <td>Scientist</td>\n",
              "      <td>19114.12</td>\n",
              "      <td>NaN</td>\n",
              "      <td>3</td>\n",
              "      <td>...</td>\n",
              "      <td>Good</td>\n",
              "      <td>809.98</td>\n",
              "      <td>31.377862</td>\n",
              "      <td>22 Years and 4 Months</td>\n",
              "      <td>No</td>\n",
              "      <td>49.574949</td>\n",
              "      <td>199.4580743910713</td>\n",
              "      <td>Low_spent_Small_value_payments</td>\n",
              "      <td>223.45130972736786</td>\n",
              "      <td>Good</td>\n",
              "    </tr>\n",
              "    <tr>\n",
              "      <th>4</th>\n",
              "      <td>0x1606</td>\n",
              "      <td>CUS_0xd40</td>\n",
              "      <td>May</td>\n",
              "      <td>Aaron Maashoh</td>\n",
              "      <td>23</td>\n",
              "      <td>821-00-0265</td>\n",
              "      <td>Scientist</td>\n",
              "      <td>19114.12</td>\n",
              "      <td>1824.843333</td>\n",
              "      <td>3</td>\n",
              "      <td>...</td>\n",
              "      <td>Good</td>\n",
              "      <td>809.98</td>\n",
              "      <td>24.797347</td>\n",
              "      <td>22 Years and 5 Months</td>\n",
              "      <td>No</td>\n",
              "      <td>49.574949</td>\n",
              "      <td>41.420153086217326</td>\n",
              "      <td>High_spent_Medium_value_payments</td>\n",
              "      <td>341.48923103222177</td>\n",
              "      <td>Good</td>\n",
              "    </tr>\n",
              "  </tbody>\n",
              "</table>\n",
              "<p>5 rows × 28 columns</p>\n",
              "</div>\n",
              "      <button class=\"colab-df-convert\" onclick=\"convertToInteractive('df-1bdc4793-437b-4449-8d5c-e331f71c1d27')\"\n",
              "              title=\"Convert this dataframe to an interactive table.\"\n",
              "              style=\"display:none;\">\n",
              "        \n",
              "  <svg xmlns=\"http://www.w3.org/2000/svg\" height=\"24px\"viewBox=\"0 0 24 24\"\n",
              "       width=\"24px\">\n",
              "    <path d=\"M0 0h24v24H0V0z\" fill=\"none\"/>\n",
              "    <path d=\"M18.56 5.44l.94 2.06.94-2.06 2.06-.94-2.06-.94-.94-2.06-.94 2.06-2.06.94zm-11 1L8.5 8.5l.94-2.06 2.06-.94-2.06-.94L8.5 2.5l-.94 2.06-2.06.94zm10 10l.94 2.06.94-2.06 2.06-.94-2.06-.94-.94-2.06-.94 2.06-2.06.94z\"/><path d=\"M17.41 7.96l-1.37-1.37c-.4-.4-.92-.59-1.43-.59-.52 0-1.04.2-1.43.59L10.3 9.45l-7.72 7.72c-.78.78-.78 2.05 0 2.83L4 21.41c.39.39.9.59 1.41.59.51 0 1.02-.2 1.41-.59l7.78-7.78 2.81-2.81c.8-.78.8-2.07 0-2.86zM5.41 20L4 18.59l7.72-7.72 1.47 1.35L5.41 20z\"/>\n",
              "  </svg>\n",
              "      </button>\n",
              "      \n",
              "  <style>\n",
              "    .colab-df-container {\n",
              "      display:flex;\n",
              "      flex-wrap:wrap;\n",
              "      gap: 12px;\n",
              "    }\n",
              "\n",
              "    .colab-df-convert {\n",
              "      background-color: #E8F0FE;\n",
              "      border: none;\n",
              "      border-radius: 50%;\n",
              "      cursor: pointer;\n",
              "      display: none;\n",
              "      fill: #1967D2;\n",
              "      height: 32px;\n",
              "      padding: 0 0 0 0;\n",
              "      width: 32px;\n",
              "    }\n",
              "\n",
              "    .colab-df-convert:hover {\n",
              "      background-color: #E2EBFA;\n",
              "      box-shadow: 0px 1px 2px rgba(60, 64, 67, 0.3), 0px 1px 3px 1px rgba(60, 64, 67, 0.15);\n",
              "      fill: #174EA6;\n",
              "    }\n",
              "\n",
              "    [theme=dark] .colab-df-convert {\n",
              "      background-color: #3B4455;\n",
              "      fill: #D2E3FC;\n",
              "    }\n",
              "\n",
              "    [theme=dark] .colab-df-convert:hover {\n",
              "      background-color: #434B5C;\n",
              "      box-shadow: 0px 1px 3px 1px rgba(0, 0, 0, 0.15);\n",
              "      filter: drop-shadow(0px 1px 2px rgba(0, 0, 0, 0.3));\n",
              "      fill: #FFFFFF;\n",
              "    }\n",
              "  </style>\n",
              "\n",
              "      <script>\n",
              "        const buttonEl =\n",
              "          document.querySelector('#df-1bdc4793-437b-4449-8d5c-e331f71c1d27 button.colab-df-convert');\n",
              "        buttonEl.style.display =\n",
              "          google.colab.kernel.accessAllowed ? 'block' : 'none';\n",
              "\n",
              "        async function convertToInteractive(key) {\n",
              "          const element = document.querySelector('#df-1bdc4793-437b-4449-8d5c-e331f71c1d27');\n",
              "          const dataTable =\n",
              "            await google.colab.kernel.invokeFunction('convertToInteractive',\n",
              "                                                     [key], {});\n",
              "          if (!dataTable) return;\n",
              "\n",
              "          const docLinkHtml = 'Like what you see? Visit the ' +\n",
              "            '<a target=\"_blank\" href=https://colab.research.google.com/notebooks/data_table.ipynb>data table notebook</a>'\n",
              "            + ' to learn more about interactive tables.';\n",
              "          element.innerHTML = '';\n",
              "          dataTable['output_type'] = 'display_data';\n",
              "          await google.colab.output.renderOutput(dataTable, element);\n",
              "          const docLink = document.createElement('div');\n",
              "          docLink.innerHTML = docLinkHtml;\n",
              "          element.appendChild(docLink);\n",
              "        }\n",
              "      </script>\n",
              "    </div>\n",
              "  </div>\n",
              "  "
            ]
          },
          "metadata": {},
          "execution_count": 122
        }
      ]
    },
    {
      "cell_type": "code",
      "source": [
        "aval_df = pd.read_csv('https://github.com/SLMath/Credit_Score-Analysis/raw/main/data/test.csv')\n",
        "print(aval_df.shape)\n",
        "aval_df.head()"
      ],
      "metadata": {
        "colab": {
          "base_uri": "https://localhost:8080/",
          "height": 475
        },
        "id": "nqQhflrIS7-a",
        "outputId": "40357170-3ccd-46a1-fa5e-518cf4c2eee9"
      },
      "execution_count": 123,
      "outputs": [
        {
          "output_type": "stream",
          "name": "stdout",
          "text": [
            "(50000, 27)\n"
          ]
        },
        {
          "output_type": "execute_result",
          "data": {
            "text/plain": [
              "       ID Customer_ID      Month             Name  Age          SSN  \\\n",
              "0  0x160a   CUS_0xd40  September    Aaron Maashoh   23  821-00-0265   \n",
              "1  0x160b   CUS_0xd40    October    Aaron Maashoh   24  821-00-0265   \n",
              "2  0x160c   CUS_0xd40   November    Aaron Maashoh   24  821-00-0265   \n",
              "3  0x160d   CUS_0xd40   December    Aaron Maashoh  24_  821-00-0265   \n",
              "4  0x1616  CUS_0x21b1  September  Rick Rothackerj   28  004-07-5839   \n",
              "\n",
              "  Occupation Annual_Income  Monthly_Inhand_Salary  Num_Bank_Accounts  ...  \\\n",
              "0  Scientist      19114.12            1824.843333                  3  ...   \n",
              "1  Scientist      19114.12            1824.843333                  3  ...   \n",
              "2  Scientist      19114.12            1824.843333                  3  ...   \n",
              "3  Scientist      19114.12                    NaN                  3  ...   \n",
              "4    _______      34847.84            3037.986667                  2  ...   \n",
              "\n",
              "   Num_Credit_Inquiries  Credit_Mix Outstanding_Debt Credit_Utilization_Ratio  \\\n",
              "0                2022.0        Good           809.98                35.030402   \n",
              "1                   4.0        Good           809.98                33.053114   \n",
              "2                   4.0        Good           809.98                33.811894   \n",
              "3                   4.0        Good           809.98                32.430559   \n",
              "4                   5.0        Good           605.03                25.926822   \n",
              "\n",
              "       Credit_History_Age Payment_of_Min_Amount Total_EMI_per_month  \\\n",
              "0   22 Years and 9 Months                    No           49.574949   \n",
              "1  22 Years and 10 Months                    No           49.574949   \n",
              "2                     NaN                    No           49.574949   \n",
              "3   23 Years and 0 Months                    No           49.574949   \n",
              "4   27 Years and 3 Months                    No           18.816215   \n",
              "\n",
              "   Amount_invested_monthly                 Payment_Behaviour  \\\n",
              "0       236.64268203272135    Low_spent_Small_value_payments   \n",
              "1       21.465380264657146  High_spent_Medium_value_payments   \n",
              "2       148.23393788500925   Low_spent_Medium_value_payments   \n",
              "3        39.08251089460281  High_spent_Medium_value_payments   \n",
              "4       39.684018417945296   High_spent_Large_value_payments   \n",
              "\n",
              "      Monthly_Balance  \n",
              "0  186.26670208571772  \n",
              "1  361.44400385378196  \n",
              "2  264.67544623342997  \n",
              "3  343.82687322383634  \n",
              "4   485.2984336755923  \n",
              "\n",
              "[5 rows x 27 columns]"
            ],
            "text/html": [
              "\n",
              "  <div id=\"df-e85b5fec-d924-4029-864c-d2ade8923e38\">\n",
              "    <div class=\"colab-df-container\">\n",
              "      <div>\n",
              "<style scoped>\n",
              "    .dataframe tbody tr th:only-of-type {\n",
              "        vertical-align: middle;\n",
              "    }\n",
              "\n",
              "    .dataframe tbody tr th {\n",
              "        vertical-align: top;\n",
              "    }\n",
              "\n",
              "    .dataframe thead th {\n",
              "        text-align: right;\n",
              "    }\n",
              "</style>\n",
              "<table border=\"1\" class=\"dataframe\">\n",
              "  <thead>\n",
              "    <tr style=\"text-align: right;\">\n",
              "      <th></th>\n",
              "      <th>ID</th>\n",
              "      <th>Customer_ID</th>\n",
              "      <th>Month</th>\n",
              "      <th>Name</th>\n",
              "      <th>Age</th>\n",
              "      <th>SSN</th>\n",
              "      <th>Occupation</th>\n",
              "      <th>Annual_Income</th>\n",
              "      <th>Monthly_Inhand_Salary</th>\n",
              "      <th>Num_Bank_Accounts</th>\n",
              "      <th>...</th>\n",
              "      <th>Num_Credit_Inquiries</th>\n",
              "      <th>Credit_Mix</th>\n",
              "      <th>Outstanding_Debt</th>\n",
              "      <th>Credit_Utilization_Ratio</th>\n",
              "      <th>Credit_History_Age</th>\n",
              "      <th>Payment_of_Min_Amount</th>\n",
              "      <th>Total_EMI_per_month</th>\n",
              "      <th>Amount_invested_monthly</th>\n",
              "      <th>Payment_Behaviour</th>\n",
              "      <th>Monthly_Balance</th>\n",
              "    </tr>\n",
              "  </thead>\n",
              "  <tbody>\n",
              "    <tr>\n",
              "      <th>0</th>\n",
              "      <td>0x160a</td>\n",
              "      <td>CUS_0xd40</td>\n",
              "      <td>September</td>\n",
              "      <td>Aaron Maashoh</td>\n",
              "      <td>23</td>\n",
              "      <td>821-00-0265</td>\n",
              "      <td>Scientist</td>\n",
              "      <td>19114.12</td>\n",
              "      <td>1824.843333</td>\n",
              "      <td>3</td>\n",
              "      <td>...</td>\n",
              "      <td>2022.0</td>\n",
              "      <td>Good</td>\n",
              "      <td>809.98</td>\n",
              "      <td>35.030402</td>\n",
              "      <td>22 Years and 9 Months</td>\n",
              "      <td>No</td>\n",
              "      <td>49.574949</td>\n",
              "      <td>236.64268203272135</td>\n",
              "      <td>Low_spent_Small_value_payments</td>\n",
              "      <td>186.26670208571772</td>\n",
              "    </tr>\n",
              "    <tr>\n",
              "      <th>1</th>\n",
              "      <td>0x160b</td>\n",
              "      <td>CUS_0xd40</td>\n",
              "      <td>October</td>\n",
              "      <td>Aaron Maashoh</td>\n",
              "      <td>24</td>\n",
              "      <td>821-00-0265</td>\n",
              "      <td>Scientist</td>\n",
              "      <td>19114.12</td>\n",
              "      <td>1824.843333</td>\n",
              "      <td>3</td>\n",
              "      <td>...</td>\n",
              "      <td>4.0</td>\n",
              "      <td>Good</td>\n",
              "      <td>809.98</td>\n",
              "      <td>33.053114</td>\n",
              "      <td>22 Years and 10 Months</td>\n",
              "      <td>No</td>\n",
              "      <td>49.574949</td>\n",
              "      <td>21.465380264657146</td>\n",
              "      <td>High_spent_Medium_value_payments</td>\n",
              "      <td>361.44400385378196</td>\n",
              "    </tr>\n",
              "    <tr>\n",
              "      <th>2</th>\n",
              "      <td>0x160c</td>\n",
              "      <td>CUS_0xd40</td>\n",
              "      <td>November</td>\n",
              "      <td>Aaron Maashoh</td>\n",
              "      <td>24</td>\n",
              "      <td>821-00-0265</td>\n",
              "      <td>Scientist</td>\n",
              "      <td>19114.12</td>\n",
              "      <td>1824.843333</td>\n",
              "      <td>3</td>\n",
              "      <td>...</td>\n",
              "      <td>4.0</td>\n",
              "      <td>Good</td>\n",
              "      <td>809.98</td>\n",
              "      <td>33.811894</td>\n",
              "      <td>NaN</td>\n",
              "      <td>No</td>\n",
              "      <td>49.574949</td>\n",
              "      <td>148.23393788500925</td>\n",
              "      <td>Low_spent_Medium_value_payments</td>\n",
              "      <td>264.67544623342997</td>\n",
              "    </tr>\n",
              "    <tr>\n",
              "      <th>3</th>\n",
              "      <td>0x160d</td>\n",
              "      <td>CUS_0xd40</td>\n",
              "      <td>December</td>\n",
              "      <td>Aaron Maashoh</td>\n",
              "      <td>24_</td>\n",
              "      <td>821-00-0265</td>\n",
              "      <td>Scientist</td>\n",
              "      <td>19114.12</td>\n",
              "      <td>NaN</td>\n",
              "      <td>3</td>\n",
              "      <td>...</td>\n",
              "      <td>4.0</td>\n",
              "      <td>Good</td>\n",
              "      <td>809.98</td>\n",
              "      <td>32.430559</td>\n",
              "      <td>23 Years and 0 Months</td>\n",
              "      <td>No</td>\n",
              "      <td>49.574949</td>\n",
              "      <td>39.08251089460281</td>\n",
              "      <td>High_spent_Medium_value_payments</td>\n",
              "      <td>343.82687322383634</td>\n",
              "    </tr>\n",
              "    <tr>\n",
              "      <th>4</th>\n",
              "      <td>0x1616</td>\n",
              "      <td>CUS_0x21b1</td>\n",
              "      <td>September</td>\n",
              "      <td>Rick Rothackerj</td>\n",
              "      <td>28</td>\n",
              "      <td>004-07-5839</td>\n",
              "      <td>_______</td>\n",
              "      <td>34847.84</td>\n",
              "      <td>3037.986667</td>\n",
              "      <td>2</td>\n",
              "      <td>...</td>\n",
              "      <td>5.0</td>\n",
              "      <td>Good</td>\n",
              "      <td>605.03</td>\n",
              "      <td>25.926822</td>\n",
              "      <td>27 Years and 3 Months</td>\n",
              "      <td>No</td>\n",
              "      <td>18.816215</td>\n",
              "      <td>39.684018417945296</td>\n",
              "      <td>High_spent_Large_value_payments</td>\n",
              "      <td>485.2984336755923</td>\n",
              "    </tr>\n",
              "  </tbody>\n",
              "</table>\n",
              "<p>5 rows × 27 columns</p>\n",
              "</div>\n",
              "      <button class=\"colab-df-convert\" onclick=\"convertToInteractive('df-e85b5fec-d924-4029-864c-d2ade8923e38')\"\n",
              "              title=\"Convert this dataframe to an interactive table.\"\n",
              "              style=\"display:none;\">\n",
              "        \n",
              "  <svg xmlns=\"http://www.w3.org/2000/svg\" height=\"24px\"viewBox=\"0 0 24 24\"\n",
              "       width=\"24px\">\n",
              "    <path d=\"M0 0h24v24H0V0z\" fill=\"none\"/>\n",
              "    <path d=\"M18.56 5.44l.94 2.06.94-2.06 2.06-.94-2.06-.94-.94-2.06-.94 2.06-2.06.94zm-11 1L8.5 8.5l.94-2.06 2.06-.94-2.06-.94L8.5 2.5l-.94 2.06-2.06.94zm10 10l.94 2.06.94-2.06 2.06-.94-2.06-.94-.94-2.06-.94 2.06-2.06.94z\"/><path d=\"M17.41 7.96l-1.37-1.37c-.4-.4-.92-.59-1.43-.59-.52 0-1.04.2-1.43.59L10.3 9.45l-7.72 7.72c-.78.78-.78 2.05 0 2.83L4 21.41c.39.39.9.59 1.41.59.51 0 1.02-.2 1.41-.59l7.78-7.78 2.81-2.81c.8-.78.8-2.07 0-2.86zM5.41 20L4 18.59l7.72-7.72 1.47 1.35L5.41 20z\"/>\n",
              "  </svg>\n",
              "      </button>\n",
              "      \n",
              "  <style>\n",
              "    .colab-df-container {\n",
              "      display:flex;\n",
              "      flex-wrap:wrap;\n",
              "      gap: 12px;\n",
              "    }\n",
              "\n",
              "    .colab-df-convert {\n",
              "      background-color: #E8F0FE;\n",
              "      border: none;\n",
              "      border-radius: 50%;\n",
              "      cursor: pointer;\n",
              "      display: none;\n",
              "      fill: #1967D2;\n",
              "      height: 32px;\n",
              "      padding: 0 0 0 0;\n",
              "      width: 32px;\n",
              "    }\n",
              "\n",
              "    .colab-df-convert:hover {\n",
              "      background-color: #E2EBFA;\n",
              "      box-shadow: 0px 1px 2px rgba(60, 64, 67, 0.3), 0px 1px 3px 1px rgba(60, 64, 67, 0.15);\n",
              "      fill: #174EA6;\n",
              "    }\n",
              "\n",
              "    [theme=dark] .colab-df-convert {\n",
              "      background-color: #3B4455;\n",
              "      fill: #D2E3FC;\n",
              "    }\n",
              "\n",
              "    [theme=dark] .colab-df-convert:hover {\n",
              "      background-color: #434B5C;\n",
              "      box-shadow: 0px 1px 3px 1px rgba(0, 0, 0, 0.15);\n",
              "      filter: drop-shadow(0px 1px 2px rgba(0, 0, 0, 0.3));\n",
              "      fill: #FFFFFF;\n",
              "    }\n",
              "  </style>\n",
              "\n",
              "      <script>\n",
              "        const buttonEl =\n",
              "          document.querySelector('#df-e85b5fec-d924-4029-864c-d2ade8923e38 button.colab-df-convert');\n",
              "        buttonEl.style.display =\n",
              "          google.colab.kernel.accessAllowed ? 'block' : 'none';\n",
              "\n",
              "        async function convertToInteractive(key) {\n",
              "          const element = document.querySelector('#df-e85b5fec-d924-4029-864c-d2ade8923e38');\n",
              "          const dataTable =\n",
              "            await google.colab.kernel.invokeFunction('convertToInteractive',\n",
              "                                                     [key], {});\n",
              "          if (!dataTable) return;\n",
              "\n",
              "          const docLinkHtml = 'Like what you see? Visit the ' +\n",
              "            '<a target=\"_blank\" href=https://colab.research.google.com/notebooks/data_table.ipynb>data table notebook</a>'\n",
              "            + ' to learn more about interactive tables.';\n",
              "          element.innerHTML = '';\n",
              "          dataTable['output_type'] = 'display_data';\n",
              "          await google.colab.output.renderOutput(dataTable, element);\n",
              "          const docLink = document.createElement('div');\n",
              "          docLink.innerHTML = docLinkHtml;\n",
              "          element.appendChild(docLink);\n",
              "        }\n",
              "      </script>\n",
              "    </div>\n",
              "  </div>\n",
              "  "
            ]
          },
          "metadata": {},
          "execution_count": 123
        }
      ]
    },
    {
      "cell_type": "markdown",
      "source": [
        "# EDA"
      ],
      "metadata": {
        "id": "u33i3bOMgEev"
      }
    },
    {
      "cell_type": "code",
      "source": [
        "import matplotlib.pyplot as plt\n",
        "import seaborn as sns\n",
        "import re"
      ],
      "metadata": {
        "id": "45_Vv9EghopZ"
      },
      "execution_count": 124,
      "outputs": []
    },
    {
      "cell_type": "code",
      "source": [
        "data_df.columns"
      ],
      "metadata": {
        "id": "NHSKV0YRjEz9",
        "outputId": "b16867c7-5550-4d9f-e864-15d3d3f92e8e",
        "colab": {
          "base_uri": "https://localhost:8080/"
        }
      },
      "execution_count": 125,
      "outputs": [
        {
          "output_type": "execute_result",
          "data": {
            "text/plain": [
              "Index(['ID', 'Customer_ID', 'Month', 'Name', 'Age', 'SSN', 'Occupation',\n",
              "       'Annual_Income', 'Monthly_Inhand_Salary', 'Num_Bank_Accounts',\n",
              "       'Num_Credit_Card', 'Interest_Rate', 'Num_of_Loan', 'Type_of_Loan',\n",
              "       'Delay_from_due_date', 'Num_of_Delayed_Payment', 'Changed_Credit_Limit',\n",
              "       'Num_Credit_Inquiries', 'Credit_Mix', 'Outstanding_Debt',\n",
              "       'Credit_Utilization_Ratio', 'Credit_History_Age',\n",
              "       'Payment_of_Min_Amount', 'Total_EMI_per_month',\n",
              "       'Amount_invested_monthly', 'Payment_Behaviour', 'Monthly_Balance',\n",
              "       'Credit_Score'],\n",
              "      dtype='object')"
            ]
          },
          "metadata": {},
          "execution_count": 125
        }
      ]
    },
    {
      "cell_type": "markdown",
      "source": [
        "## Verificando dados irrelevantes para a análise"
      ],
      "metadata": {
        "id": "zqEwnlPz_PuC"
      }
    },
    {
      "cell_type": "code",
      "source": [
        "data_df['Customer_ID'].isna().sum()"
      ],
      "metadata": {
        "id": "D7zf0SifjWc8",
        "outputId": "ec375d43-9461-45a0-c78e-d557f1160c0c",
        "colab": {
          "base_uri": "https://localhost:8080/"
        }
      },
      "execution_count": 126,
      "outputs": [
        {
          "output_type": "execute_result",
          "data": {
            "text/plain": [
              "0"
            ]
          },
          "metadata": {},
          "execution_count": 126
        }
      ]
    },
    {
      "cell_type": "code",
      "source": [
        "len(data_df['Customer_ID'].unique())"
      ],
      "metadata": {
        "id": "wCzJ9Q96kT_V",
        "outputId": "8d10a186-c2b7-46fd-d9a3-d3dbb421a15d",
        "colab": {
          "base_uri": "https://localhost:8080/"
        }
      },
      "execution_count": 127,
      "outputs": [
        {
          "output_type": "execute_result",
          "data": {
            "text/plain": [
              "12500"
            ]
          },
          "metadata": {},
          "execution_count": 127
        }
      ]
    },
    {
      "cell_type": "code",
      "source": [
        "data_df['Customer_ID'].apply(lambda cust_prefix: not re.match('CUS_0x[1-9a-f][0-9a-f]*', cust_prefix)).sum()"
      ],
      "metadata": {
        "id": "rDOQM7V_kpuU",
        "outputId": "fdaabf3d-c60a-4ebd-e585-3aec7324523b",
        "colab": {
          "base_uri": "https://localhost:8080/"
        }
      },
      "execution_count": 128,
      "outputs": [
        {
          "output_type": "execute_result",
          "data": {
            "text/plain": [
              "0"
            ]
          },
          "metadata": {},
          "execution_count": 128
        }
      ]
    },
    {
      "cell_type": "markdown",
      "source": [
        "O \"ID\" é único para cada registro, portando dispensável.\n",
        "\n",
        "Como o \"Customer_ID\", \"Name\" e \"SSN\" são redundantes, manteremos apenas \"Customer_ID\" (verificado que não há nulos).\n",
        "\n",
        "Vimos que existem 12500 Customers IDs diferentes, todos com prefixo 'CUS_0x' seguido de um hexadecimal"
      ],
      "metadata": {
        "id": "e8nEtw9kji9R"
      }
    },
    {
      "cell_type": "code",
      "source": [
        "data_df = data_df.drop(columns= ['ID', 'Name', 'SSN'])"
      ],
      "metadata": {
        "id": "yeNOFK7pid4X"
      },
      "execution_count": 129,
      "outputs": []
    },
    {
      "cell_type": "code",
      "source": [
        "# Extraindo e transformando o hexadecimal em int, para melhorar o processamento e armazenamento dos dados\n",
        "data_df['Customer_ID'] = data_df['Customer_ID'].str[4:].apply(int, base=16)\n",
        "len(data_df['Customer_ID'].unique())"
      ],
      "metadata": {
        "id": "PEdFP9U_o2qp",
        "outputId": "61f65e66-24dd-43ec-c3e6-7e8ab51a07ac",
        "colab": {
          "base_uri": "https://localhost:8080/"
        }
      },
      "execution_count": 130,
      "outputs": [
        {
          "output_type": "execute_result",
          "data": {
            "text/plain": [
              "12500"
            ]
          },
          "metadata": {},
          "execution_count": 130
        }
      ]
    },
    {
      "cell_type": "markdown",
      "source": [
        "Não houve perdas de customer ID"
      ],
      "metadata": {
        "id": "kyxNcMe8qTtQ"
      }
    },
    {
      "cell_type": "markdown",
      "source": [
        "## Verificando tipos de dados inconsistentes"
      ],
      "metadata": {
        "id": "pOOsDqla_VLP"
      }
    },
    {
      "cell_type": "code",
      "source": [
        "data_df.info()"
      ],
      "metadata": {
        "id": "wazkmJU8icDw",
        "outputId": "90c1d832-dcc4-4ec7-96dd-f5bfce8c2958",
        "colab": {
          "base_uri": "https://localhost:8080/"
        }
      },
      "execution_count": 131,
      "outputs": [
        {
          "output_type": "stream",
          "name": "stdout",
          "text": [
            "<class 'pandas.core.frame.DataFrame'>\n",
            "RangeIndex: 100000 entries, 0 to 99999\n",
            "Data columns (total 25 columns):\n",
            " #   Column                    Non-Null Count   Dtype  \n",
            "---  ------                    --------------   -----  \n",
            " 0   Customer_ID               100000 non-null  int64  \n",
            " 1   Month                     100000 non-null  object \n",
            " 2   Age                       100000 non-null  object \n",
            " 3   Occupation                100000 non-null  object \n",
            " 4   Annual_Income             100000 non-null  object \n",
            " 5   Monthly_Inhand_Salary     84998 non-null   float64\n",
            " 6   Num_Bank_Accounts         100000 non-null  int64  \n",
            " 7   Num_Credit_Card           100000 non-null  int64  \n",
            " 8   Interest_Rate             100000 non-null  int64  \n",
            " 9   Num_of_Loan               100000 non-null  object \n",
            " 10  Type_of_Loan              88592 non-null   object \n",
            " 11  Delay_from_due_date       100000 non-null  int64  \n",
            " 12  Num_of_Delayed_Payment    92998 non-null   object \n",
            " 13  Changed_Credit_Limit      100000 non-null  object \n",
            " 14  Num_Credit_Inquiries      98035 non-null   float64\n",
            " 15  Credit_Mix                100000 non-null  object \n",
            " 16  Outstanding_Debt          100000 non-null  object \n",
            " 17  Credit_Utilization_Ratio  100000 non-null  float64\n",
            " 18  Credit_History_Age        90970 non-null   object \n",
            " 19  Payment_of_Min_Amount     100000 non-null  object \n",
            " 20  Total_EMI_per_month       100000 non-null  float64\n",
            " 21  Amount_invested_monthly   95521 non-null   object \n",
            " 22  Payment_Behaviour         100000 non-null  object \n",
            " 23  Monthly_Balance           98800 non-null   object \n",
            " 24  Credit_Score              100000 non-null  object \n",
            "dtypes: float64(4), int64(5), object(16)\n",
            "memory usage: 19.1+ MB\n"
          ]
        }
      ]
    },
    {
      "cell_type": "markdown",
      "source": [
        "Os seguintes atributos estão com tipos diferentes do esperado:\n",
        "- numéricos, tratados como objetos\n",
        "    - Age\n",
        "    - Annual_Income\n",
        "    - Num_of_Loan\n",
        "    - Num_of_Delayed_Payment\n",
        "    - Changed_Credit_Limit\n",
        "    - Outstanding_Debt\n",
        "    - Credit_History_Age\n",
        "    - Amount_invested_monthly\n",
        "    - Monthly_Balance\n",
        "- inteiro, tratados como float\n",
        "    - Num_Credit_Inquiries"
      ],
      "metadata": {
        "id": "fpwHkjlW-tzu"
      }
    },
    {
      "cell_type": "markdown",
      "source": [
        "### Num_Credit_Inquiries"
      ],
      "metadata": {
        "id": "i8T88FunDI81"
      }
    },
    {
      "cell_type": "code",
      "source": [
        "# Verify not int values\n",
        "pd.Series( value for value in data_df['Num_Credit_Inquiries'] if not value.is_integer() ).unique()"
      ],
      "metadata": {
        "id": "XRigBM1H-tPi",
        "outputId": "b0153324-06e7-4487-fe5b-3487aef69db1",
        "colab": {
          "base_uri": "https://localhost:8080/"
        }
      },
      "execution_count": 132,
      "outputs": [
        {
          "output_type": "execute_result",
          "data": {
            "text/plain": [
              "array([nan])"
            ]
          },
          "metadata": {},
          "execution_count": 132
        }
      ]
    },
    {
      "cell_type": "markdown",
      "source": [
        "### Age"
      ],
      "metadata": {
        "id": "s-jupPfYE0TF"
      }
    },
    {
      "cell_type": "code",
      "source": [
        "# Verify not numerical values\n",
        "data_df['Age'][ pd.to_numeric(data_df['Age'], errors='coerce', ).isna() ].unique()"
      ],
      "metadata": {
        "id": "Rv31cy7AEyeJ",
        "outputId": "5a85d88e-ade1-4405-d48a-a6acb4e70d5d",
        "colab": {
          "base_uri": "https://localhost:8080/"
        }
      },
      "execution_count": 133,
      "outputs": [
        {
          "output_type": "execute_result",
          "data": {
            "text/plain": [
              "array(['28_', '34_', '30_', '24_', '33_', '35_', '31_', '40_', '37_',\n",
              "       '54_', '21_', '20_', '43_', '38_', '18_', '2111_', '46_', '16_',\n",
              "       '19_', '47_', '53_', '25_', '27_', '55_', '42_', '48_', '49_',\n",
              "       '50_', '32_', '22_', '17_', '29_', '15_', '51_', '26_', '39_',\n",
              "       '14_', '36_', '44_', '7670_', '45_', '23_', '41_', '52_', '733_',\n",
              "       '5769_', '4383_', '56_', '2650_', '3307_', '6962_', '5589_',\n",
              "       '6556_', '1447_', '8153_', '3834_', '6744_', '6471_', '7723_',\n",
              "       '7640_', '6408_', '3502_', '7316_', '1102_', '8669_', '2463_',\n",
              "       '6666_', '3055_', '1248_', '2220_', '2159_', '4583_', '3988_',\n",
              "       '2155_', '6770_', '1843_', '1367_', '3742_', '2171_', '5109_',\n",
              "       '3984_', '2474_', '5046_', '7715_', '2329_', '707_', '844_',\n",
              "       '2756_', '2037_', '902_', '8523_', '3640_', '3998_', '3712_',\n",
              "       '2097_', '8348_', '5373_', '3291_', '2994_', '3339_', '2812_',\n",
              "       '3578_', '3564_', '1794_', '737_', '4301_', '2846_', '2373_',\n",
              "       '1188_', '8207_', '5909_', '6381_', '8616_', '6799_', '1591_',\n",
              "       '3775_', '6564_', '7122_', '4913_', '5697_', '3843_', '4445_',\n",
              "       '6921_', '780_', '1070_', '5798_', '4808_'], dtype=object)"
            ]
          },
          "metadata": {},
          "execution_count": 133
        }
      ]
    },
    {
      "cell_type": "code",
      "source": [
        "# remove \"_\" at the end and convert to a number\n",
        "data_df['Age'] = data_df['Age'].str.replace('_', '').astype(int)\n",
        "data_df['Age']"
      ],
      "metadata": {
        "id": "labw1-LAF5RF",
        "outputId": "a2aa8f43-c78b-476e-8f99-63a19227d560",
        "colab": {
          "base_uri": "https://localhost:8080/"
        }
      },
      "execution_count": 134,
      "outputs": [
        {
          "output_type": "execute_result",
          "data": {
            "text/plain": [
              "0         23\n",
              "1         23\n",
              "2       -500\n",
              "3         23\n",
              "4         23\n",
              "        ... \n",
              "99995     25\n",
              "99996     25\n",
              "99997     25\n",
              "99998     25\n",
              "99999     25\n",
              "Name: Age, Length: 100000, dtype: int64"
            ]
          },
          "metadata": {},
          "execution_count": 134
        }
      ]
    },
    {
      "cell_type": "code",
      "source": [
        "# Apply the same for other columns\n",
        "remove_underline_cols = [\n",
        "    'Annual_Income',\n",
        "    'Num_of_Loan',\n",
        "    'Num_of_Delayed_Payment',\n",
        "    'Changed_Credit_Limit',\n",
        "    'Outstanding_Debt',\n",
        "    'Credit_History_Age',\n",
        "    'Amount_invested_monthly',\n",
        "    'Monthly_Balance'\n",
        "]\n",
        "for col in remove_underline_cols:\n",
        "    data_df[col] = data_df[col].str.replace('_', '')\n",
        "    try:\n",
        "        data_df[col] = data_df[col].apply(float)\n",
        "    except:\n",
        "        pass\n",
        "\n",
        "data_df[remove_underline_cols].info()"
      ],
      "metadata": {
        "id": "CodzYo1HGuja",
        "outputId": "c5700f61-9e44-4aa1-f883-1647d11f87d9",
        "colab": {
          "base_uri": "https://localhost:8080/"
        }
      },
      "execution_count": 135,
      "outputs": [
        {
          "output_type": "stream",
          "name": "stdout",
          "text": [
            "<class 'pandas.core.frame.DataFrame'>\n",
            "RangeIndex: 100000 entries, 0 to 99999\n",
            "Data columns (total 8 columns):\n",
            " #   Column                   Non-Null Count   Dtype  \n",
            "---  ------                   --------------   -----  \n",
            " 0   Annual_Income            100000 non-null  float64\n",
            " 1   Num_of_Loan              100000 non-null  float64\n",
            " 2   Num_of_Delayed_Payment   92998 non-null   float64\n",
            " 3   Changed_Credit_Limit     100000 non-null  object \n",
            " 4   Outstanding_Debt         100000 non-null  float64\n",
            " 5   Credit_History_Age       90970 non-null   object \n",
            " 6   Amount_invested_monthly  95521 non-null   float64\n",
            " 7   Monthly_Balance          97132 non-null   float64\n",
            "dtypes: float64(6), object(2)\n",
            "memory usage: 6.1+ MB\n"
          ]
        }
      ]
    },
    {
      "cell_type": "markdown",
      "source": [
        "2 colunas ainda precisam de tratamento:\n",
        "1. Changed_Credit_Limit\n",
        "2. Credit_History_Age"
      ],
      "metadata": {
        "id": "V4vRG0MnH8SX"
      }
    },
    {
      "cell_type": "markdown",
      "source": [
        "### Changed_Credit_Limit"
      ],
      "metadata": {
        "id": "8r3ZCrLFGawb"
      }
    },
    {
      "cell_type": "code",
      "source": [
        "# Verify not numerical values\n",
        "data_df['Changed_Credit_Limit'][ pd.to_numeric(data_df['Changed_Credit_Limit'], errors='coerce', ).isna() ].unique()"
      ],
      "metadata": {
        "id": "086Ts-ULGeAw",
        "outputId": "ec25af9c-18e7-4de7-e498-1e068a7a579f",
        "colab": {
          "base_uri": "https://localhost:8080/"
        }
      },
      "execution_count": 136,
      "outputs": [
        {
          "output_type": "execute_result",
          "data": {
            "text/plain": [
              "array([''], dtype=object)"
            ]
          },
          "metadata": {},
          "execution_count": 136
        }
      ]
    },
    {
      "cell_type": "code",
      "source": [
        "# Tratar dados faltantes como nulos\n",
        "data_df['Changed_Credit_Limit'] = pd.to_numeric(data_df['Changed_Credit_Limit'], errors='coerce')\n",
        "data_df['Changed_Credit_Limit']"
      ],
      "metadata": {
        "id": "bKZFSbisIh7l",
        "outputId": "7e78910a-ae4a-4b51-8410-12534841489c",
        "colab": {
          "base_uri": "https://localhost:8080/"
        }
      },
      "execution_count": 137,
      "outputs": [
        {
          "output_type": "execute_result",
          "data": {
            "text/plain": [
              "0        11.27\n",
              "1        11.27\n",
              "2          NaN\n",
              "3         6.27\n",
              "4        11.27\n",
              "         ...  \n",
              "99995    11.50\n",
              "99996    11.50\n",
              "99997    11.50\n",
              "99998    11.50\n",
              "99999    11.50\n",
              "Name: Changed_Credit_Limit, Length: 100000, dtype: float64"
            ]
          },
          "metadata": {},
          "execution_count": 137
        }
      ]
    },
    {
      "cell_type": "markdown",
      "source": [
        "### Credit_History_Age"
      ],
      "metadata": {
        "id": "uaQ4JgFOIuL_"
      }
    },
    {
      "cell_type": "code",
      "source": [
        "# Verify not numerical values\n",
        "data_df['Credit_History_Age'][ pd.to_numeric(data_df['Credit_History_Age'], errors='coerce', ).isna() ].unique()"
      ],
      "metadata": {
        "id": "0fhQENLvIt2p",
        "outputId": "d6a7d3ab-ae65-451f-c776-ca3c0672ad15",
        "colab": {
          "base_uri": "https://localhost:8080/"
        }
      },
      "execution_count": 138,
      "outputs": [
        {
          "output_type": "execute_result",
          "data": {
            "text/plain": [
              "array(['22 Years and 1 Months', nan, '22 Years and 3 Months',\n",
              "       '22 Years and 4 Months', '22 Years and 5 Months',\n",
              "       '22 Years and 6 Months', '22 Years and 7 Months',\n",
              "       '26 Years and 7 Months', '26 Years and 8 Months',\n",
              "       '26 Years and 9 Months', '26 Years and 10 Months',\n",
              "       '26 Years and 11 Months', '27 Years and 0 Months',\n",
              "       '27 Years and 1 Months', '27 Years and 2 Months',\n",
              "       '17 Years and 9 Months', '17 Years and 10 Months',\n",
              "       '17 Years and 11 Months', '18 Years and 1 Months',\n",
              "       '18 Years and 2 Months', '18 Years and 3 Months',\n",
              "       '18 Years and 4 Months', '17 Years and 3 Months',\n",
              "       '17 Years and 4 Months', '17 Years and 5 Months',\n",
              "       '17 Years and 6 Months', '17 Years and 7 Months',\n",
              "       '17 Years and 8 Months', '30 Years and 8 Months',\n",
              "       '30 Years and 9 Months', '30 Years and 10 Months',\n",
              "       '30 Years and 11 Months', '31 Years and 0 Months',\n",
              "       '31 Years and 1 Months', '31 Years and 2 Months',\n",
              "       '31 Years and 3 Months', '32 Years and 0 Months',\n",
              "       '32 Years and 2 Months', '32 Years and 3 Months',\n",
              "       '32 Years and 5 Months', '32 Years and 6 Months',\n",
              "       '30 Years and 7 Months', '14 Years and 8 Months',\n",
              "       '14 Years and 9 Months', '14 Years and 10 Months',\n",
              "       '14 Years and 11 Months', '15 Years and 0 Months',\n",
              "       '15 Years and 1 Months', '15 Years and 2 Months',\n",
              "       '21 Years and 4 Months', '21 Years and 5 Months',\n",
              "       '21 Years and 6 Months', '21 Years and 7 Months',\n",
              "       '21 Years and 8 Months', '21 Years and 9 Months',\n",
              "       '21 Years and 10 Months', '21 Years and 11 Months',\n",
              "       '26 Years and 6 Months', '19 Years and 2 Months',\n",
              "       '19 Years and 3 Months', '19 Years and 4 Months',\n",
              "       '19 Years and 5 Months', '19 Years and 6 Months',\n",
              "       '19 Years and 7 Months', '19 Years and 8 Months',\n",
              "       '25 Years and 5 Months', '25 Years and 6 Months',\n",
              "       '25 Years and 7 Months', '25 Years and 8 Months',\n",
              "       '25 Years and 9 Months', '25 Years and 10 Months',\n",
              "       '25 Years and 11 Months', '26 Years and 0 Months',\n",
              "       '27 Years and 3 Months', '27 Years and 4 Months',\n",
              "       '27 Years and 5 Months', '8 Years and 11 Months',\n",
              "       '9 Years and 0 Months', '9 Years and 1 Months',\n",
              "       '9 Years and 2 Months', '9 Years and 3 Months',\n",
              "       '9 Years and 4 Months', '9 Years and 6 Months',\n",
              "       '18 Years and 5 Months', '18 Years and 6 Months',\n",
              "       '18 Years and 8 Months', '18 Years and 9 Months',\n",
              "       '16 Years and 10 Months', '16 Years and 11 Months',\n",
              "       '17 Years and 0 Months', '17 Years and 1 Months',\n",
              "       '17 Years and 2 Months', '29 Years and 2 Months',\n",
              "       '29 Years and 3 Months', '29 Years and 4 Months',\n",
              "       '29 Years and 6 Months', '29 Years and 8 Months',\n",
              "       '29 Years and 9 Months', '6 Years and 5 Months',\n",
              "       '6 Years and 6 Months', '6 Years and 7 Months',\n",
              "       '6 Years and 8 Months', '6 Years and 9 Months',\n",
              "       '6 Years and 10 Months', '6 Years and 11 Months',\n",
              "       '7 Years and 0 Months', '27 Years and 6 Months',\n",
              "       '27 Years and 7 Months', '27 Years and 8 Months',\n",
              "       '27 Years and 9 Months', '18 Years and 7 Months',\n",
              "       '19 Years and 9 Months', '19 Years and 10 Months',\n",
              "       '10 Years and 1 Months', '10 Years and 2 Months',\n",
              "       '10 Years and 3 Months', '10 Years and 4 Months',\n",
              "       '10 Years and 5 Months', '10 Years and 6 Months',\n",
              "       '10 Years and 7 Months', '10 Years and 8 Months',\n",
              "       '32 Years and 9 Months', '32 Years and 10 Months',\n",
              "       '32 Years and 11 Months', '33 Years and 0 Months',\n",
              "       '33 Years and 1 Months', '33 Years and 4 Months',\n",
              "       '12 Years and 3 Months', '12 Years and 4 Months',\n",
              "       '12 Years and 5 Months', '12 Years and 6 Months',\n",
              "       '12 Years and 7 Months', '12 Years and 8 Months',\n",
              "       '12 Years and 10 Months', '12 Years and 9 Months',\n",
              "       '13 Years and 8 Months', '13 Years and 11 Months',\n",
              "       '14 Years and 0 Months', '14 Years and 1 Months',\n",
              "       '14 Years and 2 Months', '14 Years and 3 Months',\n",
              "       '30 Years and 3 Months', '30 Years and 4 Months',\n",
              "       '30 Years and 5 Months', '30 Years and 6 Months',\n",
              "       '8 Years and 9 Months', '8 Years and 10 Months',\n",
              "       '18 Years and 10 Months', '18 Years and 11 Months',\n",
              "       '19 Years and 0 Months', '19 Years and 1 Months',\n",
              "       '8 Years and 8 Months', '13 Years and 1 Months',\n",
              "       '13 Years and 2 Months', '13 Years and 3 Months',\n",
              "       '13 Years and 5 Months', '13 Years and 6 Months',\n",
              "       '13 Years and 7 Months', '22 Years and 0 Months',\n",
              "       '26 Years and 1 Months', '26 Years and 2 Months',\n",
              "       '13 Years and 4 Months', '13 Years and 9 Months',\n",
              "       '27 Years and 11 Months', '28 Years and 0 Months',\n",
              "       '28 Years and 1 Months', '28 Years and 2 Months',\n",
              "       '28 Years and 3 Months', '28 Years and 4 Months',\n",
              "       '28 Years and 5 Months', '28 Years and 6 Months',\n",
              "       '7 Years and 10 Months', '7 Years and 11 Months',\n",
              "       '8 Years and 0 Months', '8 Years and 1 Months',\n",
              "       '8 Years and 2 Months', '8 Years and 3 Months',\n",
              "       '8 Years and 4 Months', '8 Years and 5 Months',\n",
              "       '24 Years and 3 Months', '24 Years and 4 Months',\n",
              "       '24 Years and 5 Months', '24 Years and 6 Months',\n",
              "       '24 Years and 7 Months', '24 Years and 8 Months',\n",
              "       '24 Years and 9 Months', '1 Years and 2 Months',\n",
              "       '1 Years and 3 Months', '1 Years and 4 Months',\n",
              "       '1 Years and 5 Months', '1 Years and 6 Months',\n",
              "       '1 Years and 7 Months', '1 Years and 8 Months',\n",
              "       '10 Years and 11 Months', '11 Years and 0 Months',\n",
              "       '11 Years and 1 Months', '11 Years and 2 Months',\n",
              "       '11 Years and 3 Months', '11 Years and 4 Months',\n",
              "       '11 Years and 5 Months', '11 Years and 6 Months',\n",
              "       '19 Years and 11 Months', '20 Years and 0 Months',\n",
              "       '20 Years and 1 Months', '10 Years and 9 Months',\n",
              "       '10 Years and 10 Months', '14 Years and 4 Months',\n",
              "       '14 Years and 5 Months', '14 Years and 6 Months',\n",
              "       '20 Years and 8 Months', '20 Years and 9 Months',\n",
              "       '20 Years and 10 Months', '20 Years and 11 Months',\n",
              "       '21 Years and 0 Months', '21 Years and 1 Months',\n",
              "       '21 Years and 2 Months', '21 Years and 3 Months',\n",
              "       '0 Years and 4 Months', '0 Years and 5 Months',\n",
              "       '0 Years and 6 Months', '0 Years and 8 Months',\n",
              "       '0 Years and 9 Months', '0 Years and 10 Months',\n",
              "       '31 Years and 7 Months', '31 Years and 8 Months',\n",
              "       '31 Years and 9 Months', '31 Years and 10 Months',\n",
              "       '31 Years and 11 Months', '32 Years and 1 Months',\n",
              "       '12 Years and 11 Months', '13 Years and 0 Months',\n",
              "       '27 Years and 10 Months', '11 Years and 7 Months',\n",
              "       '11 Years and 8 Months', '11 Years and 9 Months',\n",
              "       '11 Years and 10 Months', '24 Years and 10 Months',\n",
              "       '24 Years and 11 Months', '25 Years and 0 Months',\n",
              "       '25 Years and 1 Months', '25 Years and 2 Months',\n",
              "       '25 Years and 3 Months', '18 Years and 0 Months',\n",
              "       '31 Years and 4 Months', '31 Years and 5 Months',\n",
              "       '31 Years and 6 Months', '5 Years and 2 Months',\n",
              "       '5 Years and 3 Months', '5 Years and 4 Months',\n",
              "       '5 Years and 5 Months', '5 Years and 6 Months',\n",
              "       '5 Years and 7 Months', '5 Years and 8 Months',\n",
              "       '5 Years and 9 Months', '2 Years and 11 Months',\n",
              "       '3 Years and 0 Months', '3 Years and 1 Months',\n",
              "       '3 Years and 2 Months', '3 Years and 3 Months',\n",
              "       '3 Years and 4 Months', '3 Years and 5 Months',\n",
              "       '3 Years and 6 Months', '16 Years and 4 Months',\n",
              "       '16 Years and 5 Months', '16 Years and 6 Months',\n",
              "       '16 Years and 7 Months', '16 Years and 8 Months',\n",
              "       '16 Years and 9 Months', '22 Years and 11 Months',\n",
              "       '23 Years and 0 Months', '23 Years and 2 Months',\n",
              "       '23 Years and 3 Months', '23 Years and 4 Months',\n",
              "       '23 Years and 5 Months', '23 Years and 6 Months',\n",
              "       '8 Years and 6 Months', '8 Years and 7 Months',\n",
              "       '4 Years and 5 Months', '4 Years and 6 Months',\n",
              "       '4 Years and 7 Months', '4 Years and 8 Months',\n",
              "       '4 Years and 9 Months', '4 Years and 10 Months',\n",
              "       '4 Years and 11 Months', '5 Years and 0 Months',\n",
              "       '32 Years and 8 Months', '33 Years and 2 Months',\n",
              "       '33 Years and 3 Months', '12 Years and 2 Months',\n",
              "       '32 Years and 4 Months', '29 Years and 11 Months',\n",
              "       '30 Years and 0 Months', '30 Years and 2 Months',\n",
              "       '26 Years and 3 Months', '26 Years and 4 Months',\n",
              "       '26 Years and 5 Months', '7 Years and 6 Months',\n",
              "       '7 Years and 7 Months', '7 Years and 8 Months',\n",
              "       '7 Years and 9 Months', '28 Years and 7 Months',\n",
              "       '28 Years and 8 Months', '28 Years and 9 Months',\n",
              "       '28 Years and 10 Months', '29 Years and 5 Months',\n",
              "       '29 Years and 7 Months', '20 Years and 2 Months',\n",
              "       '20 Years and 3 Months', '20 Years and 4 Months',\n",
              "       '20 Years and 5 Months', '20 Years and 6 Months',\n",
              "       '20 Years and 7 Months', '28 Years and 11 Months',\n",
              "       '29 Years and 0 Months', '13 Years and 10 Months',\n",
              "       '1 Years and 9 Months', '1 Years and 10 Months',\n",
              "       '1 Years and 11 Months', '33 Years and 5 Months',\n",
              "       '33 Years and 6 Months', '33 Years and 7 Months',\n",
              "       '33 Years and 8 Months', '29 Years and 1 Months',\n",
              "       '5 Years and 1 Months', '5 Years and 10 Months',\n",
              "       '5 Years and 11 Months', '6 Years and 0 Months',\n",
              "       '6 Years and 1 Months', '6 Years and 2 Months',\n",
              "       '6 Years and 3 Months', '22 Years and 9 Months',\n",
              "       '22 Years and 10 Months', '23 Years and 1 Months',\n",
              "       '22 Years and 2 Months', '15 Years and 4 Months',\n",
              "       '15 Years and 5 Months', '15 Years and 6 Months',\n",
              "       '15 Years and 7 Months', '15 Years and 8 Months',\n",
              "       '15 Years and 9 Months', '15 Years and 10 Months',\n",
              "       '15 Years and 11 Months', '2 Years and 3 Months',\n",
              "       '2 Years and 4 Months', '2 Years and 5 Months',\n",
              "       '2 Years and 6 Months', '2 Years and 7 Months',\n",
              "       '2 Years and 8 Months', '2 Years and 9 Months',\n",
              "       '2 Years and 10 Months', '2 Years and 0 Months',\n",
              "       '16 Years and 2 Months', '16 Years and 3 Months',\n",
              "       '22 Years and 8 Months', '9 Years and 5 Months',\n",
              "       '9 Years and 7 Months', '9 Years and 8 Months',\n",
              "       '9 Years and 9 Months', '11 Years and 11 Months',\n",
              "       '12 Years and 0 Months', '12 Years and 1 Months',\n",
              "       '24 Years and 2 Months', '16 Years and 0 Months',\n",
              "       '16 Years and 1 Months', '14 Years and 7 Months',\n",
              "       '25 Years and 4 Months', '15 Years and 3 Months',\n",
              "       '7 Years and 1 Months', '7 Years and 2 Months',\n",
              "       '7 Years and 3 Months', '7 Years and 4 Months',\n",
              "       '7 Years and 5 Months', '23 Years and 7 Months',\n",
              "       '23 Years and 8 Months', '23 Years and 9 Months',\n",
              "       '30 Years and 1 Months', '29 Years and 10 Months',\n",
              "       '9 Years and 10 Months', '9 Years and 11 Months',\n",
              "       '10 Years and 0 Months', '2 Years and 2 Months',\n",
              "       '23 Years and 10 Months', '23 Years and 11 Months',\n",
              "       '24 Years and 0 Months', '24 Years and 1 Months',\n",
              "       '6 Years and 4 Months', '0 Years and 1 Months',\n",
              "       '0 Years and 2 Months', '0 Years and 3 Months',\n",
              "       '0 Years and 7 Months', '3 Years and 8 Months',\n",
              "       '32 Years and 7 Months', '3 Years and 7 Months',\n",
              "       '3 Years and 9 Months', '3 Years and 10 Months',\n",
              "       '0 Years and 11 Months', '1 Years and 0 Months',\n",
              "       '1 Years and 1 Months', '4 Years and 4 Months',\n",
              "       '3 Years and 11 Months', '4 Years and 0 Months',\n",
              "       '4 Years and 1 Months', '4 Years and 2 Months',\n",
              "       '4 Years and 3 Months', '2 Years and 1 Months'], dtype=object)"
            ]
          },
          "metadata": {},
          "execution_count": 138
        }
      ]
    },
    {
      "cell_type": "code",
      "source": [
        "# Verificar o formato:\n",
        "formato_age = '\\d+ Years and \\d+ Months'\n",
        "np.any(\n",
        "    data_df['Credit_History_Age']\\\n",
        "    .dropna()\\\n",
        "    .apply(lambda value: not re.match(formato_age, value))\n",
        ")"
      ],
      "metadata": {
        "id": "dEZ7l4rcI4gs",
        "outputId": "2143f6a4-4d00-498d-86d1-fb6d27b484bc",
        "colab": {
          "base_uri": "https://localhost:8080/"
        }
      },
      "execution_count": 141,
      "outputs": [
        {
          "output_type": "execute_result",
          "data": {
            "text/plain": [
              "False"
            ]
          },
          "metadata": {},
          "execution_count": 141
        }
      ]
    },
    {
      "cell_type": "code",
      "source": [
        "# Transformar texto em numero de meses\n",
        "def extract_number_months(years_months_str):\n",
        "    y, m = np.array(years_months_str.split('-')).astype(int)\n",
        "    return y * 12 + m\n",
        "\n",
        "# Transform: '{y} Years and {m} Months' into '{y}-{m}', and then apply extract_number_months\n",
        "data_df['Credit_History_Age'] = data_df['Credit_History_Age']\\\n",
        "    .dropna()\\\n",
        "    .str.replace(' Years and ', '-')\\\n",
        "    .str.replace(' Months', '')\\\n",
        "    .apply(extract_number_months)\n",
        "\n",
        "data_df['Credit_History_Age']"
      ],
      "metadata": {
        "id": "BlWAG-rdJrCp",
        "outputId": "768d2cd0-7f53-4d97-f222-063c328e5440",
        "colab": {
          "base_uri": "https://localhost:8080/"
        }
      },
      "execution_count": 156,
      "outputs": [
        {
          "output_type": "execute_result",
          "data": {
            "text/plain": [
              "0        265.0\n",
              "1          NaN\n",
              "2        267.0\n",
              "3        268.0\n",
              "4        269.0\n",
              "         ...  \n",
              "99995    378.0\n",
              "99996    379.0\n",
              "99997    380.0\n",
              "99998    381.0\n",
              "99999    382.0\n",
              "Name: Credit_History_Age, Length: 100000, dtype: float64"
            ]
          },
          "metadata": {},
          "execution_count": 156
        }
      ]
    },
    {
      "cell_type": "markdown",
      "source": [
        "## Tratar Dados Nulos"
      ],
      "metadata": {
        "id": "xqy96LFigdjj"
      }
    },
    {
      "cell_type": "code",
      "source": [],
      "metadata": {
        "id": "Hhky9tXdNTNb"
      },
      "execution_count": null,
      "outputs": []
    },
    {
      "cell_type": "markdown",
      "source": [
        "# Modelos"
      ],
      "metadata": {
        "id": "KcKmO7lcggyT"
      }
    }
  ]
}